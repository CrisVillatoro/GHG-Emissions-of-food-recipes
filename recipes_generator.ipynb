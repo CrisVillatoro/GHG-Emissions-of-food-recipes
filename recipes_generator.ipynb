{
 "cells": [
  {
   "attachments": {},
   "cell_type": "markdown",
   "metadata": {},
   "source": [
    "# Food recipes generator"
   ]
  },
  {
   "cell_type": "code",
   "execution_count": 1,
   "metadata": {},
   "outputs": [],
   "source": [
    "# Import libraries\n",
    "import tensorflow as tf\n",
    "from tensorflow import keras\n",
    "import matplotlib.pyplot as plt\n",
    "import numpy as np\n",
    "import platform\n",
    "import time\n",
    "\n",
    "import pathlib\n",
    "import os\n",
    "import json\n",
    "import zipfile\n",
    "\n",
    "import emoji"
   ]
  },
  {
   "attachments": {},
   "cell_type": "markdown",
   "metadata": {},
   "source": [
    "### Load the data"
   ]
  },
  {
   "cell_type": "code",
   "execution_count": 2,
   "metadata": {},
   "outputs": [],
   "source": [
    "# Create cache folder.\n",
    "cache_dir = './tmp'\n",
    "pathlib.Path(cache_dir).mkdir(exist_ok=True)"
   ]
  },
  {
   "cell_type": "code",
   "execution_count": 3,
   "metadata": {},
   "outputs": [],
   "source": [
    "dataset_file_path = 'datasets/recipes_raw.zip'"
   ]
  },
  {
   "cell_type": "code",
   "execution_count": 4,
   "metadata": {},
   "outputs": [
    {
     "name": "stdout",
     "output_type": "stream",
     "text": [
      "total 503896\n",
      "drwxr-xr-x@ 8 CristaVillatoro  staff       256 Mar 24 09:04 \u001b[34m.\u001b[m\u001b[m\n",
      "drwxr-xr-x@ 5 CristaVillatoro  staff       160 Mar 28 14:11 \u001b[34m..\u001b[m\u001b[m\n",
      "-rw-r--r--@ 1 CristaVillatoro  staff      6148 Mar 24 09:04 .DS_Store\n",
      "drwx------@ 6 CristaVillatoro  staff       192 Mar 24 09:04 \u001b[34mrecipes_raw\u001b[m\u001b[m\n",
      "-rw-r--r--@ 1 CristaVillatoro  staff  53355492 Mar 23 16:51 recipes_raw.zip\n",
      "-rw-rw-r--@ 1 CristaVillatoro  staff  49784325 Mar 23  2018 recipes_raw_nosource_ar.json\n",
      "-rw-rw-r--@ 1 CristaVillatoro  staff  61133971 Mar 23  2018 recipes_raw_nosource_epi.json\n",
      "-rw-rw-r--@ 1 CristaVillatoro  staff  93702755 Mar 23  2018 recipes_raw_nosource_fn.json\n"
     ]
    }
   ],
   "source": [
    "!ls -la ./tmp/datasets/"
   ]
  },
  {
   "cell_type": "code",
   "execution_count": 5,
   "metadata": {},
   "outputs": [],
   "source": [
    "def load_dataset(silent=False):\n",
    "    dataset_file_names = [\n",
    "        'recipes_raw_nosource_ar.json',\n",
    "        'recipes_raw_nosource_epi.json',\n",
    "        'recipes_raw_nosource_fn.json',\n",
    "    ]\n",
    "    \n",
    "    dataset = []\n",
    "\n",
    "    for dataset_file_name in dataset_file_names:\n",
    "        dataset_file_path = f'{cache_dir}/datasets/{dataset_file_name}'\n",
    "\n",
    "        with open(dataset_file_path) as dataset_file:\n",
    "            json_data_dict = json.load(dataset_file)\n",
    "            json_data_list = list(json_data_dict.values())\n",
    "            dict_keys = [key for key in json_data_list[0]]\n",
    "            dict_keys.sort()\n",
    "            dataset += json_data_list\n",
    "\n",
    "            if silent == False:\n",
    "                print(dataset_file_path)\n",
    "                print('===========================================')\n",
    "                print('Number of examples: ', len(json_data_list), '\\n')\n",
    "                print('Example object keys:\\n', dict_keys, '\\n')\n",
    "                print('Example object:\\n', json_data_list[0], '\\n')\n",
    "                print('Required keys:\\n')\n",
    "                print('  title: ', json_data_list[0]['title'], '\\n')\n",
    "                print('  ingredients: ', json_data_list[0]['ingredients'], '\\n')\n",
    "                print('  instructions: ', json_data_list[0]['instructions'])\n",
    "                print('\\n\\n')\n",
    "\n",
    "    return dataset  "
   ]
  },
  {
   "cell_type": "code",
   "execution_count": 6,
   "metadata": {},
   "outputs": [
    {
     "name": "stdout",
     "output_type": "stream",
     "text": [
      "./tmp/datasets/recipes_raw_nosource_ar.json\n",
      "===========================================\n",
      "Number of examples:  39802 \n",
      "\n",
      "Example object keys:\n",
      " ['ingredients', 'instructions', 'picture_link', 'title'] \n",
      "\n",
      "Example object:\n",
      " {'title': 'Slow Cooker Chicken and Dumplings', 'ingredients': ['4 skinless, boneless chicken breast halves ADVERTISEMENT', '2 tablespoons butter ADVERTISEMENT', '2 (10.75 ounce) cans condensed cream of chicken soup ADVERTISEMENT', '1 onion, finely diced ADVERTISEMENT', '2 (10 ounce) packages refrigerated biscuit dough, torn into pieces ADVERTISEMENT', 'ADVERTISEMENT'], 'instructions': 'Place the chicken, butter, soup, and onion in a slow cooker, and fill with enough water to cover.\\nCover, and cook for 5 to 6 hours on High. About 30 minutes before serving, place the torn biscuit dough in the slow cooker. Cook until the dough is no longer raw in the center.\\n', 'picture_link': '55lznCYBbs2mT8BTx6BTkLhynGHzM.S'} \n",
      "\n",
      "Required keys:\n",
      "\n",
      "  title:  Slow Cooker Chicken and Dumplings \n",
      "\n",
      "  ingredients:  ['4 skinless, boneless chicken breast halves ADVERTISEMENT', '2 tablespoons butter ADVERTISEMENT', '2 (10.75 ounce) cans condensed cream of chicken soup ADVERTISEMENT', '1 onion, finely diced ADVERTISEMENT', '2 (10 ounce) packages refrigerated biscuit dough, torn into pieces ADVERTISEMENT', 'ADVERTISEMENT'] \n",
      "\n",
      "  instructions:  Place the chicken, butter, soup, and onion in a slow cooker, and fill with enough water to cover.\n",
      "Cover, and cook for 5 to 6 hours on High. About 30 minutes before serving, place the torn biscuit dough in the slow cooker. Cook until the dough is no longer raw in the center.\n",
      "\n",
      "\n",
      "\n",
      "\n",
      "./tmp/datasets/recipes_raw_nosource_epi.json\n",
      "===========================================\n",
      "Number of examples:  25323 \n",
      "\n",
      "Example object keys:\n",
      " ['ingredients', 'instructions', 'picture_link', 'title'] \n",
      "\n",
      "Example object:\n",
      " {'ingredients': ['12 egg whites', '12 egg yolks', '1 1/2 cups sugar', '3/4 cup rye whiskey', '12 egg whites', '3/4 cup brandy', '1/2 cup rum', '1 to 2 cups heavy cream, lightly whipped', 'Garnish: ground nutmeg'], 'picture_link': None, 'instructions': 'Beat the egg whites until stiff, gradually adding in 3/4 cup sugar. Set aside. Beat the egg yolks until they are thick and pale and add the other 3/4 cup sugar and stir in rye whiskey. Blend well. Fold the egg white mixture into the yolk mixture and add the brandy and the rum. Beat the mixture well. To serve, fold the lightly whipped heavy cream into the eggnog. (If a thinner mixture is desired, add the heavy cream unwhipped.) Sprinkle the top of the eggnog with the nutmeg to taste.\\nBeat the egg whites until stiff, gradually adding in 3/4 cup sugar. Set aside. Beat the egg yolks until they are thick and pale and add the other 3/4 cup sugar and stir in rye whiskey. Blend well. Fold the egg white mixture into the yolk mixture and add the brandy and the rum. Beat the mixture well. To serve, fold the lightly whipped heavy cream into the eggnog. (If a thinner mixture is desired, add the heavy cream unwhipped.) Sprinkle the top of the eggnog with the nutmeg to taste.', 'title': 'Christmas Eggnog '} \n",
      "\n",
      "Required keys:\n",
      "\n",
      "  title:  Christmas Eggnog  \n",
      "\n",
      "  ingredients:  ['12 egg whites', '12 egg yolks', '1 1/2 cups sugar', '3/4 cup rye whiskey', '12 egg whites', '3/4 cup brandy', '1/2 cup rum', '1 to 2 cups heavy cream, lightly whipped', 'Garnish: ground nutmeg'] \n",
      "\n",
      "  instructions:  Beat the egg whites until stiff, gradually adding in 3/4 cup sugar. Set aside. Beat the egg yolks until they are thick and pale and add the other 3/4 cup sugar and stir in rye whiskey. Blend well. Fold the egg white mixture into the yolk mixture and add the brandy and the rum. Beat the mixture well. To serve, fold the lightly whipped heavy cream into the eggnog. (If a thinner mixture is desired, add the heavy cream unwhipped.) Sprinkle the top of the eggnog with the nutmeg to taste.\n",
      "Beat the egg whites until stiff, gradually adding in 3/4 cup sugar. Set aside. Beat the egg yolks until they are thick and pale and add the other 3/4 cup sugar and stir in rye whiskey. Blend well. Fold the egg white mixture into the yolk mixture and add the brandy and the rum. Beat the mixture well. To serve, fold the lightly whipped heavy cream into the eggnog. (If a thinner mixture is desired, add the heavy cream unwhipped.) Sprinkle the top of the eggnog with the nutmeg to taste.\n",
      "\n",
      "\n",
      "\n",
      "./tmp/datasets/recipes_raw_nosource_fn.json\n",
      "===========================================\n",
      "Number of examples:  60039 \n",
      "\n",
      "Example object keys:\n",
      " ['ingredients', 'instructions', 'picture_link', 'title'] \n",
      "\n",
      "Example object:\n",
      " {'instructions': 'Toss ingredients lightly and spoon into a buttered baking dish. Top with additional crushed cracker crumbs, and brush with melted butter. Bake in a preheated at 350 degrees oven for 25 to 30 minutes or until delicately browned.', 'ingredients': ['1/2 cup celery, finely chopped', '1 small green pepper finely chopped', '1/2 cup finely sliced green onions', '1/4 cup chopped parsley', '1 pound crabmeat', '1 1/4 cups coarsely crushed cracker crumbs', '1/2 teaspoon salt', '3/4 teaspoons dry mustard', 'Dash hot sauce', '1/4 cup heavy cream', '1/2 cup melted butter'], 'title': \"Grammie Hamblet's Deviled Crab\", 'picture_link': None} \n",
      "\n",
      "Required keys:\n",
      "\n",
      "  title:  Grammie Hamblet's Deviled Crab \n",
      "\n",
      "  ingredients:  ['1/2 cup celery, finely chopped', '1 small green pepper finely chopped', '1/2 cup finely sliced green onions', '1/4 cup chopped parsley', '1 pound crabmeat', '1 1/4 cups coarsely crushed cracker crumbs', '1/2 teaspoon salt', '3/4 teaspoons dry mustard', 'Dash hot sauce', '1/4 cup heavy cream', '1/2 cup melted butter'] \n",
      "\n",
      "  instructions:  Toss ingredients lightly and spoon into a buttered baking dish. Top with additional crushed cracker crumbs, and brush with melted butter. Bake in a preheated at 350 degrees oven for 25 to 30 minutes or until delicately browned.\n",
      "\n",
      "\n",
      "\n"
     ]
    }
   ],
   "source": [
    "dataset_raw = load_dataset() "
   ]
  },
  {
   "cell_type": "code",
   "execution_count": 7,
   "metadata": {},
   "outputs": [
    {
     "name": "stdout",
     "output_type": "stream",
     "text": [
      "Total number of raw examples:  125164\n"
     ]
    }
   ],
   "source": [
    "print('Total number of raw examples: ', len(dataset_raw))"
   ]
  },
  {
   "attachments": {},
   "cell_type": "markdown",
   "metadata": {},
   "source": [
    "### Processing data"
   ]
  },
  {
   "cell_type": "code",
   "execution_count": 8,
   "metadata": {},
   "outputs": [],
   "source": [
    "# Filters out recipes which don't have either title or ingredients or instructions.\n",
    "def recipe_validate_required_fields(recipe):\n",
    "    required_keys = ['title', 'ingredients', 'instructions']\n",
    "    \n",
    "    if not recipe:\n",
    "        return False\n",
    "    \n",
    "    for required_key in required_keys:\n",
    "        if not recipe[required_key]:\n",
    "            return False\n",
    "        \n",
    "        if type(recipe[required_key]) == list and len(recipe[required_key]) == 0:\n",
    "            return False\n",
    "    \n",
    "    return True"
   ]
  },
  {
   "cell_type": "code",
   "execution_count": 9,
   "metadata": {},
   "outputs": [
    {
     "name": "stdout",
     "output_type": "stream",
     "text": [
      "Dataset size BEFORE validation 125164\n",
      "Dataset size AFTER validation 122938\n",
      "Number of invalide recipes 2226\n"
     ]
    }
   ],
   "source": [
    "dataset_validated = [recipe for recipe in dataset_raw if recipe_validate_required_fields(recipe)]\n",
    "\n",
    "print('Dataset size BEFORE validation', len(dataset_raw))\n",
    "print('Dataset size AFTER validation', len(dataset_validated))\n",
    "print('Number of invalide recipes', len(dataset_raw) - len(dataset_validated))"
   ]
  },
  {
   "attachments": {},
   "cell_type": "markdown",
   "metadata": {},
   "source": [
    "Converting recipes objects into strings"
   ]
  },
  {
   "cell_type": "code",
   "execution_count": 10,
   "metadata": {},
   "outputs": [],
   "source": [
    "# Adding Landmarks\n",
    "STOP_WORD_TITLE = emoji.emojize(':books:')\n",
    "STOP_WORD_INGREDIENTS = emoji.emojize('\\n:hot_pepper:\\n\\n')\n",
    "STOP_WORD_INSTRUCTIONS = emoji.emojize('\\n:cook:\\n\\n')"
   ]
  },
  {
   "cell_type": "code",
   "execution_count": 11,
   "metadata": {},
   "outputs": [],
   "source": [
    "# Converts recipe object to string (sequence of characters) for later usage in RNN input.\n",
    "def recipe_to_string(recipe):\n",
    "    # This string is presented as a part of recipes so we need to clean it up.\n",
    "    noize_string = 'ADVERTISEMENT'\n",
    "    \n",
    "    title = recipe['title']\n",
    "    ingredients = recipe['ingredients']\n",
    "    instructions = recipe['instructions'].split('\\n')\n",
    "    \n",
    "    ingredients_string = ''\n",
    "    for ingredient in ingredients:\n",
    "        ingredient = ingredient.replace(noize_string, '')\n",
    "        if ingredient:\n",
    "            ingredients_string += f'• {ingredient}\\n'\n",
    "    \n",
    "    instructions_string = ''\n",
    "    for instruction in instructions:\n",
    "        instruction = instruction.replace(noize_string, '')\n",
    "        if instruction:\n",
    "            instructions_string += f'▪︎ {instruction}\\n'\n",
    "    \n",
    "    return f'{STOP_WORD_TITLE}{title}\\n{STOP_WORD_INGREDIENTS}{ingredients_string}{STOP_WORD_INSTRUCTIONS}{instructions_string}'"
   ]
  },
  {
   "cell_type": "code",
   "execution_count": 12,
   "metadata": {},
   "outputs": [
    {
     "name": "stdout",
     "output_type": "stream",
     "text": [
      "Stringified dataset size:  122938\n"
     ]
    }
   ],
   "source": [
    "dataset_stringified = [recipe_to_string(recipe) for recipe in dataset_validated]\n",
    "\n",
    "print('Stringified dataset size: ', len(dataset_stringified))"
   ]
  },
  {
   "cell_type": "code",
   "execution_count": 13,
   "metadata": {},
   "outputs": [
    {
     "name": "stdout",
     "output_type": "stream",
     "text": [
      "Recipe #1\n",
      "---------\n",
      "📚Slow Cooker Chicken and Dumplings\n",
      "\n",
      "🌶️\n",
      "\n",
      "• 4 skinless, boneless chicken breast halves \n",
      "• 2 tablespoons butter \n",
      "• 2 (10.75 ounce) cans condensed cream of chicken soup \n",
      "• 1 onion, finely diced \n",
      "• 2 (10 ounce) packages refrigerated biscuit dough, torn into pieces \n",
      "\n",
      "🧑‍🍳\n",
      "\n",
      "▪︎ Place the chicken, butter, soup, and onion in a slow cooker, and fill with enough water to cover.\n",
      "▪︎ Cover, and cook for 5 to 6 hours on High. About 30 minutes before serving, place the torn biscuit dough in the slow cooker. Cook until the dough is no longer raw in the center.\n",
      "\n",
      "\n",
      "\n",
      "Recipe #2\n",
      "---------\n",
      "📚Awesome Slow Cooker Pot Roast\n",
      "\n",
      "🌶️\n",
      "\n",
      "• 2 (10.75 ounce) cans condensed cream of mushroom soup \n",
      "• 1 (1 ounce) package dry onion soup mix \n",
      "• 1 1/4 cups water \n",
      "• 5 1/2 pounds pot roast \n",
      "\n",
      "🧑‍🍳\n",
      "\n",
      "▪︎ In a slow cooker, mix cream of mushroom soup, dry onion soup mix and water. Place pot roast in slow cooker and coat with soup mixture.\n",
      "▪︎ Cook on High setting for 3 to 4 hours, or on Low setting for 8 to 9 hours.\n",
      "\n",
      "\n",
      "\n",
      "Recipe #3\n",
      "---------\n",
      "📚Brown Sugar Meatloaf\n",
      "\n",
      "🌶️\n",
      "\n",
      "• 1/2 cup packed brown sugar \n",
      "• 1/2 cup ketchup \n",
      "• 1 1/2 pounds lean ground beef \n",
      "• 3/4 cup milk \n",
      "• 2 eggs \n",
      "• 1 1/2 teaspoons salt \n",
      "• 1/4 teaspoon ground black pepper \n",
      "• 1 small onion, chopped \n",
      "• 1/4 teaspoon ground ginger \n",
      "• 3/4 cup finely crushed saltine cracker crumbs \n",
      "\n",
      "🧑‍🍳\n",
      "\n",
      "▪︎ Preheat oven to 350 degrees F (175 degrees C). Lightly grease a 5x9 inch loaf pan.\n",
      "▪︎ Press the brown sugar in the bottom of the prepared loaf pan and spread the ketchup over the sugar.\n",
      "▪︎ In a mixing bowl, mix thoroughly all remaining ingredients and shape into a loaf. Place on top of the ketchup.\n",
      "▪︎ Bake in preheated oven for 1 hour or until juices are clear.\n",
      "\n",
      "\n",
      "\n",
      "Recipe #4\n",
      "---------\n",
      "📚Best Chocolate Chip Cookies\n",
      "\n",
      "🌶️\n",
      "\n",
      "• 1 cup butter, softened \n",
      "• 1 cup white sugar \n",
      "• 1 cup packed brown sugar \n",
      "• 2 eggs \n",
      "• 2 teaspoons vanilla extract \n",
      "• 3 cups all-purpose flour \n",
      "• 1 teaspoon baking soda \n",
      "• 2 teaspoons hot water \n",
      "• 1/2 teaspoon salt \n",
      "• 2 cups semisweet chocolate chips \n",
      "• 1 cup chopped walnuts \n",
      "\n",
      "🧑‍🍳\n",
      "\n",
      "▪︎ Preheat oven to 350 degrees F (175 degrees C).\n",
      "▪︎ Cream together the butter, white sugar, and brown sugar until smooth. Beat in the eggs one at a time, then stir in the vanilla. Dissolve baking soda in hot water. Add to batter along with salt. Stir in flour, chocolate chips, and nuts. Drop by large spoonfuls onto ungreased pans.\n",
      "▪︎ Bake for about 10 minutes in the preheated oven, or until edges are nicely browned.\n",
      "\n",
      "\n",
      "\n",
      "Recipe #5\n",
      "---------\n",
      "📚Homemade Mac and Cheese Casserole\n",
      "\n",
      "🌶️\n",
      "\n",
      "• 8 ounces whole wheat rotini pasta \n",
      "• 3 cups fresh broccoli florets \n",
      "• 1 medium onion, chopped \n",
      "• 3 cloves garlic, minced \n",
      "• 4 tablespoons butter, divided \n",
      "• 2 tablespoons all-purpose flour \n",
      "• 1/4 teaspoon salt \n",
      "• 1/8 teaspoon ground black pepper \n",
      "• 2 1/2 cups milk \n",
      "• 8 ounces Cheddar cheese, shredded \n",
      "• 4 ounces reduced-fat cream cheese, cubed and softened \n",
      "• 1/2 cup fine dry Italian-seasoned bread crumbs \n",
      "• Reynolds Wrap® Non Stick Aluminum Foil \n",
      "\n",
      "🧑‍🍳\n",
      "\n",
      "▪︎ Preheat oven to 350 degrees F. Line a 2-quart casserole dish with Reynolds Wrap(R) Pan Lining Paper, parchment side up. No need to grease dish.\n",
      "▪︎ Cook the pasta in a large saucepan according to the package directions, adding the broccoli for the last 3 minutes of cooking. Drain. Return to the saucepan and set aside.\n",
      "▪︎ Cook the onion and garlic in 2 tablespoons hot butter in a large skillet 5 to 7 minutes or until tender. Stir in flour, salt, and black pepper. Add the milk all at once. Cook and stir over medium heat until slightly thickened and bubbly. Add cheddar cheese and cream cheese, stirring until melted. Pour cheese sauce over the pasta and broccoli and stir until well combined.\n",
      "▪︎ Melt the remaining 2 tablespoons butter and mix with the bread crumbs in a small bowl. Transfer the pasta mixture to the prepared casserole dish. Top with the buttery bread crumbs.\n",
      "▪︎ Bake, uncovered, about 25 minutes or until bubbly and internal temperature is 165 degrees F. Let stand for 10 minutes before serving.\n",
      "\n",
      "\n",
      "\n",
      "Recipe #6\n",
      "---------\n",
      "📚Banana Banana Bread\n",
      "\n",
      "🌶️\n",
      "\n",
      "• 2 cups all-purpose flour \n",
      "• 1 teaspoon baking soda \n",
      "• 1/4 teaspoon salt \n",
      "• 1/2 cup butter \n",
      "• 3/4 cup brown sugar \n",
      "• 2 eggs, beaten \n",
      "• 2 1/3 cups mashed overripe bananas \n",
      "\n",
      "🧑‍🍳\n",
      "\n",
      "▪︎ Preheat oven to 350 degrees F (175 degrees C). Lightly grease a 9x5 inch loaf pan.\n",
      "▪︎ In a large bowl, combine flour, baking soda and salt. In a separate bowl, cream together butter and brown sugar. Stir in eggs and mashed bananas until well blended. Stir banana mixture into flour mixture; stir just to moisten. Pour batter into prepared loaf pan.\n",
      "▪︎ Bake in preheated oven for 60 to 65 minutes, until a toothpick inserted into center of the loaf comes out clean. Let bread cool in pan for 10 minutes, then turn out onto a wire rack.\n",
      "\n",
      "\n",
      "\n",
      "Recipe #7\n",
      "---------\n",
      "📚Chef John's Fisherman's Pie\n",
      "\n",
      "🌶️\n",
      "\n",
      "• For potato crust: \n",
      "• 3 russet potatoes, peeled and cut into chunks \n",
      "• 3 tablespoons butter \n",
      "• 1 pinch freshly grated nutmeg \n",
      "• salt and ground black pepper to taste \n",
      "• 1 pinch cayenne pepper, or to taste \n",
      "• 1/2 cup milk \n",
      "• For the spinach: \n",
      "• 2 teaspoons olive oil \n",
      "• 12 ounces baby spinach leaves \n",
      "• For the sauce: \n",
      "• 3 tablespoons butter \n",
      "• 3 tablespoons all-purpose flour \n",
      "• 2 cloves garlic, minced \n",
      "• 2 cups cold milk, divided \n",
      "• 2 teaspoons lemon zest \n",
      "• For the rest: \n",
      "• 1 tablespoon butter \n",
      "• salt and ground black pepper to taste \n",
      "• 1 pinch cayenne pepper, or to taste \n",
      "• 2 pounds boneless cod fillets \n",
      "• 1/2 lemon, juiced \n",
      "• 1 tablespoon chopped fresh chives for garnish \n",
      "\n",
      "🧑‍🍳\n",
      "\n",
      "▪︎ Bring a large saucepan of salted water and to a boil; add russet potatoes to boiling water and cook until very tender, about 20 minutes. Drain well. Mash in 3 tablespoons butter until thoroughly combined. Season with nutmeg, salt, black pepper, and cayenne pepper to taste. Mash 1/2 cup milk into potato mixture until smooth.\n",
      "▪︎ Drizzle olive oil in a large Dutch oven over medium-high heat, add spinach, and season with a big pinch of salt. Cook, stirring occasionally, until spinach has wilted, about 1 minute. Transfer to a bowl lined with paper towels to wick away excess moisture.\n",
      "▪︎ Heat 3 tablespoons butter and flour in a saucepan over medium heat; whisk mixture to a smooth paste. Cook, stirring constantly, until mixture has a nutty smell and is slightly browned, about 2 minutes. Add chopped garlic; whisk until fragrant, 10 to 20 seconds.\n",
      "▪︎ Whisk 1 cup cold milk into flour mixture; cook until thickened. Whisk in remaining 1 cup milk and lemon zest. Bring white sauce to a gentle simmer, whisking constantly; season with salt. Turn heat to very low and keep sauce warm.\n",
      "▪︎ Preheat oven to 375 degrees F (190 degrees C). Grease an 8x12-inch casserole dish with 1 tablespoon butter.\n",
      "▪︎ Season buttered pan with salt, black pepper, and cayenne pepper. Lay boneless cod fillets into the pan in a single layer. Season tops of fillets with more salt, black pepper, and cayenne pepper. Spread spinach evenly over fish and drizzle with lemon juice. Spoon white sauce over spinach; give casserole dish several taps and shakes to eliminate bubbles.\n",
      "▪︎ Drop mashed potatoes by heaping spoonfuls over the casserole and spread smoothly to cover. Place dish onto a rimmed baking sheet to catch spills.\n",
      "▪︎ Bake in the preheated oven until bubbling, about 40 minutes. Turn on oven's broiler and broil until potato crust has a golden brown top, about 2 minutes. Fish should flake easily. Let stand 10 minutes before serving. Garnish with a sprinkle of chives.\n",
      "\n",
      "\n",
      "\n",
      "Recipe #8\n",
      "---------\n",
      "📚Mom's Zucchini Bread\n",
      "\n",
      "🌶️\n",
      "\n",
      "• 3 cups all-purpose flour \n",
      "• 1 teaspoon salt \n",
      "• 1 teaspoon baking soda \n",
      "• 1 teaspoon baking powder \n",
      "• 1 tablespoon ground cinnamon \n",
      "• 3 eggs \n",
      "• 1 cup vegetable oil \n",
      "• 2 1/4 cups white sugar \n",
      "• 3 teaspoons vanilla extract \n",
      "• 2 cups grated zucchini \n",
      "• 1 cup chopped walnuts \n",
      "\n",
      "🧑‍🍳\n",
      "\n",
      "▪︎ Grease and flour two 8 x 4 inch pans. Preheat oven to 325 degrees F (165 degrees C).\n",
      "▪︎ Sift flour, salt, baking powder, soda, and cinnamon together in a bowl.\n",
      "▪︎ Beat eggs, oil, vanilla, and sugar together in a large bowl. Add sifted ingredients to the creamed mixture, and beat well. Stir in zucchini and nuts until well combined. Pour batter into prepared pans.\n",
      "▪︎ Bake for 40 to 60 minutes, or until tester inserted in the center comes out clean. Cool in pan on rack for 20 minutes. Remove bread from pan, and completely cool.\n",
      "\n",
      "\n",
      "\n",
      "Recipe #9\n",
      "---------\n",
      "📚The Best Rolled Sugar Cookies\n",
      "\n",
      "🌶️\n",
      "\n",
      "• 1 1/2 cups butter, softened \n",
      "• 2 cups white sugar \n",
      "• 4 eggs \n",
      "• 1 teaspoon vanilla extract \n",
      "• 5 cups all-purpose flour \n",
      "• 2 teaspoons baking powder \n",
      "• 1 teaspoon salt \n",
      "\n",
      "🧑‍🍳\n",
      "\n",
      "▪︎ In a large bowl, cream together butter and sugar until smooth. Beat in eggs and vanilla. Stir in the flour, baking powder, and salt. Cover, and chill dough for at least one hour (or overnight).\n",
      "▪︎ Preheat oven to 400 degrees F (200 degrees C). Roll out dough on floured surface 1/4 to 1/2 inch thick. Cut into shapes with any cookie cutter. Place cookies 1 inch apart on ungreased cookie sheets.\n",
      "▪︎ Bake 6 to 8 minutes in preheated oven. Cool completely.\n",
      "\n",
      "\n",
      "\n",
      "Recipe #10\n",
      "---------\n",
      "📚Singapore Chili Crabs\n",
      "\n",
      "🌶️\n",
      "\n",
      "• Sauce: \n",
      "• 1/2 cup ketchup \n",
      "• 1/2 cup chicken broth \n",
      "• 1 large egg \n",
      "• 2 tablespoons soy sauce \n",
      "• 2 tablespoons chile-garlic sauce (such as sambal oelek) \n",
      "• 1 tablespoon oyster sauce \n",
      "• 1 tablespoon tamarind paste \n",
      "• 2 teaspoons fish sauce \n",
      "• 2 teaspoons palm sugar \n",
      "• 1/4 cup minced shallot \n",
      "• 6 cloves garlic, minced \n",
      "• 2 tablespoons vegetable oil, or more as needed \n",
      "• 2 tablespoons minced fresh ginger root \n",
      "• 1 tablespoon minced serrano pepper \n",
      "• 2 cooked Dungeness crabs, cleaned and cracked \n",
      "• 2 tablespoons chopped fresh cilantro \n",
      "• 2 tablespoons sliced green onion (green part only) \n",
      "\n",
      "🧑‍🍳\n",
      "\n",
      "▪︎ Whisk ketchup, chicken broth, egg, soy sauce, chile-garlic sauce, oyster sauce, tamarind paste, fish sauce, and palm sugar together in a bowl.\n",
      "▪︎ Stir shallots, garlic, oil, ginger, and serrano pepper together in a pot over medium-high heat. Saute until sizzling, about 2 minutes. Add crab to pot, cover the pot with a lid, and shake until crab is completely coated in shallot mixture. Remove lid and cook and stir until heated through, about 3 minutes.\n",
      "▪︎ Pour ketchup mixture into pot, reduce heat to medium, and cook and stir until sauce thickens and crab is hot about 5 minutes. Remove from heat; stir in cilantro and green onions.\n",
      "\n",
      "\n",
      "\n"
     ]
    }
   ],
   "source": [
    "for recipe_index, recipe_string in enumerate(dataset_stringified[:10]):\n",
    "    print('Recipe #{}\\n---------'.format(recipe_index + 1))\n",
    "    print(recipe_string)\n",
    "    print('\\n')"
   ]
  },
  {
   "cell_type": "code",
   "execution_count": 14,
   "metadata": {},
   "outputs": [
    {
     "name": "stdout",
     "output_type": "stream",
     "text": [
      "📚Coconut Cupcakes\n",
      "\n",
      "🌶️\n",
      "\n",
      "• 3/4 pound (3 sticks) unsalted butter, room temperature\n",
      "• 2 cups sugar\n",
      "• 5 extra-large eggs at room temperature\n",
      "• 1 1/2 teaspoons pure vanilla extract\n",
      "• 1 1/2 teaspoons pure almond extract\n",
      "• 3 cups flour\n",
      "• 1 teaspoon baking powder\n",
      "• 1/2 teaspoon baking soda\n",
      "• 1/2 teaspoon kosher salt\n",
      "• 1 cup buttermilk\n",
      "• 14 ounces sweetened, shredded coconut\n",
      "• 1 pound cream cheese at room temperature\n",
      "• 3/4 pound (3 sticks) unsalted butter, room temperature\n",
      "• 1 teaspoon pure vanilla extract\n",
      "• 1/2 teaspoon pure almond extract\n",
      "• 1 1/2 pounds confectioners' sugar, sifted\n",
      "\n",
      "🧑‍🍳\n",
      "\n",
      "▪︎ Watch how to make this recipe.\n",
      "▪︎ Preheat the oven to 325 degrees F.\n",
      "▪︎ In the bowl of an electric mixer fitted with the paddle attachment, cream the butter and sugar on high speed until light and fluffy, about 5 minutes. With the mixer on low speed, add the eggs, 1 at a time, scraping down the bowl after each addition. Add the vanilla and almond extracts and mix well.\n",
      "▪︎ In a separate bowl, sift together the flour, baking powder, baking soda, and salt. In 3 parts, alternately add the dry ingredients and the buttermilk to the batter, beginning and ending with the dry. Mix until just combined. Fold in 7 ounces of coconut.\n",
      "▪︎ Line a muffin pan with paper liners. Fill each liner to the top with batter. Bake for 25 to 35 minutes, until the tops are brown and a toothpick comes out clean. Allow to cool in the pan for 15 minutes. Remove to a baking rack and cool completely.\n",
      "▪︎ Meanwhile, make the frosting. In the bowl of an electric mixer fitted with the paddle attachment, on low speed, cream together the cream cheese, butter, and vanilla and almond extracts. Add the confectioners' sugar and mix until smooth.\n",
      "▪︎ Frost the cupcakes and sprinkle with the remaining coconut.\n",
      "\n"
     ]
    }
   ],
   "source": [
    "print(dataset_stringified[66000])"
   ]
  },
  {
   "attachments": {},
   "cell_type": "markdown",
   "metadata": {},
   "source": [
    "### Removing large recipes"
   ]
  },
  {
   "attachments": {},
   "cell_type": "markdown",
   "metadata": {},
   "source": [
    "Recipes have different lengths. We need to have one hard-coded sequence length limit before feeding recipes sequences to RNN. We need to find out what recipe length will cover most of recipe use-cases and at the same time we want to keep it as small as possible for training performance."
   ]
  },
  {
   "cell_type": "code",
   "execution_count": 15,
   "metadata": {},
   "outputs": [],
   "source": [
    "recipes_lengths = []\n",
    "for recipe_text in dataset_stringified:\n",
    "    recipes_lengths.append(len(recipe_text))"
   ]
  },
  {
   "cell_type": "code",
   "execution_count": 16,
   "metadata": {},
   "outputs": [
    {
     "data": {
      "image/png": "[encoded data removed]",
      "text/plain": [
       "<Figure size 640x480 with 1 Axes>"
      ]
     },
     "metadata": {},
     "output_type": "display_data"
    }
   ],
   "source": [
    "plt.hist(recipes_lengths, bins=50)\n",
    "plt.show()"
   ]
  },
  {
   "cell_type": "code",
   "execution_count": 17,
   "metadata": {},
   "outputs": [
    {
     "data": {
      "image/png": "[encoded data removed]",
      "text/plain": [
       "<Figure size 640x480 with 1 Axes>"
      ]
     },
     "metadata": {},
     "output_type": "display_data"
    }
   ],
   "source": [
    "plt.hist(recipes_lengths, range=(0, 8000), bins=50)\n",
    "plt.show()"
   ]
  },
  {
   "cell_type": "code",
   "execution_count": 18,
   "metadata": {},
   "outputs": [],
   "source": [
    "DEBUG = False\n",
    "DEBUG_EXAMPLES = 10"
   ]
  },
  {
   "cell_type": "code",
   "execution_count": 19,
   "metadata": {},
   "outputs": [],
   "source": [
    "# Looks like a limit of 2000 characters for the recipes will cover 80+% cases.\n",
    "# We may try to train RNN with this maximum recipe length limit.\n",
    "MAX_RECIPE_LENGTH = 2000\n",
    "\n",
    "if DEBUG:\n",
    "    MAX_RECIPE_LENGTH = 500"
   ]
  },
  {
   "cell_type": "code",
   "execution_count": 20,
   "metadata": {},
   "outputs": [],
   "source": [
    "def filter_recipes_by_length(recipe_test):\n",
    "    return len(recipe_test) <= MAX_RECIPE_LENGTH "
   ]
  },
  {
   "cell_type": "code",
   "execution_count": 21,
   "metadata": {},
   "outputs": [
    {
     "name": "stdout",
     "output_type": "stream",
     "text": [
      "Dataset size BEFORE filtering:  122938\n",
      "Dataset size AFTER filtering:  100165\n",
      "Number of etiminated recipes:  22773\n"
     ]
    }
   ],
   "source": [
    "dataset_filtered = [recipe_text for recipe_text in dataset_stringified if filter_recipes_by_length(recipe_text)]\n",
    "\n",
    "print('Dataset size BEFORE filtering: ', len(dataset_stringified))\n",
    "print('Dataset size AFTER filtering: ', len(dataset_filtered))\n",
    "print('Number of etiminated recipes: ', len(dataset_stringified) - len(dataset_filtered))"
   ]
  },
  {
   "cell_type": "code",
   "execution_count": 22,
   "metadata": {},
   "outputs": [],
   "source": [
    "if DEBUG:\n",
    "    dataset_filtered = dataset_filtered[:DEBUG_EXAMPLES]\n",
    "    print('dataset_filtered.shape, ', len(dataset_filtered))"
   ]
  },
  {
   "attachments": {},
   "cell_type": "markdown",
   "metadata": {},
   "source": [
    "Dataset parameters"
   ]
  },
  {
   "cell_type": "code",
   "execution_count": 23,
   "metadata": {},
   "outputs": [
    {
     "name": "stdout",
     "output_type": "stream",
     "text": [
      "MAX_RECIPE_LENGTH:  2000\n",
      "TOTAL_RECIPES_NUM:  100165\n"
     ]
    }
   ],
   "source": [
    "TOTAL_RECIPES_NUM = len(dataset_filtered)\n",
    "\n",
    "print('MAX_RECIPE_LENGTH: ', MAX_RECIPE_LENGTH)\n",
    "print('TOTAL_RECIPES_NUM: ', TOTAL_RECIPES_NUM)"
   ]
  },
  {
   "attachments": {},
   "cell_type": "markdown",
   "metadata": {},
   "source": [
    "### It is necessary to create a vocabulary\n",
    "To create a vocabulary out of recipes texts we will use tf.keras.preprocessing.text.Tokenizer"
   ]
  },
  {
   "cell_type": "code",
   "execution_count": 24,
   "metadata": {},
   "outputs": [],
   "source": [
    "# Indicator of the end of the recipe.\n",
    "STOP_SIGN = '␣'"
   ]
  },
  {
   "cell_type": "code",
   "execution_count": 25,
   "metadata": {},
   "outputs": [],
   "source": [
    "tokenizer = tf.keras.preprocessing.text.Tokenizer(\n",
    "    char_level=True,\n",
    "    filters='',\n",
    "    lower=False,\n",
    "    split=''\n",
    ")"
   ]
  },
  {
   "cell_type": "code",
   "execution_count": 26,
   "metadata": {},
   "outputs": [],
   "source": [
    "# Stop word is not a part of recipes, but tokenizer must know about it as well.\n",
    "tokenizer.fit_on_texts([STOP_SIGN])"
   ]
  },
  {
   "cell_type": "code",
   "execution_count": 27,
   "metadata": {},
   "outputs": [],
   "source": [
    "# Stop word is not a part of recipes, but tokenizer must know about it as well.\n",
    "tokenizer.fit_on_texts([STOP_SIGN])"
   ]
  },
  {
   "cell_type": "code",
   "execution_count": 28,
   "metadata": {},
   "outputs": [],
   "source": [
    "tokenizer.fit_on_texts(dataset_filtered)"
   ]
  },
  {
   "cell_type": "code",
   "execution_count": 29,
   "metadata": {},
   "outputs": [
    {
     "data": {
      "text/plain": [
       "{'num_words': None,\n",
       " 'filters': '',\n",
       " 'lower': False,\n",
       " 'split': '',\n",
       " 'char_level': True,\n",
       " 'oov_token': None,\n",
       " 'document_count': 100167,\n",
       " 'word_counts': '{\"\\\\u2423\": 2, \"\\\\ud83d\\\\udcda\": 100165, \"S\": 270043, \"l\": 3811648, \"o\": 5981934, \"w\": 963541, \" \": 17411716, \"C\": 222685, \"k\": 890217, \"e\": 9287386, \"r\": 4756439, \"h\": 2919095, \"i\": 4907166, \"c\": 2881036, \"n\": 5299526, \"a\": 6061689, \"d\": 3096821, \"D\": 63933, \"u\": 2714675, \"m\": 1792802, \"p\": 2676886, \"g\": 1697165, \"s\": 4699829, \"\\\\n\": 1954034, \"\\\\ud83c\\\\udf36\": 100165, \"\\\\ufe0f\": 100165, \"\\\\u2022\": 922146, \"4\": 232438, \",\": 1129373, \"b\": 1393463, \"t\": 5991833, \"v\": 746048, \"2\": 493535, \"(\": 144881, \"1\": 853299, \"0\": 145015, \".\": 1051629, \"7\": 31072, \"5\": 153961, \")\": 144873, \"f\": 1041928, \"y\": 665879, \"\\\\ud83e\\\\uddd1\": 100165, \"\\\\u200d\": 100165, \"\\\\ud83c\\\\udf73\": 100165, \"\\\\u25aa\": 330807, \"\\\\ufe0e\": 330807, \"P\": 200442, \"6\": 51362, \"H\": 43902, \"A\": 134138, \"3\": 213368, \"R\": 101162, \"x\": 201160, \"/\": 345043, \"I\": 81544, \"L\": 46113, \"8\": 55318, \"9\": 17682, \"B\": 123715, \"M\": 78637, \"F\": 104287, \"j\": 109896, \"-\": 218928, \"W\": 61547, \"\\\\u00ae\": 10157, \"N\": 12796, \"q\": 69594, \"T\": 101261, \";\": 71986, \"\\'\": 26802, \"Z\": 2427, \"z\": 115774, \"G\": 51995, \":\": 31276, \"E\": 18574, \"K\": 18404, \"X\": 385, \"\\\\\"\": 6437, \"O\": 28934, \"Y\": 6056, \"\\\\u2122\": 538, \"Q\": 3900, \"J\": 10265, \"!\": 3007, \"U\": 14119, \"V\": 12164, \"&\": 1039, \"+\": 87, \"=\": 113, \"%\": 993, \"*\": 3240, \"\\\\u00a9\": 99, \"[\": 30, \"]\": 31, \"\\\\u00e9\": 6717, \"<\": 76, \">\": 86, \"\\\\u00bd\": 166, \"#\": 168, \"\\\\u00f1\": 890, \"?\": 325, \"\\\\u2019\": 111, \"\\\\u00b0\": 6802, \"\\\\u201d\": 6, \"$\": 84, \"@\": 5, \"{\": 8, \"}\": 9, \"\\\\u2013\": 1228, \"\\\\u0096\": 7, \"\\\\u00e0\": 26, \"\\\\u00e2\": 106, \"\\\\u00e8\": 846, \"\\\\u00e1\": 74, \"\\\\u2014\": 215, \"\\\\u2044\": 16, \"\\\\u00ee\": 415, \"\\\\u00e7\": 171, \"_\": 26, \"\\\\u00fa\": 48, \"\\\\u00ef\": 43, \"\\\\u201a\": 20, \"\\\\u00fb\": 36, \"\\\\u00f3\": 74, \"\\\\u00ed\": 130, \"\\\\u25ca\": 4, \"\\\\u00f9\": 12, \"\\\\u00d7\": 6, \"\\\\u00ec\": 8, \"\\\\u00fc\": 29, \"\\\\u2031\": 4, \"\\\\u00ba\": 19, \"\\\\u201c\": 4, \"\\\\u00ad\": 25, \"\\\\u00ea\": 27, \"\\\\u00f6\": 9, \"\\\\u0301\": 11, \"\\\\u00f4\": 8, \"\\\\u00c1\": 2, \"\\\\u00be\": 23, \"\\\\u00bc\": 95, \"\\\\u00eb\": 2, \"\\\\u0097\": 2, \"\\\\u215b\": 3, \"\\\\u2027\": 4, \"\\\\u00e4\": 15, \"\\\\u001a\": 2, \"\\\\u00f8\": 2, \"\\\\ufffd\": 20, \"\\\\u02da\": 6, \"\\\\u00bf\": 264, \"\\\\u2153\": 2, \"|\": 2, \"\\\\u00e5\": 3, \"\\\\u00a4\": 1, \"\\\\u201f\": 1, \"\\\\u00a7\": 5, \"\\\\ufb02\": 3, \"\\\\u00a0\": 1, \"\\\\u01b0\": 2, \"\\\\u01a1\": 1, \"\\\\u0103\": 1, \"\\\\u0300\": 1, \"\\\\u00bb\": 6, \"`\": 3, \"\\\\u0092\": 2, \"\\\\u215e\": 1, \"\\\\u202d\": 4, \"\\\\u00b4\": 2, \"\\\\u2012\": 2, \"\\\\u00c9\": 40, \"\\\\u00da\": 14, \"\\\\u20ac\": 1, \"\\\\\\\\\": 5, \"~\": 1, \"\\\\u0095\": 1, \"\\\\u00c2\": 2}',\n",
       " 'word_docs': '{\"\\\\u2423\": 2, \"\\\\u2022\": 100165, \"2\": 96697, \"3\": 79092, \"a\": 100158, \"P\": 79323, \"w\": 99180, \"1\": 99273, \"\\\\ud83d\\\\udcda\": 100165, \"m\": 99941, \"(\": 67586, \"\\\\n\": 100165, \"l\": 100159, \"p\": 99999, \"e\": 100165, \" \": 100165, \"A\": 60858, \"n\": 100151, \"\\\\ufe0e\": 100165, \"\\\\u25aa\": 100165, \"H\": 31888, \"o\": 100158, \"s\": 100157, \"\\\\ud83c\\\\udf73\": 100165, \"C\": 83286, \"0\": 61919, \"u\": 100114, \"5\": 65450, \".\": 100116, \"t\": 100155, \"\\\\ud83c\\\\udf36\": 100165, \"S\": 89204, \"v\": 97801, \"k\": 97269, \"f\": 98284, \"4\": 82409, \"i\": 100160, \")\": 67573, \"\\\\u200d\": 100165, \"7\": 24359, \",\": 98477, \"b\": 99655, \"c\": 100143, \"g\": 99928, \"\\\\ud83e\\\\uddd1\": 100165, \"6\": 35188, \"\\\\ufe0f\": 100165, \"r\": 100160, \"h\": 100114, \"y\": 96340, \"D\": 40837, \"d\": 100147, \"/\": 89004, \"R\": 54001, \"L\": 32082, \"8\": 36979, \"9\": 14106, \"x\": 72092, \"I\": 46651, \"B\": 64245, \"F\": 57907, \"M\": 48304, \"j\": 47408, \"-\": 74667, \"\\\\u00ae\": 5818, \"W\": 38949, \"q\": 36511, \"T\": 53719, \"N\": 9973, \";\": 33841, \"G\": 35333, \"z\": 42400, \"Z\": 2183, \"\\'\": 18103, \":\": 18193, \"E\": 12156, \"K\": 14819, \"X\": 321, \"\\\\\"\": 2613, \"O\": 20083, \"Y\": 5142, \"\\\\u2122\": 448, \"Q\": 3141, \"J\": 8221, \"!\": 2425, \"U\": 10613, \"V\": 9704, \"&\": 749, \"+\": 32, \"=\": 48, \"%\": 717, \"*\": 1779, \"\\\\u00a9\": 91, \"[\": 25, \"]\": 26, \"\\\\u00e9\": 2457, \">\": 33, \"<\": 27, \"\\\\u00bd\": 81, \"#\": 139, \"\\\\u00f1\": 422, \"?\": 205, \"\\\\u2019\": 64, \"\\\\u00b0\": 3059, \"\\\\u201d\": 3, \"@\": 4, \"$\": 49, \"{\": 7, \"}\": 8, \"\\\\u2013\": 491, \"\\\\u0096\": 7, \"\\\\u00e0\": 22, \"\\\\u00e2\": 45, \"\\\\u00e8\": 335, \"\\\\u00e1\": 38, \"\\\\u2014\": 95, \"\\\\u2044\": 9, \"\\\\u00ee\": 122, \"\\\\u00e7\": 120, \"_\": 8, \"\\\\u00fa\": 25, \"\\\\u00ef\": 24, \"\\\\u201a\": 10, \"\\\\u00fb\": 29, \"\\\\u00f3\": 40, \"\\\\u00ed\": 52, \"\\\\u25ca\": 2, \"\\\\u00f9\": 6, \"\\\\u00d7\": 4, \"\\\\u00ec\": 4, \"\\\\u00fc\": 19, \"\\\\u2031\": 2, \"\\\\u00ba\": 9, \"\\\\u201c\": 2, \"\\\\u00ad\": 11, \"\\\\u00ea\": 4, \"\\\\u00f6\": 4, \"\\\\u0301\": 6, \"\\\\u00f4\": 5, \"\\\\u00c1\": 2, \"\\\\u00be\": 18, \"\\\\u00bc\": 55, \"\\\\u00eb\": 2, \"\\\\u0097\": 1, \"\\\\u215b\": 2, \"\\\\u2027\": 3, \"\\\\u00e4\": 8, \"\\\\u001a\": 1, \"\\\\u00f8\": 1, \"\\\\ufffd\": 4, \"\\\\u02da\": 3, \"\\\\u00bf\": 191, \"\\\\u2153\": 1, \"|\": 2, \"\\\\u00e5\": 1, \"\\\\u00a4\": 1, \"\\\\u201f\": 1, \"\\\\u00a7\": 3, \"\\\\ufb02\": 1, \"\\\\u0300\": 1, \"\\\\u01a1\": 1, \"\\\\u00a0\": 1, \"\\\\u0103\": 1, \"\\\\u01b0\": 1, \"\\\\u00bb\": 2, \"`\": 3, \"\\\\u0092\": 2, \"\\\\u215e\": 1, \"\\\\u202d\": 1, \"\\\\u00b4\": 1, \"\\\\u2012\": 1, \"\\\\u00c9\": 15, \"\\\\u00da\": 5, \"\\\\u20ac\": 1, \"\\\\\\\\\": 5, \"~\": 1, \"\\\\u0095\": 1, \"\\\\u00c2\": 1}',\n",
       " 'index_docs': '{\"1\": 100165, \"156\": 2, \"24\": 100165, \"29\": 96697, \"37\": 79092, \"3\": 100158, \"39\": 79323, \"23\": 99180, \"26\": 99273, \"51\": 100165, \"17\": 99941, \"42\": 67586, \"16\": 100165, \"10\": 100159, \"15\": 99999, \"2\": 100165, \"44\": 60858, \"6\": 100151, \"32\": 100165, \"31\": 100165, \"67\": 31888, \"5\": 100158, \"9\": 100157, \"56\": 100165, \"35\": 83286, \"41\": 61919, \"14\": 100114, \"40\": 65450, \"21\": 100116, \"4\": 100155, \"52\": 100165, \"33\": 89204, \"27\": 97801, \"25\": 97269, \"22\": 98284, \"34\": 82409, \"7\": 100160, \"43\": 67573, \"55\": 100165, \"69\": 24359, \"20\": 98477, \"19\": 99655, \"13\": 100143, \"18\": 99928, \"54\": 100165, \"65\": 35188, \"53\": 100165, \"8\": 100160, \"12\": 100114, \"28\": 96340, \"61\": 40837, \"11\": 100147, \"30\": 89004, \"50\": 54001, \"66\": 32082, \"63\": 36979, \"74\": 14106, \"38\": 72092, \"57\": 46651, \"45\": 64245, \"48\": 57907, \"58\": 48304, \"47\": 47408, \"36\": 74667, \"79\": 5818, \"62\": 38949, \"60\": 36511, \"49\": 53719, \"76\": 9973, \"59\": 33841, \"64\": 35333, \"46\": 42400, \"87\": 2183, \"71\": 18103, \"68\": 18193, \"72\": 12156, \"73\": 14819, \"95\": 321, \"82\": 2613, \"70\": 20083, \"83\": 5142, \"93\": 448, \"84\": 3141, \"78\": 8221, \"86\": 2425, \"75\": 10613, \"77\": 9704, \"89\": 749, \"108\": 32, \"103\": 48, \"90\": 717, \"85\": 1779, \"106\": 91, \"119\": 25, \"118\": 26, \"81\": 2457, \"109\": 33, \"111\": 27, \"101\": 81, \"100\": 139, \"91\": 422, \"96\": 205, \"104\": 64, \"80\": 3059, \"140\": 3, \"144\": 4, \"110\": 49, \"136\": 7, \"134\": 8, \"88\": 491, \"139\": 7, \"122\": 22, \"105\": 45, \"92\": 335, \"112\": 38, \"98\": 95, \"129\": 9, \"94\": 122, \"99\": 120, \"123\": 8, \"114\": 25, \"115\": 24, \"126\": 10, \"117\": 29, \"113\": 40, \"102\": 52, \"147\": 2, \"132\": 6, \"141\": 4, \"137\": 4, \"120\": 19, \"148\": 2, \"128\": 9, \"149\": 2, \"124\": 11, \"121\": 4, \"135\": 4, \"133\": 6, \"138\": 5, \"157\": 2, \"125\": 18, \"107\": 55, \"158\": 2, \"159\": 1, \"152\": 2, \"150\": 3, \"130\": 8, \"160\": 1, \"161\": 1, \"127\": 4, \"142\": 3, \"97\": 191, \"162\": 1, \"163\": 2, \"153\": 1, \"169\": 1, \"170\": 1, \"145\": 3, \"154\": 1, \"174\": 1, \"172\": 1, \"171\": 1, \"173\": 1, \"164\": 1, \"143\": 2, \"155\": 3, \"165\": 2, \"175\": 1, \"151\": 1, \"166\": 1, \"167\": 1, \"116\": 15, \"131\": 5, \"176\": 1, \"146\": 5, \"177\": 1, \"178\": 1, \"168\": 1}',\n",
       " 'index_word': '{\"1\": \" \", \"2\": \"e\", \"3\": \"a\", \"4\": \"t\", \"5\": \"o\", \"6\": \"n\", \"7\": \"i\", \"8\": \"r\", \"9\": \"s\", \"10\": \"l\", \"11\": \"d\", \"12\": \"h\", \"13\": \"c\", \"14\": \"u\", \"15\": \"p\", \"16\": \"\\\\n\", \"17\": \"m\", \"18\": \"g\", \"19\": \"b\", \"20\": \",\", \"21\": \".\", \"22\": \"f\", \"23\": \"w\", \"24\": \"\\\\u2022\", \"25\": \"k\", \"26\": \"1\", \"27\": \"v\", \"28\": \"y\", \"29\": \"2\", \"30\": \"/\", \"31\": \"\\\\u25aa\", \"32\": \"\\\\ufe0e\", \"33\": \"S\", \"34\": \"4\", \"35\": \"C\", \"36\": \"-\", \"37\": \"3\", \"38\": \"x\", \"39\": \"P\", \"40\": \"5\", \"41\": \"0\", \"42\": \"(\", \"43\": \")\", \"44\": \"A\", \"45\": \"B\", \"46\": \"z\", \"47\": \"j\", \"48\": \"F\", \"49\": \"T\", \"50\": \"R\", \"51\": \"\\\\ud83d\\\\udcda\", \"52\": \"\\\\ud83c\\\\udf36\", \"53\": \"\\\\ufe0f\", \"54\": \"\\\\ud83e\\\\uddd1\", \"55\": \"\\\\u200d\", \"56\": \"\\\\ud83c\\\\udf73\", \"57\": \"I\", \"58\": \"M\", \"59\": \";\", \"60\": \"q\", \"61\": \"D\", \"62\": \"W\", \"63\": \"8\", \"64\": \"G\", \"65\": \"6\", \"66\": \"L\", \"67\": \"H\", \"68\": \":\", \"69\": \"7\", \"70\": \"O\", \"71\": \"\\'\", \"72\": \"E\", \"73\": \"K\", \"74\": \"9\", \"75\": \"U\", \"76\": \"N\", \"77\": \"V\", \"78\": \"J\", \"79\": \"\\\\u00ae\", \"80\": \"\\\\u00b0\", \"81\": \"\\\\u00e9\", \"82\": \"\\\\\"\", \"83\": \"Y\", \"84\": \"Q\", \"85\": \"*\", \"86\": \"!\", \"87\": \"Z\", \"88\": \"\\\\u2013\", \"89\": \"&\", \"90\": \"%\", \"91\": \"\\\\u00f1\", \"92\": \"\\\\u00e8\", \"93\": \"\\\\u2122\", \"94\": \"\\\\u00ee\", \"95\": \"X\", \"96\": \"?\", \"97\": \"\\\\u00bf\", \"98\": \"\\\\u2014\", \"99\": \"\\\\u00e7\", \"100\": \"#\", \"101\": \"\\\\u00bd\", \"102\": \"\\\\u00ed\", \"103\": \"=\", \"104\": \"\\\\u2019\", \"105\": \"\\\\u00e2\", \"106\": \"\\\\u00a9\", \"107\": \"\\\\u00bc\", \"108\": \"+\", \"109\": \">\", \"110\": \"$\", \"111\": \"<\", \"112\": \"\\\\u00e1\", \"113\": \"\\\\u00f3\", \"114\": \"\\\\u00fa\", \"115\": \"\\\\u00ef\", \"116\": \"\\\\u00c9\", \"117\": \"\\\\u00fb\", \"118\": \"]\", \"119\": \"[\", \"120\": \"\\\\u00fc\", \"121\": \"\\\\u00ea\", \"122\": \"\\\\u00e0\", \"123\": \"_\", \"124\": \"\\\\u00ad\", \"125\": \"\\\\u00be\", \"126\": \"\\\\u201a\", \"127\": \"\\\\ufffd\", \"128\": \"\\\\u00ba\", \"129\": \"\\\\u2044\", \"130\": \"\\\\u00e4\", \"131\": \"\\\\u00da\", \"132\": \"\\\\u00f9\", \"133\": \"\\\\u0301\", \"134\": \"}\", \"135\": \"\\\\u00f6\", \"136\": \"{\", \"137\": \"\\\\u00ec\", \"138\": \"\\\\u00f4\", \"139\": \"\\\\u0096\", \"140\": \"\\\\u201d\", \"141\": \"\\\\u00d7\", \"142\": \"\\\\u02da\", \"143\": \"\\\\u00bb\", \"144\": \"@\", \"145\": \"\\\\u00a7\", \"146\": \"\\\\\\\\\", \"147\": \"\\\\u25ca\", \"148\": \"\\\\u2031\", \"149\": \"\\\\u201c\", \"150\": \"\\\\u2027\", \"151\": \"\\\\u202d\", \"152\": \"\\\\u215b\", \"153\": \"\\\\u00e5\", \"154\": \"\\\\ufb02\", \"155\": \"`\", \"156\": \"\\\\u2423\", \"157\": \"\\\\u00c1\", \"158\": \"\\\\u00eb\", \"159\": \"\\\\u0097\", \"160\": \"\\\\u001a\", \"161\": \"\\\\u00f8\", \"162\": \"\\\\u2153\", \"163\": \"|\", \"164\": \"\\\\u01b0\", \"165\": \"\\\\u0092\", \"166\": \"\\\\u00b4\", \"167\": \"\\\\u2012\", \"168\": \"\\\\u00c2\", \"169\": \"\\\\u00a4\", \"170\": \"\\\\u201f\", \"171\": \"\\\\u00a0\", \"172\": \"\\\\u01a1\", \"173\": \"\\\\u0103\", \"174\": \"\\\\u0300\", \"175\": \"\\\\u215e\", \"176\": \"\\\\u20ac\", \"177\": \"~\", \"178\": \"\\\\u0095\"}',\n",
       " 'word_index': '{\" \": 1, \"e\": 2, \"a\": 3, \"t\": 4, \"o\": 5, \"n\": 6, \"i\": 7, \"r\": 8, \"s\": 9, \"l\": 10, \"d\": 11, \"h\": 12, \"c\": 13, \"u\": 14, \"p\": 15, \"\\\\n\": 16, \"m\": 17, \"g\": 18, \"b\": 19, \",\": 20, \".\": 21, \"f\": 22, \"w\": 23, \"\\\\u2022\": 24, \"k\": 25, \"1\": 26, \"v\": 27, \"y\": 28, \"2\": 29, \"/\": 30, \"\\\\u25aa\": 31, \"\\\\ufe0e\": 32, \"S\": 33, \"4\": 34, \"C\": 35, \"-\": 36, \"3\": 37, \"x\": 38, \"P\": 39, \"5\": 40, \"0\": 41, \"(\": 42, \")\": 43, \"A\": 44, \"B\": 45, \"z\": 46, \"j\": 47, \"F\": 48, \"T\": 49, \"R\": 50, \"\\\\ud83d\\\\udcda\": 51, \"\\\\ud83c\\\\udf36\": 52, \"\\\\ufe0f\": 53, \"\\\\ud83e\\\\uddd1\": 54, \"\\\\u200d\": 55, \"\\\\ud83c\\\\udf73\": 56, \"I\": 57, \"M\": 58, \";\": 59, \"q\": 60, \"D\": 61, \"W\": 62, \"8\": 63, \"G\": 64, \"6\": 65, \"L\": 66, \"H\": 67, \":\": 68, \"7\": 69, \"O\": 70, \"\\'\": 71, \"E\": 72, \"K\": 73, \"9\": 74, \"U\": 75, \"N\": 76, \"V\": 77, \"J\": 78, \"\\\\u00ae\": 79, \"\\\\u00b0\": 80, \"\\\\u00e9\": 81, \"\\\\\"\": 82, \"Y\": 83, \"Q\": 84, \"*\": 85, \"!\": 86, \"Z\": 87, \"\\\\u2013\": 88, \"&\": 89, \"%\": 90, \"\\\\u00f1\": 91, \"\\\\u00e8\": 92, \"\\\\u2122\": 93, \"\\\\u00ee\": 94, \"X\": 95, \"?\": 96, \"\\\\u00bf\": 97, \"\\\\u2014\": 98, \"\\\\u00e7\": 99, \"#\": 100, \"\\\\u00bd\": 101, \"\\\\u00ed\": 102, \"=\": 103, \"\\\\u2019\": 104, \"\\\\u00e2\": 105, \"\\\\u00a9\": 106, \"\\\\u00bc\": 107, \"+\": 108, \">\": 109, \"$\": 110, \"<\": 111, \"\\\\u00e1\": 112, \"\\\\u00f3\": 113, \"\\\\u00fa\": 114, \"\\\\u00ef\": 115, \"\\\\u00c9\": 116, \"\\\\u00fb\": 117, \"]\": 118, \"[\": 119, \"\\\\u00fc\": 120, \"\\\\u00ea\": 121, \"\\\\u00e0\": 122, \"_\": 123, \"\\\\u00ad\": 124, \"\\\\u00be\": 125, \"\\\\u201a\": 126, \"\\\\ufffd\": 127, \"\\\\u00ba\": 128, \"\\\\u2044\": 129, \"\\\\u00e4\": 130, \"\\\\u00da\": 131, \"\\\\u00f9\": 132, \"\\\\u0301\": 133, \"}\": 134, \"\\\\u00f6\": 135, \"{\": 136, \"\\\\u00ec\": 137, \"\\\\u00f4\": 138, \"\\\\u0096\": 139, \"\\\\u201d\": 140, \"\\\\u00d7\": 141, \"\\\\u02da\": 142, \"\\\\u00bb\": 143, \"@\": 144, \"\\\\u00a7\": 145, \"\\\\\\\\\": 146, \"\\\\u25ca\": 147, \"\\\\u2031\": 148, \"\\\\u201c\": 149, \"\\\\u2027\": 150, \"\\\\u202d\": 151, \"\\\\u215b\": 152, \"\\\\u00e5\": 153, \"\\\\ufb02\": 154, \"`\": 155, \"\\\\u2423\": 156, \"\\\\u00c1\": 157, \"\\\\u00eb\": 158, \"\\\\u0097\": 159, \"\\\\u001a\": 160, \"\\\\u00f8\": 161, \"\\\\u2153\": 162, \"|\": 163, \"\\\\u01b0\": 164, \"\\\\u0092\": 165, \"\\\\u00b4\": 166, \"\\\\u2012\": 167, \"\\\\u00c2\": 168, \"\\\\u00a4\": 169, \"\\\\u201f\": 170, \"\\\\u00a0\": 171, \"\\\\u01a1\": 172, \"\\\\u0103\": 173, \"\\\\u0300\": 174, \"\\\\u215e\": 175, \"\\\\u20ac\": 176, \"~\": 177, \"\\\\u0095\": 178}'}"
      ]
     },
     "execution_count": 29,
     "metadata": {},
     "output_type": "execute_result"
    }
   ],
   "source": [
    "tokenizer.get_config()"
   ]
  },
  {
   "cell_type": "code",
   "execution_count": 30,
   "metadata": {},
   "outputs": [
    {
     "name": "stdout",
     "output_type": "stream",
     "text": [
      "VOCABULARY_SIZE:  179\n"
     ]
    }
   ],
   "source": [
    "# Adding +1 to take into account a special unassigned 0 index.\n",
    "#  https://www.tensorflow.org/api_docs/python/tf/keras/preprocessing/text/Tokenizer\n",
    "VOCABULARY_SIZE = len(tokenizer.word_counts) +1\n",
    "\n",
    "print('VOCABULARY_SIZE: ', VOCABULARY_SIZE)"
   ]
  },
  {
   "cell_type": "code",
   "execution_count": 31,
   "metadata": {},
   "outputs": [
    {
     "name": "stdout",
     "output_type": "stream",
     "text": [
      "o\n",
      ",\n"
     ]
    }
   ],
   "source": [
    "print(tokenizer.index_word[5])\n",
    "print(tokenizer.index_word[20])"
   ]
  },
  {
   "cell_type": "code",
   "execution_count": 32,
   "metadata": {},
   "outputs": [
    {
     "data": {
      "text/plain": [
       "8"
      ]
     },
     "execution_count": 32,
     "metadata": {},
     "output_type": "execute_result"
    }
   ],
   "source": [
    "tokenizer.word_index['r']"
   ]
  },
  {
   "cell_type": "code",
   "execution_count": 33,
   "metadata": {},
   "outputs": [
    {
     "name": "stdout",
     "output_type": "stream",
     "text": [
      "['', ' ', 'e', 'a', 't', 'o', 'n', 'i', 'r', 's', 'l', 'd', 'h', 'c', 'u', 'p', '\\n', 'm', 'g', 'b', ',', '.', 'f', 'w', '•', 'k', '1', 'v', 'y', '2', '/', '▪', '︎', 'S', '4', 'C', '-', '3', 'x', 'P', '5', '0', '(', ')', 'A', 'B', 'z', 'j', 'F', 'T', 'R', '📚', '🌶', '️', '🧑', '\\u200d', '🍳', 'I', 'M', ';', 'q', 'D', 'W', '8', 'G', '6', 'L', 'H', ':', '7', 'O', \"'\", 'E', 'K', '9', 'U', 'N', 'V', 'J', '®', '°', 'é', '\"', 'Y', 'Q', '*', '!', 'Z', '–', '&', '%', 'ñ', 'è', '™', 'î', 'X', '?', '¿', '—', 'ç', '#', '½', 'í', '=', '’', 'â', '©', '¼', '+', '>', '$', '<', 'á', 'ó', 'ú', 'ï', 'É', 'û', ']', '[', 'ü', 'ê', 'à', '_', '\\xad', '¾', '‚', '�', 'º', '⁄', 'ä', 'Ú', 'ù', '́', '}', 'ö', '{', 'ì', 'ô', '\\x96', '”', '×', '˚', '»', '@', '§', '\\\\', '◊', '‱', '“', '‧', '\\u202d', '⅛', 'å', 'ﬂ', '`', '␣', 'Á', 'ë', '\\x97', '\\x1a', 'ø', '⅓', '|', 'ư', '\\x92', '´', '‒', 'Â', '¤', '‟', '\\xa0', 'ơ', 'ă', '̀', '⅞', '€', '~', '\\x95']\n"
     ]
    }
   ],
   "source": [
    "# For demo application we need to have an array of characters as vocabulary.\n",
    "js_vocabulary = tokenizer.sequences_to_texts([[word_index] for word_index in range(VOCABULARY_SIZE)])\n",
    "print([char for char in js_vocabulary])"
   ]
  },
  {
   "cell_type": "code",
   "execution_count": 34,
   "metadata": {},
   "outputs": [
    {
     "data": {
      "text/plain": [
       "[[51, 1, 28, 2, 9]]"
      ]
     },
     "execution_count": 34,
     "metadata": {},
     "output_type": "execute_result"
    }
   ],
   "source": [
    "# Test proper conversion from text to indices.\n",
    "# This is needed for debugging a demo app.\n",
    "tokenizer.texts_to_sequences(['📚 yes'])"
   ]
  },
  {
   "attachments": {},
   "cell_type": "markdown",
   "metadata": {},
   "source": [
    "Vectorizing the dataset: Now, once we have a vocabulary (character --> code and code --> character relations) we may convert the set of recipes from text to numbers (RNN works with numbers as an input and not with the texts)."
   ]
  },
  {
   "cell_type": "code",
   "execution_count": 35,
   "metadata": {},
   "outputs": [],
   "source": [
    "def recipe_sequence_to_string(recipe_sequence):\n",
    "    recipe_stringified = tokenizer.sequences_to_texts([recipe_sequence])[0]\n",
    "    recipe_stringified = recipe_stringified.replace('   ', '_').replace(' ', '').replace('_', ' ')\n",
    "    print(recipe_stringified)"
   ]
  },
  {
   "cell_type": "code",
   "execution_count": 36,
   "metadata": {},
   "outputs": [],
   "source": [
    "dataset_vectorized = tokenizer.texts_to_sequences(dataset_filtered)"
   ]
  },
  {
   "cell_type": "code",
   "execution_count": 37,
   "metadata": {},
   "outputs": [
    {
     "name": "stdout",
     "output_type": "stream",
     "text": [
      "Vectorized dataset size 100165\n"
     ]
    }
   ],
   "source": [
    "print('Vectorized dataset size', len(dataset_vectorized))"
   ]
  },
  {
   "cell_type": "code",
   "execution_count": 38,
   "metadata": {},
   "outputs": [
    {
     "name": "stdout",
     "output_type": "stream",
     "text": [
      "[51, 33, 10, 5, 23, 1, 35, 5, 5, 25] ...\n"
     ]
    }
   ],
   "source": [
    "print(dataset_vectorized[0][:10], '...')"
   ]
  },
  {
   "cell_type": "code",
   "execution_count": 39,
   "metadata": {},
   "outputs": [
    {
     "name": "stdout",
     "output_type": "stream",
     "text": [
      "📚Slow Cooker Chicken and Dumplings\n",
      "\n",
      "🌶️\n",
      "\n",
      "• 4 skinless, boneless chicken breast halves \n",
      "• 2 tablespoons butter \n",
      "• 2 (10.75 ounce) cans condensed cream of chicken soup \n",
      "• 1 onion, finely diced \n",
      "• 2 (10 ounce) packages refrigerated biscuit dough, torn into pieces \n",
      "\n",
      "🧑‍🍳\n",
      "\n",
      "▪︎ Place the chicken, butter, soup, and onion in a slow cooker, and fill with enough water to cover.\n",
      "▪︎ Cover, and cook for 5 to 6 hours on High. About 30 minutes before serving, place the torn biscuit dough in the slow cooker. Cook until the dough is no longer raw in the center.\n",
      "\n"
     ]
    }
   ],
   "source": [
    "recipe_sequence_to_string(dataset_vectorized[0])"
   ]
  },
  {
   "attachments": {},
   "cell_type": "markdown",
   "metadata": {},
   "source": [
    "### Add padding to sequences\n",
    "We need all recipes to have the same length for training. To do that we'll use tf.keras.preprocessing.sequence.pad_sequences utility to add a stop word to the end of each recipe and to make them have the same length."
   ]
  },
  {
   "cell_type": "code",
   "execution_count": 40,
   "metadata": {},
   "outputs": [
    {
     "name": "stdout",
     "output_type": "stream",
     "text": [
      "Recipe #1 length: 548\n",
      "Recipe #2 length: 403\n",
      "Recipe #3 length: 673\n",
      "Recipe #4 length: 738\n",
      "Recipe #5 length: 1520\n",
      "Recipe #6 length: 742\n",
      "Recipe #7 length: 841\n",
      "Recipe #8 length: 669\n",
      "Recipe #9 length: 1266\n",
      "Recipe #10 length: 856\n"
     ]
    }
   ],
   "source": [
    "for recipe_index, recipe in enumerate(dataset_vectorized[:10]):\n",
    "    print('Recipe #{} length: {}'.format(recipe_index + 1, len(recipe)))"
   ]
  },
  {
   "cell_type": "code",
   "execution_count": 41,
   "metadata": {},
   "outputs": [],
   "source": [
    "dataset_vectorized_padded_without_stops = tf.keras.preprocessing.sequence.pad_sequences(\n",
    "    dataset_vectorized,\n",
    "    padding='post',\n",
    "    truncating='post',\n",
    "    # We use -1 here and +1 in the next step to make sure that all recipes will have at least 1 stops\n",
    "    # sign at the end, since each sequence will be shifted and truncated afterwards (to generate X and Y sequences).\n",
    "    maxlen=MAX_RECIPE_LENGTH-1,\n",
    "    value=tokenizer.texts_to_sequences([STOP_SIGN])[0]\n",
    ")"
   ]
  },
  {
   "cell_type": "code",
   "execution_count": 42,
   "metadata": {},
   "outputs": [],
   "source": [
    "dataset_vectorized_padded = tf.keras.preprocessing.sequence.pad_sequences(\n",
    "    dataset_vectorized_padded_without_stops,\n",
    "    padding='post',\n",
    "    truncating='post',\n",
    "    maxlen=MAX_RECIPE_LENGTH+1,\n",
    "    value=tokenizer.texts_to_sequences([STOP_SIGN])[0]\n",
    ")"
   ]
  },
  {
   "cell_type": "code",
   "execution_count": 43,
   "metadata": {},
   "outputs": [
    {
     "name": "stdout",
     "output_type": "stream",
     "text": [
      "Recipe #0 length: 2001\n",
      "Recipe #1 length: 2001\n",
      "Recipe #2 length: 2001\n",
      "Recipe #3 length: 2001\n",
      "Recipe #4 length: 2001\n",
      "Recipe #5 length: 2001\n",
      "Recipe #6 length: 2001\n",
      "Recipe #7 length: 2001\n",
      "Recipe #8 length: 2001\n",
      "Recipe #9 length: 2001\n"
     ]
    }
   ],
   "source": [
    "for recipe_index, recipe in enumerate(dataset_vectorized_padded[:10]):\n",
    "    print('Recipe #{} length: {}'.format(recipe_index, len(recipe)))"
   ]
  },
  {
   "cell_type": "code",
   "execution_count": 44,
   "metadata": {},
   "outputs": [
    {
     "name": "stdout",
     "output_type": "stream",
     "text": [
      "📚Slow Cooker Chicken and Dumplings\n",
      "\n",
      "🌶️\n",
      "\n",
      "• 4 skinless, boneless chicken breast halves \n",
      "• 2 tablespoons butter \n",
      "• 2 (10.75 ounce) cans condensed cream of chicken soup \n",
      "• 1 onion, finely diced \n",
      "• 2 (10 ounce) packages refrigerated biscuit dough, torn into pieces \n",
      "\n",
      "🧑‍🍳\n",
      "\n",
      "▪︎ Place the chicken, butter, soup, and onion in a slow cooker, and fill with enough water to cover.\n",
      "▪︎ Cover, and cook for 5 to 6 hours on High. About 30 minutes before serving, place the torn biscuit dough in the slow cooker. Cook until the dough is no longer raw in the center.\n",
      "␣␣␣␣␣␣␣␣␣␣␣␣␣␣␣␣␣␣␣␣␣␣␣␣␣␣␣␣␣␣␣␣␣␣␣␣␣␣␣␣␣␣␣␣␣␣␣␣␣␣␣␣␣␣␣␣␣␣␣␣␣␣␣␣␣␣␣␣␣␣␣␣␣␣␣␣␣␣␣␣␣␣␣␣␣␣␣␣␣␣␣␣␣␣␣␣␣␣␣␣␣␣␣␣␣␣␣␣␣␣␣␣␣␣␣␣␣␣␣␣␣␣␣␣␣␣␣␣␣␣␣␣␣␣␣␣␣␣␣␣␣␣␣␣␣␣␣␣␣␣␣␣␣␣␣␣␣␣␣␣␣␣␣␣␣␣␣␣␣␣␣␣␣␣␣␣␣␣␣␣␣␣␣␣␣␣␣␣␣␣␣␣␣␣␣␣␣␣␣␣␣␣␣␣␣␣␣␣␣␣␣␣␣␣␣␣␣␣␣␣␣␣␣␣␣␣␣␣␣␣␣␣␣␣␣␣␣␣␣␣␣␣␣␣␣␣␣␣␣␣␣␣␣␣␣␣␣␣␣␣␣␣␣␣␣␣␣␣␣␣␣␣␣␣␣␣␣␣␣␣␣␣␣␣␣␣␣␣␣␣␣␣␣␣␣␣␣␣␣␣␣␣␣␣␣␣␣␣␣␣␣␣␣␣␣␣␣␣␣␣␣␣␣␣␣␣␣␣␣␣␣␣␣␣␣␣␣␣␣␣␣␣␣␣␣␣␣␣␣␣␣␣␣␣␣␣␣␣␣␣␣␣␣␣␣␣␣␣␣␣␣␣␣␣␣␣␣␣␣␣␣␣␣␣␣␣␣␣␣␣␣␣␣␣␣␣␣␣␣␣␣␣␣␣␣␣␣␣␣␣␣␣␣␣␣␣␣␣␣␣␣␣␣␣␣␣␣␣␣␣␣␣␣␣␣␣␣␣␣␣␣␣␣␣␣␣␣␣␣␣␣␣␣␣␣␣␣␣␣␣␣␣␣␣␣␣␣␣␣␣␣␣␣␣␣␣␣␣␣␣␣␣␣␣␣␣␣␣␣␣␣␣␣␣␣␣␣␣␣␣␣␣␣␣␣␣␣␣␣␣␣␣␣␣␣␣␣␣␣␣␣␣␣␣␣␣␣␣␣␣␣␣␣␣␣␣␣␣␣␣␣␣␣␣␣␣␣␣␣␣␣␣␣␣␣␣␣␣␣␣␣␣␣␣␣␣␣␣␣␣␣␣␣␣␣␣␣␣␣␣␣␣␣␣␣␣␣␣␣␣␣␣␣␣␣␣␣␣␣␣␣␣␣␣␣␣␣␣␣␣␣␣␣␣␣␣␣␣␣␣␣␣␣␣␣␣␣␣␣␣␣␣␣␣␣␣␣␣␣␣␣␣␣␣␣␣␣␣␣␣␣␣␣␣␣␣␣␣␣␣␣␣␣␣␣␣␣␣␣␣␣␣␣␣␣␣␣␣␣␣␣␣␣␣␣␣␣␣␣␣␣␣␣␣␣␣␣␣␣␣␣␣␣␣␣␣␣␣␣␣␣␣␣␣␣␣␣␣␣␣␣␣␣␣␣␣␣␣␣␣␣␣␣␣␣␣␣␣␣␣␣␣␣␣␣␣␣␣␣␣␣␣␣␣␣␣␣␣␣␣␣␣␣␣␣␣␣␣␣␣␣␣␣␣␣␣␣␣␣␣␣␣␣␣␣␣␣␣␣␣␣␣␣␣␣␣␣␣␣␣␣␣␣␣␣␣␣␣␣␣␣␣␣␣␣␣␣␣␣␣␣␣␣␣␣␣␣␣␣␣␣␣␣␣␣␣␣␣␣␣␣␣␣␣␣␣␣␣␣␣␣␣␣␣␣␣␣␣␣␣␣␣␣␣␣␣␣␣␣␣␣␣␣␣␣␣␣␣␣␣␣␣␣␣␣␣␣␣␣␣␣␣␣␣␣␣␣␣␣␣␣␣␣␣␣␣␣␣␣␣␣␣␣␣␣␣␣␣␣␣␣␣␣␣␣␣␣␣␣␣␣␣␣␣␣␣␣␣␣␣␣␣␣␣␣␣␣␣␣␣␣␣␣␣␣␣␣␣␣␣␣␣␣␣␣␣␣␣␣␣␣␣␣␣␣␣␣␣␣␣␣␣␣␣␣␣␣␣␣␣␣␣␣␣␣␣␣␣␣␣␣␣␣␣␣␣␣␣␣␣␣␣␣␣␣␣␣␣␣␣␣␣␣␣␣␣␣␣␣␣␣␣␣␣␣␣␣␣␣␣␣␣␣␣␣␣␣␣␣␣␣␣␣␣␣␣␣␣␣␣␣␣␣␣␣␣␣␣␣␣␣␣␣␣␣␣␣␣␣␣␣␣␣␣␣␣␣␣␣␣␣␣␣␣␣␣␣␣␣␣␣␣␣␣␣␣␣␣␣␣␣␣␣␣␣␣␣␣␣␣␣␣␣␣␣␣␣␣␣␣␣␣␣␣␣␣␣␣␣␣␣␣␣␣␣␣␣␣␣␣␣␣␣␣␣␣␣␣␣␣␣␣␣␣␣␣␣␣␣␣␣␣␣␣␣␣␣␣␣␣␣␣␣␣␣␣␣␣␣␣␣␣␣␣␣␣␣␣␣␣␣␣␣␣␣␣␣␣␣␣␣␣␣␣␣␣␣␣␣␣␣␣␣␣␣␣␣␣␣␣␣␣␣␣␣␣␣␣␣␣␣␣␣␣␣␣␣␣␣␣␣␣␣␣␣␣␣␣␣␣␣␣␣␣␣␣␣␣␣␣␣␣␣␣␣␣␣␣␣␣␣␣␣␣␣␣␣␣␣␣␣␣␣␣␣␣␣␣␣␣␣␣␣␣␣␣␣␣␣␣␣␣␣␣␣␣␣␣␣␣␣␣␣␣␣␣␣␣␣␣␣␣␣␣␣␣␣␣␣␣␣␣␣␣␣␣␣␣␣␣␣␣␣␣␣␣␣␣␣␣␣␣␣␣␣␣␣␣␣␣␣␣␣␣␣␣␣␣␣␣␣␣␣␣␣␣␣␣␣␣␣␣␣␣␣␣␣␣␣␣␣␣␣␣␣␣␣␣␣␣␣␣␣␣␣␣␣␣␣␣␣␣␣␣␣␣␣␣␣␣␣␣␣␣␣␣␣␣␣␣␣␣␣␣␣␣␣␣␣␣␣␣␣\n"
     ]
    }
   ],
   "source": [
    "recipe_sequence_to_string(dataset_vectorized_padded[0])"
   ]
  },
  {
   "cell_type": "code",
   "execution_count": 45,
   "metadata": {},
   "outputs": [
    {
     "name": "stdout",
     "output_type": "stream",
     "text": [
      "max_index_example:  178\n"
     ]
    }
   ],
   "source": [
    "max_index_example = np.max(dataset_vectorized_padded)\n",
    "\n",
    "print('max_index_example: ', max_index_example)"
   ]
  },
  {
   "attachments": {},
   "cell_type": "markdown",
   "metadata": {},
   "source": [
    "### Create TensorFlow dataset"
   ]
  },
  {
   "cell_type": "code",
   "execution_count": 46,
   "metadata": {},
   "outputs": [
    {
     "name": "stdout",
     "output_type": "stream",
     "text": [
      "<TensorSliceDataset element_spec=TensorSpec(shape=(2001,), dtype=tf.int32, name=None)>\n"
     ]
    }
   ],
   "source": [
    "dataset = tf.data.Dataset.from_tensor_slices(dataset_vectorized_padded)\n",
    "\n",
    "print(dataset)"
   ]
  },
  {
   "cell_type": "code",
   "execution_count": 47,
   "metadata": {},
   "outputs": [
    {
     "name": "stdout",
     "output_type": "stream",
     "text": [
      "Raw recipe:\n",
      " [ 51  33  10 ... 156 156 156] \n",
      "\n",
      "\n",
      "\n",
      "Stringified recipe:\n",
      "\n",
      "📚Slow Cooker Chicken and Dumplings\n",
      "\n",
      "🌶️\n",
      "\n",
      "• 4 skinless, boneless chicken breast halves \n",
      "• 2 tablespoons butter \n",
      "• 2 (10.75 ounce) cans condensed cream of chicken soup \n",
      "• 1 onion, finely diced \n",
      "• 2 (10 ounce) packages refrigerated biscuit dough, torn into pieces \n",
      "\n",
      "🧑‍🍳\n",
      "\n",
      "▪︎ Place the chicken, butter, soup, and onion in a slow cooker, and fill with enough water to cover.\n",
      "▪︎ Cover, and cook for 5 to 6 hours on High. About 30 minutes before serving, place the torn biscuit dough in the slow cooker. Cook until the dough is no longer raw in the center.\n",
      "␣␣␣␣␣␣␣␣␣␣␣␣␣␣␣␣␣␣␣␣␣␣␣␣␣␣␣␣␣␣␣␣␣␣␣␣␣␣␣␣␣␣␣␣␣␣␣␣␣␣␣␣␣␣␣␣␣␣␣␣␣␣␣␣␣␣␣␣␣␣␣␣␣␣␣␣␣␣␣␣␣␣␣␣␣␣␣␣␣␣␣␣␣␣␣␣␣␣␣␣␣␣␣␣␣␣␣␣␣␣␣␣␣␣␣␣␣␣␣␣␣␣␣␣␣␣␣␣␣␣␣␣␣␣␣␣␣␣␣␣␣␣␣␣␣␣␣␣␣␣␣␣␣␣␣␣␣␣␣␣␣␣␣␣␣␣␣␣␣␣␣␣␣␣␣␣␣␣␣␣␣␣␣␣␣␣␣␣␣␣␣␣␣␣␣␣␣␣␣␣␣␣␣␣␣␣␣␣␣␣␣␣␣␣␣␣␣␣␣␣␣␣␣␣␣␣␣␣␣␣␣␣␣␣␣␣␣␣␣␣␣␣␣␣␣␣␣␣␣␣␣␣␣␣␣␣␣␣␣␣␣␣␣␣␣␣␣␣␣␣␣␣␣␣␣␣␣␣␣␣␣␣␣␣␣␣␣␣␣␣␣␣␣␣␣␣␣␣␣␣␣␣␣␣␣␣␣␣␣␣␣␣␣␣␣␣␣␣␣␣␣␣␣␣␣␣␣␣␣␣␣␣␣␣␣␣␣␣␣␣␣␣␣␣␣␣␣␣␣␣␣␣␣␣␣␣␣␣␣␣␣␣␣␣␣␣␣␣␣␣␣␣␣␣␣␣␣␣␣␣␣␣␣␣␣␣␣␣␣␣␣␣␣␣␣␣␣␣␣␣␣␣␣␣␣␣␣␣␣␣␣␣␣␣␣␣␣␣␣␣␣␣␣␣␣␣␣␣␣␣␣␣␣␣␣␣␣␣␣␣␣␣␣␣␣␣␣␣␣␣␣␣␣␣␣␣␣␣␣␣␣␣␣␣␣␣␣␣␣␣␣␣␣␣␣␣␣␣␣␣␣␣␣␣␣␣␣␣␣␣␣␣␣␣␣␣␣␣␣␣␣␣␣␣␣␣␣␣␣␣␣␣␣␣␣␣␣␣␣␣␣␣␣␣␣␣␣␣␣␣␣␣␣␣␣␣␣␣␣␣␣␣␣␣␣␣␣␣␣␣␣␣␣␣␣␣␣␣␣␣␣␣␣␣␣␣␣␣␣␣␣␣␣␣␣␣␣␣␣␣␣␣␣␣␣␣␣␣␣␣␣␣␣␣␣␣␣␣␣␣␣␣␣␣␣␣␣␣␣␣␣␣␣␣␣␣␣␣␣␣␣␣␣␣␣␣␣␣␣␣␣␣␣␣␣␣␣␣␣␣␣␣␣␣␣␣␣␣␣␣␣␣␣␣␣␣␣␣␣␣␣␣␣␣␣␣␣␣␣␣␣␣␣␣␣␣␣␣␣␣␣␣␣␣␣␣␣␣␣␣␣␣␣␣␣␣␣␣␣␣␣␣␣␣␣␣␣␣␣␣␣␣␣␣␣␣␣␣␣␣␣␣␣␣␣␣␣␣␣␣␣␣␣␣␣␣␣␣␣␣␣␣␣␣␣␣␣␣␣␣␣␣␣␣␣␣␣␣␣␣␣␣␣␣␣␣␣␣␣␣␣␣␣␣␣␣␣␣␣␣␣␣␣␣␣␣␣␣␣␣␣␣␣␣␣␣␣␣␣␣␣␣␣␣␣␣␣␣␣␣␣␣␣␣␣␣␣␣␣␣␣␣␣␣␣␣␣␣␣␣␣␣␣␣␣␣␣␣␣␣␣␣␣␣␣␣␣␣␣␣␣␣␣␣␣␣␣␣␣␣␣␣␣␣␣␣␣␣␣␣␣␣␣␣␣␣␣␣␣␣␣␣␣␣␣␣␣␣␣␣␣␣␣␣␣␣␣␣␣␣␣␣␣␣␣␣␣␣␣␣␣␣␣␣␣␣␣␣␣␣␣␣␣␣␣␣␣␣␣␣␣␣␣␣␣␣␣␣␣␣␣␣␣␣␣␣␣␣␣␣␣␣␣␣␣␣␣␣␣␣␣␣␣␣␣␣␣␣␣␣␣␣␣␣␣␣␣␣␣␣␣␣␣␣␣␣␣␣␣␣␣␣␣␣␣␣␣␣␣␣␣␣␣␣␣␣␣␣␣␣␣␣␣␣␣␣␣␣␣␣␣␣␣␣␣␣␣␣␣␣␣␣␣␣␣␣␣␣␣␣␣␣␣␣␣␣␣␣␣␣␣␣␣␣␣␣␣␣␣␣␣␣␣␣␣␣␣␣␣␣␣␣␣␣␣␣␣␣␣␣␣␣␣␣␣␣␣␣␣␣␣␣␣␣␣␣␣␣␣␣␣␣␣␣␣␣␣␣␣␣␣␣␣␣␣␣␣␣␣␣␣␣␣␣␣␣␣␣␣␣␣␣␣␣␣␣␣␣␣␣␣␣␣␣␣␣␣␣␣␣␣␣␣␣␣␣␣␣␣␣␣␣␣␣␣␣␣␣␣␣␣␣␣␣␣␣␣␣␣␣␣␣␣␣␣␣␣␣␣␣␣␣␣␣␣␣␣␣␣␣␣␣␣␣␣␣␣␣␣␣␣␣␣␣␣␣␣␣␣␣␣␣␣␣␣␣␣␣␣␣␣␣␣␣␣␣␣␣␣␣␣␣␣␣␣␣␣␣␣␣␣␣␣␣␣␣␣␣␣␣␣␣␣␣␣␣␣␣␣␣␣␣␣␣␣␣␣␣␣␣␣␣␣␣␣␣␣␣␣␣␣␣␣␣␣␣␣␣␣␣␣␣␣␣␣␣␣␣␣␣␣␣␣␣␣␣␣␣␣␣␣␣␣␣␣␣␣␣␣␣␣␣␣␣␣␣␣␣␣␣␣␣␣␣␣␣␣␣␣␣␣␣␣␣␣␣␣␣␣␣␣␣␣␣␣␣␣␣␣␣␣␣␣␣␣␣␣␣␣␣␣␣␣␣␣␣␣␣␣␣␣␣␣␣␣␣␣␣␣␣␣␣␣␣␣␣␣␣␣␣␣␣␣␣␣␣␣␣␣␣␣␣␣␣␣␣␣␣␣␣␣␣␣␣␣␣␣␣␣␣␣␣␣␣␣␣␣␣␣␣␣␣␣\n"
     ]
    }
   ],
   "source": [
    "for recipe in dataset.take(1):\n",
    "    print('Raw recipe:\\n', recipe.numpy(), '\\n\\n\\n')\n",
    "    print('Stringified recipe:\\n')\n",
    "    recipe_sequence_to_string(recipe.numpy())"
   ]
  },
  {
   "attachments": {},
   "cell_type": "markdown",
   "metadata": {},
   "source": [
    "### Split examples on input and target texts\n",
    "\n",
    "For each sequence, duplicate and shift it to form the input and target text. For example, say sequence_length is 4 and our text is Hello. The input sequence would be Hell, and the target sequence ello."
   ]
  },
  {
   "cell_type": "code",
   "execution_count": 48,
   "metadata": {},
   "outputs": [],
   "source": [
    "def split_input_target(recipe):\n",
    "    input_text = recipe[:-1]\n",
    "    target_text = recipe[1:]\n",
    "    \n",
    "    return input_text, target_text"
   ]
  },
  {
   "cell_type": "code",
   "execution_count": 49,
   "metadata": {},
   "outputs": [
    {
     "name": "stdout",
     "output_type": "stream",
     "text": [
      "<MapDataset element_spec=(TensorSpec(shape=(2000,), dtype=tf.int32, name=None), TensorSpec(shape=(2000,), dtype=tf.int32, name=None))>\n"
     ]
    }
   ],
   "source": [
    "dataset_targeted = dataset.map(split_input_target)\n",
    "\n",
    "print(dataset_targeted)"
   ]
  },
  {
   "cell_type": "code",
   "execution_count": 50,
   "metadata": {},
   "outputs": [
    {
     "name": "stdout",
     "output_type": "stream",
     "text": [
      "Input sequence size: 2000\n",
      "Target sequence size: 2000\n",
      "\n",
      "Input:   '📚 S l o w   C o o k e r   C h i c k e n   a n d   D u m p l i n g s \\n \\n 🌶 ️ \\n \\n •   4   s k i n l e'\n",
      "Target:  'S l o w   C o o k e r   C h i c k e n   a n d   D u m p l i n g s \\n \\n 🌶 ️ \\n \\n •   4   s k i n l e s'\n"
     ]
    },
    {
     "name": "stderr",
     "output_type": "stream",
     "text": [
      "2023-03-30 14:23:21.050989: W tensorflow/tsl/platform/profile_utils/cpu_utils.cc:128] Failed to get CPU frequency: 0 Hz\n"
     ]
    }
   ],
   "source": [
    "for input_example, target_example in dataset_targeted.take(1):\n",
    "    print('Input sequence size:', repr(len(input_example.numpy())))\n",
    "    print('Target sequence size:', repr(len(target_example.numpy())))\n",
    "    print()\n",
    "    \n",
    "    input_stringified = tokenizer.sequences_to_texts([input_example.numpy()[:50]])[0]\n",
    "    target_stringified = tokenizer.sequences_to_texts([target_example.numpy()[:50]])[0]\n",
    "    \n",
    "    print('Input:  ', repr(''.join(input_stringified)))\n",
    "    print('Target: ', repr(''.join(target_stringified)))"
   ]
  },
  {
   "cell_type": "code",
   "execution_count": 51,
   "metadata": {},
   "outputs": [
    {
     "name": "stdout",
     "output_type": "stream",
     "text": [
      "Step  1\n",
      "  input: 51 ('📚')\n",
      "  expected output: 33 ('S')\n",
      "Step  2\n",
      "  input: 33 ('S')\n",
      "  expected output: 10 ('l')\n",
      "Step  3\n",
      "  input: 10 ('l')\n",
      "  expected output: 5 ('o')\n",
      "Step  4\n",
      "  input: 5 ('o')\n",
      "  expected output: 23 ('w')\n",
      "Step  5\n",
      "  input: 23 ('w')\n",
      "  expected output: 1 (' ')\n",
      "Step  6\n",
      "  input: 1 (' ')\n",
      "  expected output: 35 ('C')\n",
      "Step  7\n",
      "  input: 35 ('C')\n",
      "  expected output: 5 ('o')\n",
      "Step  8\n",
      "  input: 5 ('o')\n",
      "  expected output: 5 ('o')\n",
      "Step  9\n",
      "  input: 5 ('o')\n",
      "  expected output: 25 ('k')\n",
      "Step 10\n",
      "  input: 25 ('k')\n",
      "  expected output: 2 ('e')\n"
     ]
    }
   ],
   "source": [
    "for i, (input_idx, target_idx) in enumerate(zip(input_example[:10], target_example[:10])):\n",
    "    print('Step {:2d}'.format(i + 1))\n",
    "    print('  input: {} ({:s})'.format(input_idx, repr(tokenizer.sequences_to_texts([[input_idx.numpy()]])[0])))\n",
    "    print('  expected output: {} ({:s})'.format(target_idx, repr(tokenizer.sequences_to_texts([[target_idx.numpy()]])[0])))"
   ]
  },
  {
   "cell_type": "markdown",
   "metadata": {},
   "source": [
    "### Split up the dataset into batches"
   ]
  },
  {
   "cell_type": "code",
   "execution_count": 52,
   "metadata": {},
   "outputs": [
    {
     "name": "stdout",
     "output_type": "stream",
     "text": [
      "<MapDataset element_spec=(TensorSpec(shape=(2000,), dtype=tf.int32, name=None), TensorSpec(shape=(2000,), dtype=tf.int32, name=None))>\n"
     ]
    }
   ],
   "source": [
    "print(dataset_targeted)"
   ]
  },
  {
   "cell_type": "code",
   "execution_count": 53,
   "metadata": {},
   "outputs": [
    {
     "name": "stdout",
     "output_type": "stream",
     "text": [
      "TOTAL_RECIPES_NUM:  100165\n",
      "MAX_RECIPE_LENGTH:  2000\n",
      "VOCABULARY_SIZE:  179\n"
     ]
    }
   ],
   "source": [
    "print('TOTAL_RECIPES_NUM: ', TOTAL_RECIPES_NUM)\n",
    "print('MAX_RECIPE_LENGTH: ', MAX_RECIPE_LENGTH)\n",
    "print('VOCABULARY_SIZE: ', VOCABULARY_SIZE)"
   ]
  },
  {
   "cell_type": "code",
   "execution_count": 54,
   "metadata": {},
   "outputs": [],
   "source": [
    "# Batch size.\n",
    "BATCH_SIZE = 64\n",
    "\n",
    "if DEBUG:\n",
    "    BATCH_SIZE = DEBUG_EXAMPLES\n",
    "\n",
    "# Buffer size to shuffle the dataset (TF data is designed to work\n",
    "# with possibly infinite sequences, so it doesn't attempt to shuffle\n",
    "# the entire sequence in memory. Instead, it maintains a buffer in\n",
    "# which it shuffles elements).\n",
    "SHUFFLE_BUFFER_SIZE = 1000\n",
    "\n",
    "if DEBUG:\n",
    "    SHUFFLE_BUFFER_SIZE = 1"
   ]
  },
  {
   "cell_type": "code",
   "execution_count": 55,
   "metadata": {},
   "outputs": [
    {
     "name": "stdout",
     "output_type": "stream",
     "text": [
      "<RepeatDataset element_spec=(TensorSpec(shape=(64, 2000), dtype=tf.int32, name=None), TensorSpec(shape=(64, 2000), dtype=tf.int32, name=None))>\n"
     ]
    }
   ],
   "source": [
    "if DEBUG:\n",
    "    dataset_train = dataset_targeted \\\n",
    "        .repeat() \\\n",
    "        .batch(BATCH_SIZE, drop_remainder=True)\n",
    "else:\n",
    "    dataset_train = dataset_targeted \\\n",
    "      .shuffle(SHUFFLE_BUFFER_SIZE) \\\n",
    "      .batch(BATCH_SIZE, drop_remainder=True) \\\n",
    "      .repeat()\n",
    "\n",
    "print(dataset_train)"
   ]
  },
  {
   "cell_type": "code",
   "execution_count": 56,
   "metadata": {},
   "outputs": [
    {
     "name": "stdout",
     "output_type": "stream",
     "text": [
      "1st batch: input_text: tf.Tensor(\n",
      "[[ 51  33   4 ... 156 156 156]\n",
      " [ 51  44  15 ... 156 156 156]\n",
      " [ 51  61   2 ... 156 156 156]\n",
      " ...\n",
      " [ 51  70  27 ... 156 156 156]\n",
      " [ 51  33  14 ... 156 156 156]\n",
      " [ 51  48   5 ... 156 156 156]], shape=(64, 2000), dtype=int32)\n",
      "\n",
      "1st batch: target_text: tf.Tensor(\n",
      "[[ 33   4   8 ... 156 156 156]\n",
      " [ 44  15  15 ... 156 156 156]\n",
      " [ 61   2   9 ... 156 156 156]\n",
      " ...\n",
      " [ 70  27   2 ... 156 156 156]\n",
      " [ 33  14  18 ... 156 156 156]\n",
      " [ 48   5  13 ... 156 156 156]], shape=(64, 2000), dtype=int32)\n"
     ]
    }
   ],
   "source": [
    "for input_text, target_text in dataset_train.take(1):\n",
    "    print('1st batch: input_text:', input_text)\n",
    "    print()\n",
    "    print('1st batch: target_text:', target_text)"
   ]
  },
  {
   "attachments": {},
   "cell_type": "markdown",
   "metadata": {},
   "source": [
    "### Build the model\n",
    "Use tf.keras.Sequential to define the model. For this experiment we will use the following layer types:\n",
    "\n",
    "tf.keras.layers.Embedding: The input layer. A trainable lookup table that will map the numbers of each character to a vector with embedding_dim dimensions;\n",
    "tf.keras.layers.LSTM: A type of RNN with size units=rnn_units (You can also use a GRU layer here.)\n",
    "tf.keras.layers.Dense: The output layer, with vocab_size outputs."
   ]
  },
  {
   "cell_type": "code",
   "execution_count": null,
   "metadata": {},
   "outputs": [],
   "source": []
  },
  {
   "cell_type": "code",
   "execution_count": 57,
   "metadata": {},
   "outputs": [
    {
     "name": "stdout",
     "output_type": "stream",
     "text": [
      "1/1 [==============================] - 0s 47ms/step\n",
      "tmp_input_array shape: (2, 8)\n",
      "tmp_input_array:\n",
      "[[3 0 4 5 5 1 2 3]\n",
      " [2 4 9 9 9 1 8 7]]\n",
      "\n",
      "tmp_output_array shape: (2, 8, 5)\n",
      "tmp_output_array:\n",
      "[[[-0.01710508 -0.03903931 -0.01630295 -0.00221902  0.01532792]\n",
      "  [-0.01941038  0.03382089  0.01233001  0.03651467 -0.04173885]\n",
      "  [-0.00922685 -0.03777511  0.04515512  0.04975934  0.00715361]\n",
      "  [-0.01551767 -0.04398663 -0.02159615 -0.03673499  0.01142035]\n",
      "  [-0.01551767 -0.04398663 -0.02159615 -0.03673499  0.01142035]\n",
      "  [-0.04856639  0.03576228 -0.0016999   0.03947054  0.02386943]\n",
      "  [ 0.0447562  -0.04373555 -0.00634873  0.02282954  0.01250333]\n",
      "  [-0.01710508 -0.03903931 -0.01630295 -0.00221902  0.01532792]]\n",
      "\n",
      " [[ 0.0447562  -0.04373555 -0.00634873  0.02282954  0.01250333]\n",
      "  [-0.00922685 -0.03777511  0.04515512  0.04975934  0.00715361]\n",
      "  [ 0.04437328 -0.03854138 -0.01519754  0.0481426   0.01836762]\n",
      "  [ 0.04437328 -0.03854138 -0.01519754  0.0481426   0.01836762]\n",
      "  [ 0.04437328 -0.03854138 -0.01519754  0.0481426   0.01836762]\n",
      "  [-0.04856639  0.03576228 -0.0016999   0.03947054  0.02386943]\n",
      "  [ 0.0016076  -0.02401373  0.01644536  0.03563854  0.03563832]\n",
      "  [-0.04811745 -0.01920629  0.01628021 -0.02828904 -0.01284728]]]\n"
     ]
    }
   ],
   "source": [
    "from keras import backend as K\n",
    "K.clear_session()\n",
    "# Let's do a quick detour and see how Embeding layer works.\n",
    "# It takes several char indices sequences (batch) as an input.\n",
    "# It encodes every character of every sequence to a vector of tmp_embeding_size length.\n",
    "tmp_vocab_size = 10\n",
    "tmp_embeding_size = 5\n",
    "tmp_input_length = 8\n",
    "tmp_batch_size = 2\n",
    "\n",
    "tmp_model = tf.keras.models.Sequential()\n",
    "tmp_model.add(tf.keras.layers.Embedding(\n",
    "  input_dim=tmp_vocab_size,\n",
    "  output_dim=tmp_embeding_size,\n",
    "  input_length=tmp_input_length\n",
    "))\n",
    "# The model will take as input an integer matrix of size (batch, input_length).\n",
    "# The largest integer (i.e. word index) in the input should be no larger than 9 (tmp_vocab_size).\n",
    "# Now model.output_shape == (None, 10, 64), where None is the batch dimension.\n",
    "tmp_input_array = np.random.randint(\n",
    "  low=0,\n",
    "  high=tmp_vocab_size,\n",
    "  size=(tmp_batch_size, tmp_input_length)\n",
    ")\n",
    "tmp_model.compile('rmsprop', 'mse')\n",
    "tmp_output_array = tmp_model.predict(tmp_input_array)\n",
    "\n",
    "print('tmp_input_array shape:', tmp_input_array.shape)\n",
    "print('tmp_input_array:')\n",
    "print(tmp_input_array)\n",
    "print()\n",
    "print('tmp_output_array shape:', tmp_output_array.shape)\n",
    "print('tmp_output_array:')\n",
    "print(tmp_output_array)"
   ]
  },
  {
   "attachments": {},
   "cell_type": "markdown",
   "metadata": {},
   "source": [
    "Model"
   ]
  },
  {
   "cell_type": "code",
   "execution_count": 58,
   "metadata": {},
   "outputs": [],
   "source": [
    "# Length of the vocabulary in chars.\n",
    "vocab_size = VOCABULARY_SIZE\n",
    "\n",
    "# The embedding dimension.\n",
    "embedding_dim = 256\n",
    "\n",
    "# Number of RNN units.\n",
    "rnn_units = 1024"
   ]
  },
  {
   "cell_type": "code",
   "execution_count": 59,
   "metadata": {},
   "outputs": [],
   "source": [
    "def build_model_1(vocab_size, embedding_dim, rnn_units, batch_size):\n",
    "    K.clear_session()\n",
    "    model = tf.keras.models.Sequential()\n",
    "\n",
    "    model.add(tf.keras.layers.Embedding(\n",
    "        input_dim=vocab_size,\n",
    "        output_dim=embedding_dim,\n",
    "        batch_input_shape=[batch_size, None]\n",
    "    ))\n",
    "\n",
    "    model.add(tf.keras.layers.LSTM(\n",
    "        units=rnn_units,\n",
    "        return_sequences=True,\n",
    "        stateful=True,\n",
    "        recurrent_initializer=tf.keras.initializers.GlorotNormal()\n",
    "    ))\n",
    "\n",
    "    model.add(tf.keras.layers.Dense(vocab_size))\n",
    "    \n",
    "    return model"
   ]
  },
  {
   "cell_type": "code",
   "execution_count": 60,
   "metadata": {},
   "outputs": [
    {
     "name": "stdout",
     "output_type": "stream",
     "text": [
      "Model: \"sequential\"\n",
      "_________________________________________________________________\n",
      " Layer (type)                Output Shape              Param #   \n",
      "=================================================================\n",
      " embedding (Embedding)       (64, None, 256)           45824     \n",
      "                                                                 \n",
      " lstm (LSTM)                 (64, None, 1024)          5246976   \n",
      "                                                                 \n",
      " dense (Dense)               (64, None, 179)           183475    \n",
      "                                                                 \n",
      "=================================================================\n",
      "Total params: 5,476,275\n",
      "Trainable params: 5,476,275\n",
      "Non-trainable params: 0\n",
      "_________________________________________________________________\n"
     ]
    }
   ],
   "source": [
    "model_1 = build_model_1(vocab_size, embedding_dim, rnn_units, BATCH_SIZE)\n",
    "\n",
    "model_1.summary()"
   ]
  },
  {
   "cell_type": "code",
   "execution_count": 61,
   "metadata": {},
   "outputs": [
    {
     "data": {
      "image/png": "[encoded data removed]",
      "text/plain": [
       "<IPython.core.display.Image object>"
      ]
     },
     "execution_count": 61,
     "metadata": {},
     "output_type": "execute_result"
    }
   ],
   "source": [
    "tf.keras.utils.plot_model(\n",
    "    model_1,\n",
    "    show_shapes=True,\n",
    "    show_layer_names=True,\n",
    "    to_file='model_1.png'\n",
    ")"
   ]
  },
  {
   "attachments": {},
   "cell_type": "markdown",
   "metadata": {},
   "source": [
    "Trying the model"
   ]
  },
  {
   "cell_type": "code",
   "execution_count": 62,
   "metadata": {},
   "outputs": [
    {
     "name": "stdout",
     "output_type": "stream",
     "text": [
      "(64, 2000, 179) # (batch_size, sequence_length, vocab_size)\n"
     ]
    }
   ],
   "source": [
    "for input_example_batch, target_example_batch in dataset_train.take(1):\n",
    "    example_batch_predictions = model_1(input_example_batch)\n",
    "    print(example_batch_predictions.shape, \"# (batch_size, sequence_length, vocab_size)\")"
   ]
  },
  {
   "attachments": {},
   "cell_type": "markdown",
   "metadata": {},
   "source": [
    "To get actual predictions from the model we need to sample from the output distribution, to get actual character indices. This distribution is defined by the logits over the character vocabulary."
   ]
  },
  {
   "cell_type": "code",
   "execution_count": 63,
   "metadata": {},
   "outputs": [
    {
     "name": "stdout",
     "output_type": "stream",
     "text": [
      "Prediction for the 1st letter of the batch 1st sequense:\n",
      "tf.Tensor(\n",
      "[ 2.2256479e-03  2.9853085e-04 -2.1225060e-03  1.4233462e-03\n",
      "  3.3880891e-03  1.9097853e-03  1.3771505e-03  2.9090943e-04\n",
      "  3.5549500e-03  1.9999049e-03  1.3200555e-03 -8.1899198e-04\n",
      "  5.2220798e-03 -4.1660895e-03  6.9634075e-04 -2.5433605e-03\n",
      " -7.2172610e-04  1.4085525e-03  2.9023509e-03 -7.9121580e-04\n",
      " -2.4242012e-03  3.9523384e-03  3.5283514e-03 -2.9997998e-03\n",
      " -4.6986178e-03  1.6747213e-03  1.1991487e-03 -1.0783018e-03\n",
      " -3.4629565e-03  2.3966969e-03 -1.4907686e-03 -4.4431458e-03\n",
      "  5.3265848e-04  1.4132492e-03  5.4454748e-03 -4.3943236e-03\n",
      "  1.1433200e-03 -2.4167991e-04 -4.4291574e-03  3.2832951e-03\n",
      "  2.1516886e-03 -2.6904477e-03 -2.0090439e-03  2.1700042e-03\n",
      "  1.0762336e-03 -5.2644154e-03 -4.4988338e-03  6.8928432e-03\n",
      " -5.4806349e-04 -2.3560152e-04  1.3432323e-03 -4.8772604e-03\n",
      " -1.8176354e-03  6.9145141e-03  5.7911165e-03 -3.7367125e-03\n",
      "  1.4059152e-03 -4.9876729e-03  3.2437434e-03  1.2097432e-03\n",
      " -4.2908317e-03 -6.1439495e-03  1.1861059e-03 -5.6384462e-03\n",
      " -2.2836805e-03  2.1892644e-03  1.2285018e-03 -2.8180031e-03\n",
      "  4.2735254e-03 -2.6574966e-03  8.7528024e-04 -4.6853498e-03\n",
      "  2.4532843e-03  3.4455922e-03  1.2237381e-03 -3.4978683e-03\n",
      " -2.9754229e-03 -9.4635459e-04  2.3366564e-03 -4.3790000e-03\n",
      " -1.5678522e-03 -8.6892702e-05 -6.1167986e-04  3.5586222e-03\n",
      "  3.3479552e-03 -4.9378665e-04 -1.7812999e-03  1.2546597e-03\n",
      "  2.1334647e-04 -1.8666944e-03 -9.0934923e-03 -7.0595206e-03\n",
      "  4.0012556e-03 -1.9214649e-03  3.9348253e-03  1.4125570e-03\n",
      "  4.6825670e-03 -2.7332779e-03  6.9616814e-03 -4.8206900e-03\n",
      "  5.6421622e-03 -2.1827577e-03  1.4508163e-03 -8.3041610e-04\n",
      "  7.8890827e-03  7.6172319e-03 -1.2461834e-03  3.5585221e-03\n",
      " -1.4191709e-04 -6.5022553e-03  5.5791403e-04  5.5771379e-04\n",
      " -1.6314784e-03  1.0917806e-03  2.2244137e-03  3.5908811e-03\n",
      " -4.3452019e-06  4.0125796e-03  2.7819686e-03  1.8923186e-03\n",
      "  6.8204654e-03  7.7786972e-04  1.5448487e-03 -2.2323176e-03\n",
      " -7.8477518e-05 -5.6712963e-03  1.6389997e-05 -3.8735175e-03\n",
      " -3.7866004e-03 -9.7886834e-05  5.5416283e-04  6.6091656e-05\n",
      "  4.4526537e-03  1.4433714e-03  1.9430026e-03  2.9060505e-03\n",
      "  1.9994544e-04  3.2002996e-03 -2.5306740e-03  8.2510995e-04\n",
      " -3.6437712e-03 -4.3362710e-03  1.3108118e-03 -3.6327275e-03\n",
      "  2.2064382e-03  5.9650876e-03 -6.3921046e-04 -1.1015360e-03\n",
      "  4.1493801e-03 -1.3465562e-03 -5.7844189e-04  2.8399631e-04\n",
      "  1.2331890e-03  4.3426640e-03 -8.4876234e-04  3.3513987e-03\n",
      "  5.6218011e-03 -7.5674546e-04  3.1891644e-03 -4.1423202e-03\n",
      " -3.5182985e-03 -1.5703683e-03  1.0074581e-03  1.7029920e-03\n",
      " -4.7182152e-03 -3.6356626e-03 -6.7793229e-04  1.9171578e-03\n",
      "  2.6536253e-03 -2.8512171e-03 -4.2658038e-03 -5.4459283e-03\n",
      "  5.8599855e-03 -1.3489637e-03 -4.7252625e-03  3.9788177e-03\n",
      " -2.4283689e-03 -2.8789071e-03 -5.7181530e-04], shape=(179,), dtype=float32)\n"
     ]
    }
   ],
   "source": [
    "print('Prediction for the 1st letter of the batch 1st sequense:')\n",
    "print(example_batch_predictions[0, 0])"
   ]
  },
  {
   "cell_type": "code",
   "execution_count": 64,
   "metadata": {},
   "outputs": [
    {
     "name": "stdout",
     "output_type": "stream",
     "text": [
      "tf.Tensor([[2 2 1 1 2]], shape=(1, 5), dtype=int64)\n"
     ]
    }
   ],
   "source": [
    "# Quick overview of how tf.random.categorical() works.\n",
    "\n",
    "# logits is 2-D Tensor with shape [batch_size, num_classes].\n",
    "# Each slice [i, :] represents the unnormalized log-probabilities for all classes.\n",
    "# In the example below we say that the probability for class \"0\" is low but the\n",
    "# probability for class \"2\" is much higher.\n",
    "tmp_logits = [\n",
    "  [-0.95, 0, 0.95],\n",
    "];\n",
    "\n",
    "# Let's generate 5 samples. Each sample is a class index. Class probabilities \n",
    "# are being taken into account (we expect to see more samples of class \"2\").\n",
    "tmp_samples = tf.random.categorical(\n",
    "    logits=tmp_logits,\n",
    "    num_samples=5\n",
    ")\n",
    "\n",
    "print(tmp_samples)"
   ]
  },
  {
   "cell_type": "code",
   "execution_count": 65,
   "metadata": {},
   "outputs": [
    {
     "data": {
      "text/plain": [
       "TensorShape([2000, 1])"
      ]
     },
     "execution_count": 65,
     "metadata": {},
     "output_type": "execute_result"
    }
   ],
   "source": [
    "sampled_indices = tf.random.categorical(\n",
    "    logits=example_batch_predictions[0],\n",
    "    num_samples=1\n",
    ")\n",
    "\n",
    "sampled_indices.shape"
   ]
  },
  {
   "cell_type": "code",
   "execution_count": 66,
   "metadata": {},
   "outputs": [
    {
     "data": {
      "text/plain": [
       "(2000,)"
      ]
     },
     "execution_count": 66,
     "metadata": {},
     "output_type": "execute_result"
    }
   ],
   "source": [
    "sampled_indices = tf.squeeze(\n",
    "    input=sampled_indices,\n",
    "    axis=-1\n",
    ").numpy()\n",
    "\n",
    "sampled_indices.shape"
   ]
  },
  {
   "cell_type": "code",
   "execution_count": 67,
   "metadata": {},
   "outputs": [
    {
     "data": {
      "text/plain": [
       "array([133, 168, 157,   1,  81,  88, 150,  40, 119, 110,  84,  13,  53,\n",
       "       152,  15,  57,  97,  41,  69,  64, 153,  61, 151, 130,  22, 175,\n",
       "        73, 106, 109, 130, 107, 135,  24,  86,  74, 132,  37,  25,  34,\n",
       "       140,  80, 162,   3,  46,  87, 163,  83, 175, 175, 106, 140, 144,\n",
       "       129, 116, 105, 139,  50, 158,  56, 163,  21, 138, 165,  53,  67,\n",
       "       107,  60,  34, 126,  41, 169,  92, 160,  42,  94, 107,  76, 116,\n",
       "         0, 112, 141, 170,  79, 143,  96, 159,  23, 124,  23,  65, 125,\n",
       "        20,  88,  64,  97, 165,  38,  90, 163, 147])"
      ]
     },
     "execution_count": 67,
     "metadata": {},
     "output_type": "execute_result"
    }
   ],
   "source": [
    "sampled_indices[:100]"
   ]
  },
  {
   "cell_type": "code",
   "execution_count": 68,
   "metadata": {},
   "outputs": [
    {
     "name": "stdout",
     "output_type": "stream",
     "text": [
      "Input:\n",
      " '📚 S a u t e e d   A p p l e s \\n \\n 🌶 ️ \\n \\n •   1 / 4   c u p   b u t t e r   \\n •   4   l a r g e   t'\n",
      "\n",
      "Next char prediction:\n",
      " '́ Â Á   é – ‧ 5 [ $ Q c ️ ⅛ p I ¿ 0 7 G å D \\u202d ä f ⅞ K © > ä ¼ ö • ! 9 ù 3 k 4 ” ° ⅓ a z Z | Y ⅞ ⅞ ©'\n"
     ]
    }
   ],
   "source": [
    "print('Input:\\n', repr(''.join(tokenizer.sequences_to_texts([input_example_batch[0].numpy()[:50]]))))\n",
    "print()\n",
    "print('Next char prediction:\\n', repr(''.join(tokenizer.sequences_to_texts([sampled_indices[:50]]))))"
   ]
  },
  {
   "attachments": {},
   "cell_type": "markdown",
   "metadata": {},
   "source": [
    "Trying the model with variable input"
   ]
  },
  {
   "cell_type": "code",
   "execution_count": 69,
   "metadata": {},
   "outputs": [
    {
     "name": "stdout",
     "output_type": "stream",
     "text": [
      "Prediction shape:  (64, 10, 179) # (batch_size, sequence_length, vocab_size)\n",
      "\n",
      "Custom length input: \n",
      "[[0. 0. 0. 0. 0. 0. 0. 0. 0. 0.]\n",
      " [0. 0. 0. 0. 0. 0. 0. 0. 0. 0.]\n",
      " [0. 0. 0. 0. 0. 0. 0. 0. 0. 0.]\n",
      " [0. 0. 0. 0. 0. 0. 0. 0. 0. 0.]\n",
      " [0. 0. 0. 0. 0. 0. 0. 0. 0. 0.]\n",
      " [0. 0. 0. 0. 0. 0. 0. 0. 0. 0.]\n",
      " [0. 0. 0. 0. 0. 0. 0. 0. 0. 0.]\n",
      " [0. 0. 0. 0. 0. 0. 0. 0. 0. 0.]\n",
      " [0. 0. 0. 0. 0. 0. 0. 0. 0. 0.]\n",
      " [0. 0. 0. 0. 0. 0. 0. 0. 0. 0.]\n",
      " [0. 0. 0. 0. 0. 0. 0. 0. 0. 0.]\n",
      " [0. 0. 0. 0. 0. 0. 0. 0. 0. 0.]\n",
      " [0. 0. 0. 0. 0. 0. 0. 0. 0. 0.]\n",
      " [0. 0. 0. 0. 0. 0. 0. 0. 0. 0.]\n",
      " [0. 0. 0. 0. 0. 0. 0. 0. 0. 0.]\n",
      " [0. 0. 0. 0. 0. 0. 0. 0. 0. 0.]\n",
      " [0. 0. 0. 0. 0. 0. 0. 0. 0. 0.]\n",
      " [0. 0. 0. 0. 0. 0. 0. 0. 0. 0.]\n",
      " [0. 0. 0. 0. 0. 0. 0. 0. 0. 0.]\n",
      " [0. 0. 0. 0. 0. 0. 0. 0. 0. 0.]\n",
      " [0. 0. 0. 0. 0. 0. 0. 0. 0. 0.]\n",
      " [0. 0. 0. 0. 0. 0. 0. 0. 0. 0.]\n",
      " [0. 0. 0. 0. 0. 0. 0. 0. 0. 0.]\n",
      " [0. 0. 0. 0. 0. 0. 0. 0. 0. 0.]\n",
      " [0. 0. 0. 0. 0. 0. 0. 0. 0. 0.]\n",
      " [0. 0. 0. 0. 0. 0. 0. 0. 0. 0.]\n",
      " [0. 0. 0. 0. 0. 0. 0. 0. 0. 0.]\n",
      " [0. 0. 0. 0. 0. 0. 0. 0. 0. 0.]\n",
      " [0. 0. 0. 0. 0. 0. 0. 0. 0. 0.]\n",
      " [0. 0. 0. 0. 0. 0. 0. 0. 0. 0.]\n",
      " [0. 0. 0. 0. 0. 0. 0. 0. 0. 0.]\n",
      " [0. 0. 0. 0. 0. 0. 0. 0. 0. 0.]\n",
      " [0. 0. 0. 0. 0. 0. 0. 0. 0. 0.]\n",
      " [0. 0. 0. 0. 0. 0. 0. 0. 0. 0.]\n",
      " [0. 0. 0. 0. 0. 0. 0. 0. 0. 0.]\n",
      " [0. 0. 0. 0. 0. 0. 0. 0. 0. 0.]\n",
      " [0. 0. 0. 0. 0. 0. 0. 0. 0. 0.]\n",
      " [0. 0. 0. 0. 0. 0. 0. 0. 0. 0.]\n",
      " [0. 0. 0. 0. 0. 0. 0. 0. 0. 0.]\n",
      " [0. 0. 0. 0. 0. 0. 0. 0. 0. 0.]\n",
      " [0. 0. 0. 0. 0. 0. 0. 0. 0. 0.]\n",
      " [0. 0. 0. 0. 0. 0. 0. 0. 0. 0.]\n",
      " [0. 0. 0. 0. 0. 0. 0. 0. 0. 0.]\n",
      " [0. 0. 0. 0. 0. 0. 0. 0. 0. 0.]\n",
      " [0. 0. 0. 0. 0. 0. 0. 0. 0. 0.]\n",
      " [0. 0. 0. 0. 0. 0. 0. 0. 0. 0.]\n",
      " [0. 0. 0. 0. 0. 0. 0. 0. 0. 0.]\n",
      " [0. 0. 0. 0. 0. 0. 0. 0. 0. 0.]\n",
      " [0. 0. 0. 0. 0. 0. 0. 0. 0. 0.]\n",
      " [0. 0. 0. 0. 0. 0. 0. 0. 0. 0.]\n",
      " [0. 0. 0. 0. 0. 0. 0. 0. 0. 0.]\n",
      " [0. 0. 0. 0. 0. 0. 0. 0. 0. 0.]\n",
      " [0. 0. 0. 0. 0. 0. 0. 0. 0. 0.]\n",
      " [0. 0. 0. 0. 0. 0. 0. 0. 0. 0.]\n",
      " [0. 0. 0. 0. 0. 0. 0. 0. 0. 0.]\n",
      " [0. 0. 0. 0. 0. 0. 0. 0. 0. 0.]\n",
      " [0. 0. 0. 0. 0. 0. 0. 0. 0. 0.]\n",
      " [0. 0. 0. 0. 0. 0. 0. 0. 0. 0.]\n",
      " [0. 0. 0. 0. 0. 0. 0. 0. 0. 0.]\n",
      " [0. 0. 0. 0. 0. 0. 0. 0. 0. 0.]\n",
      " [0. 0. 0. 0. 0. 0. 0. 0. 0. 0.]\n",
      " [0. 0. 0. 0. 0. 0. 0. 0. 0. 0.]\n",
      " [0. 0. 0. 0. 0. 0. 0. 0. 0. 0.]\n",
      " [0. 0. 0. 0. 0. 0. 0. 0. 0. 0.]]\n"
     ]
    }
   ],
   "source": [
    "for input_example_batch_custom, target_example_batch_custom in dataset_train.take(1):\n",
    "    random_input = np.zeros(shape=(BATCH_SIZE, 10))\n",
    "    example_batch_predictions_custom = model_1(random_input)\n",
    "    print('Prediction shape: ', example_batch_predictions_custom.shape, \"# (batch_size, sequence_length, vocab_size)\\n\")\n",
    "    print('Custom length input: ')\n",
    "    print(random_input)"
   ]
  },
  {
   "attachments": {},
   "cell_type": "markdown",
   "metadata": {},
   "source": [
    "Training the model\n",
    "Attach an optimizer, and a loss function"
   ]
  },
  {
   "cell_type": "code",
   "execution_count": 70,
   "metadata": {},
   "outputs": [
    {
     "name": "stdout",
     "output_type": "stream",
     "text": [
      "Prediction shape:  (64, 2000, 179)  # (batch_size, sequence_length, vocab_size)\n",
      "scalar_loss.shape:       (64, 2000)\n",
      "scalar_loss:       5.1769958\n"
     ]
    }
   ],
   "source": [
    "# An objective function.\n",
    "# The function is any callable with the signature scalar_loss = fn(y_true, y_pred).\n",
    "def loss(labels, logits):\n",
    "    entropy = tf.keras.losses.sparse_categorical_crossentropy(\n",
    "      y_true=labels,\n",
    "      y_pred=logits,\n",
    "      from_logits=True\n",
    "    )\n",
    "    \n",
    "    return entropy\n",
    "\n",
    "example_batch_loss = loss(target_example_batch, example_batch_predictions)\n",
    "\n",
    "print(\"Prediction shape: \", example_batch_predictions.shape, \" # (batch_size, sequence_length, vocab_size)\")\n",
    "print(\"scalar_loss.shape:      \", example_batch_loss.shape)\n",
    "print(\"scalar_loss:      \", example_batch_loss.numpy().mean())"
   ]
  },
  {
   "cell_type": "code",
   "execution_count": null,
   "metadata": {},
   "outputs": [],
   "source": []
  },
  {
   "cell_type": "code",
   "execution_count": 71,
   "metadata": {},
   "outputs": [],
   "source": [
    "adam_optimizer = tf.keras.optimizers.Adam(learning_rate=0.001)\n",
    "\n",
    "model_1.compile(\n",
    "    optimizer=adam_optimizer,\n",
    "    loss=loss\n",
    ")"
   ]
  },
  {
   "attachments": {},
   "cell_type": "markdown",
   "metadata": {},
   "source": [
    "Configuring checkpoints"
   ]
  },
  {
   "cell_type": "code",
   "execution_count": 72,
   "metadata": {},
   "outputs": [],
   "source": [
    "!rm -rf './tmp/checkpoints'"
   ]
  },
  {
   "cell_type": "code",
   "execution_count": 73,
   "metadata": {},
   "outputs": [],
   "source": [
    "# Directory where the checkpoints will be saved.\n",
    "checkpoint_dir = 'tmp/checkpoints'\n",
    "os.makedirs(checkpoint_dir, exist_ok=True)"
   ]
  },
  {
   "cell_type": "code",
   "execution_count": 74,
   "metadata": {},
   "outputs": [],
   "source": [
    "def download_latest_checkpoint(zip_only=True):\n",
    "    latest_checkpoint_path = tf.train.latest_checkpoint(checkpoint_dir)\n",
    "    latest_checkpoint_name = os.path.split(latest_checkpoint_path)[-1]\n",
    "    latest_checkpoint_zip_name = latest_checkpoint_name + '.zip'\n",
    "    \n",
    "    print('latest_checkpoint_path: ', latest_checkpoint_path)\n",
    "    print('latest_checkpoint_name: ', latest_checkpoint_name)\n",
    "    print('---\\n')\n",
    "\n",
    "    print('Checkpoint files:')\n",
    "    with zipfile.ZipFile(latest_checkpoint_zip_name, mode='w') as zip_obj:\n",
    "        for folder_name, subfolders, filenames in os.walk(checkpoint_dir):\n",
    "            for filename in filenames:\n",
    "                if filename.startswith(latest_checkpoint_name):\n",
    "                        print('  - ' + filename)\n",
    "                        file_path = os.path.join(folder_name, filename)\n",
    "                        zip_obj.write(file_path, os.path.basename(file_path))\n",
    "    print('---\\n')\n",
    "    print('Zipped to: ', latest_checkpoint_zip_name)\n",
    "\n",
    "    if not zip_only:\n",
    "        files.download(latest_checkpoint_zip_name)"
   ]
  },
  {
   "cell_type": "code",
   "execution_count": 75,
   "metadata": {},
   "outputs": [],
   "source": [
    "def model_weights_from_latest_checkpoint(model):\n",
    "    latest_checkpoint_path = tf.train.latest_checkpoint(checkpoint_dir)\n",
    "\n",
    "    if not latest_checkpoint_path:\n",
    "        print('Latest checkpoint was not found. Using model as is.')\n",
    "        return model\n",
    "\n",
    "    print('latest_checkpoint_path: ', latest_checkpoint_path)\n",
    "\n",
    "    model.load_weights(latest_checkpoint_path)\n",
    "\n",
    "    return model"
   ]
  },
  {
   "cell_type": "code",
   "execution_count": 76,
   "metadata": {},
   "outputs": [],
   "source": [
    "def initial_epoch_from_latest_checkpoint():\n",
    "    latest_checkpoint_path = tf.train.latest_checkpoint(checkpoint_dir)\n",
    "\n",
    "    if not latest_checkpoint_path:\n",
    "        print('Latest checkpoint was not found. Starting from epoch #0')\n",
    "        return 0\n",
    "\n",
    "    print('latest_checkpoint_path: ', latest_checkpoint_path)\n",
    "\n",
    "    latest_checkpoint_name = os.path.split(latest_checkpoint_path)[-1]\n",
    "    print('latest_checkpoint_name: ', latest_checkpoint_name)\n",
    "\n",
    "    latest_checkpoint_num = latest_checkpoint_name.split('_')[-1]\n",
    "    print('latest_checkpoint_num: ', latest_checkpoint_num)\n",
    "\n",
    "    return int(latest_checkpoint_num)"
   ]
  },
  {
   "cell_type": "code",
   "execution_count": 77,
   "metadata": {},
   "outputs": [],
   "source": [
    "def unzip_checkpoint(checkpoint_zip_path):\n",
    "    if not os.path.exists(checkpoint_zip_path):\n",
    "        print('Cannot find a specified file')\n",
    "        return\n",
    "\n",
    "    os.makedirs(checkpoint_dir, exist_ok=True)\n",
    "    with zipfile.ZipFile(checkpoint_zip_path, 'r') as zip_obj:\n",
    "        zip_obj.extractall(checkpoint_dir)\n",
    "\n",
    "    %ls -la ./tmp/checkpoints"
   ]
  },
  {
   "attachments": {},
   "cell_type": "markdown",
   "metadata": {},
   "source": [
    "Configuring callbacks"
   ]
  },
  {
   "cell_type": "code",
   "execution_count": 78,
   "metadata": {},
   "outputs": [],
   "source": [
    "early_stopping_callback = tf.keras.callbacks.EarlyStopping(\n",
    "    patience=5,\n",
    "    monitor='loss',\n",
    "    restore_best_weights=True,\n",
    "    verbose=1\n",
    ")"
   ]
  },
  {
   "cell_type": "code",
   "execution_count": 79,
   "metadata": {},
   "outputs": [],
   "source": [
    "checkpoint_prefix = os.path.join(checkpoint_dir, 'ckpt_{epoch}')\n",
    "checkpoint_callback=tf.keras.callbacks.ModelCheckpoint(\n",
    "    filepath=checkpoint_prefix,\n",
    "    save_weights_only=True\n",
    ")"
   ]
  },
  {
   "attachments": {},
   "cell_type": "markdown",
   "metadata": {},
   "source": [
    "The training execution was made on a notebook using Kaggle due to the GPU availability"
   ]
  },
  {
   "cell_type": "code",
   "execution_count": 80,
   "metadata": {},
   "outputs": [],
   "source": [
    "simplified_batch_size = 1\n",
    "model_1_simplified = build_model_1(vocab_size, embedding_dim, rnn_units, simplified_batch_size)\n",
    "model_1_simplified.load_weights('recipe_generation_rnn.h5')"
   ]
  },
  {
   "cell_type": "code",
   "execution_count": 81,
   "metadata": {},
   "outputs": [
    {
     "name": "stdout",
     "output_type": "stream",
     "text": [
      "Model: \"sequential\"\n",
      "_________________________________________________________________\n",
      " Layer (type)                Output Shape              Param #   \n",
      "=================================================================\n",
      " embedding (Embedding)       (1, None, 256)            45824     \n",
      "                                                                 \n",
      " lstm (LSTM)                 (1, None, 1024)           5246976   \n",
      "                                                                 \n",
      " dense (Dense)               (1, None, 179)            183475    \n",
      "                                                                 \n",
      "=================================================================\n",
      "Total params: 5,476,275\n",
      "Trainable params: 5,476,275\n",
      "Non-trainable params: 0\n",
      "_________________________________________________________________\n"
     ]
    }
   ],
   "source": [
    "model_1_simplified.summary() "
   ]
  },
  {
   "cell_type": "code",
   "execution_count": 82,
   "metadata": {},
   "outputs": [
    {
     "data": {
      "text/plain": [
       "(1, None)"
      ]
     },
     "execution_count": 82,
     "metadata": {},
     "output_type": "execute_result"
    }
   ],
   "source": [
    "model_1_simplified.input_shape"
   ]
  },
  {
   "cell_type": "code",
   "execution_count": 83,
   "metadata": {},
   "outputs": [],
   "source": [
    "# num_generate\n",
    "# - number of characters to generate.\n",
    "#\n",
    "# temperature\n",
    "# - Low temperatures results in more predictable text.\n",
    "# - Higher temperatures results in more surprising text.\n",
    "# - Experiment to find the best setting.\n",
    "def generate_text(model, start_string, num_generate = 1000, temperature=1.0):\n",
    "    # Evaluation step (generating text using the learned model)\n",
    "    \n",
    "    padded_start_string = STOP_WORD_TITLE + start_string\n",
    "\n",
    "    # Converting our start string to numbers (vectorizing).\n",
    "    input_indices = np.array(tokenizer.texts_to_sequences([padded_start_string]))\n",
    "\n",
    "    # Empty string to store our results.\n",
    "    text_generated = []\n",
    "\n",
    "    # Here batch size == 1.\n",
    "    model.reset_states()\n",
    "    for char_index in range(num_generate):\n",
    "        predictions = model(input_indices)\n",
    "        # remove the batch dimension\n",
    "        predictions = tf.squeeze(predictions, 0)\n",
    "\n",
    "        # Using a categorical distribution to predict the character returned by the model.\n",
    "        predictions = predictions / temperature\n",
    "        predicted_id = tf.random.categorical(\n",
    "            predictions,\n",
    "            num_samples=1\n",
    "        )[-1,0].numpy()\n",
    "\n",
    "        # We pass the predicted character as the next input to the model\n",
    "        # along with the previous hidden state.\n",
    "        input_indices = tf.expand_dims([predicted_id], 0)\n",
    "        \n",
    "        next_character = tokenizer.sequences_to_texts(input_indices.numpy())[0]\n",
    "\n",
    "        text_generated.append(next_character)\n",
    "\n",
    "    return (padded_start_string + ''.join(text_generated))"
   ]
  },
  {
   "cell_type": "code",
   "execution_count": 94,
   "metadata": {},
   "outputs": [],
   "source": [
    "def generate_combinations(model):\n",
    "    recipe_length = 1000\n",
    "    try_letters = ['', '\\n', 'A', 'B', 'C', 'Mushroom', 'The', 'Sauce', 'Spinach']\n",
    "    try_temperature = [1.0, 0.8]\n",
    "\n",
    "    for letter in try_letters:\n",
    "        for temperature in try_temperature:\n",
    "            generated_text = generate_text(\n",
    "                model,\n",
    "                start_string=letter,\n",
    "                num_generate = recipe_length,\n",
    "                temperature=temperature\n",
    "            )\n",
    "            print(f'Attempt: \"{letter}\" + {temperature}')\n",
    "            print('-----------------------------------')\n",
    "            print(generated_text)\n",
    "            print('\\n\\n')"
   ]
  },
  {
   "cell_type": "code",
   "execution_count": 95,
   "metadata": {},
   "outputs": [
    {
     "name": "stdout",
     "output_type": "stream",
     "text": [
      "Attempt: \"\" + 1.0\n",
      "-----------------------------------\n",
      "📚PRITATES Ginger Chex Mamained Onion Meatballes\n",
      "\n",
      "🌶️\n",
      "\n",
      "• 1 cup mayonnaise\n",
      "• 1/2 cup vegetable broth\n",
      "• 2 onions, finely chopped (7 to 8 ounces)\n",
      "• Sea salt, steamy preferred blend, recipe follows\n",
      "• 4 eggs, beaten\n",
      "• 1 tsp. brown sugar\n",
      "• 1/2 tsp garlic powder\n",
      "• 1 mixed chicory, sheets trimmed, such as cremini, frisee, ends and guest underchipe uses.\n",
      "• 24 grams sweet pancakes\n",
      "• 2/3 cup shredded asiago, softened butter cheese\n",
      "• 6 eggs\n",
      "• 10 cloves garlic\n",
      "• 1/3 cup all-purpose flour\n",
      "\n",
      "🧑‍🍳\n",
      "\n",
      "▪︎ Preheat oven to 450 degrees F.\n",
      "▪︎ Scrape slabs off of the marinade. Place a large plastic wrap over juice and fennel mixture. Combine the turkey with a fried egg whites, seeded remaining chicken breasts, more brown sugar and vinegar. Spread to dishes about 1-inch from the bottom of the middle. Coat a flour or cookie sheet with butter; mix well. Rub this dust spray in extra 1ge. Place under broiler for 2 to 3 minutes over moderate heat 20 to 35 minutes over medium heat and set aside.\n",
      "▪︎ To make the M&M's Liqui\n",
      "\n",
      "\n",
      "\n",
      "Attempt: \"\" + 0.8\n",
      "-----------------------------------\n",
      "📚hndippines\n",
      "\n",
      "🧑‍🍳\n",
      "\n",
      "▪︎ Heat the canola oil to about 375 degrees F over medium heat, stirring and swirl the pot halfway up the sides of the pot, then reduce the heat to a medium heat. Saute the vegetables until golden brown, about 15 minutes. Remove with tongs to a plate.\n",
      "▪︎ In a small pot, add the remaining 1/4 cup oil, and the cinnamon stick and cook the mixture over moderately low heat for 2 minutes, then remove from heat, stir in the lime zest and season with salt and pepper. Transfer to a serving bowl and garnish with cilantro.\n",
      "␣␣␣␣␣␣␣␣␣␣␣␣␣␣␣␣␣␣␣␣␣␣␣␣␣␣␣␣␣␣␣␣␣␣␣␣␣␣␣␣␣␣␣␣␣␣␣␣␣␣␣␣␣␣␣␣␣␣␣␣␣␣␣␣␣␣␣␣␣␣␣␣␣␣␣␣␣␣␣␣␣␣␣␣␣␣␣␣␣␣␣␣␣␣␣␣␣␣␣␣␣␣␣␣␣␣␣␣␣␣␣␣␣␣␣␣␣␣␣␣␣␣␣␣␣␣␣␣␣␣␣␣␣␣␣␣␣␣␣␣␣␣␣␣␣␣␣␣␣␣␣␣␣␣␣␣␣␣␣␣␣␣␣␣␣␣␣␣␣␣␣␣␣␣␣␣␣␣␣␣␣␣␣␣␣␣␣␣␣␣␣␣␣␣␣␣␣␣␣␣␣␣␣␣␣␣␣␣␣␣␣␣␣␣␣␣␣␣␣␣␣␣␣␣␣␣␣␣␣␣␣␣␣␣␣␣␣␣␣␣␣␣␣␣␣␣␣␣␣␣␣␣␣␣␣␣␣␣␣␣␣␣␣␣␣␣␣␣␣␣␣␣␣␣␣␣␣␣␣␣␣␣␣␣␣␣␣␣␣␣␣␣␣␣␣␣␣␣␣␣␣␣␣␣␣␣␣␣␣␣␣␣␣␣␣␣␣␣␣␣␣␣␣␣␣␣␣␣␣␣␣␣␣␣␣␣␣␣␣␣␣␣␣␣␣␣␣␣␣␣␣␣␣␣␣␣␣␣␣␣␣␣␣␣␣␣␣␣␣␣␣␣␣␣␣␣␣␣␣␣␣␣␣␣␣␣␣␣␣␣␣␣␣␣␣␣␣␣␣␣␣␣␣␣␣␣␣␣␣␣␣␣␣␣␣␣␣␣␣␣␣␣␣␣␣␣␣␣␣␣␣␣␣␣␣␣␣␣␣␣␣␣␣␣␣␣␣␣␣␣␣␣␣␣␣␣␣␣␣␣␣␣␣␣␣\n",
      "\n",
      "\n",
      "\n",
      "Attempt: \"\n",
      "\" + 1.0\n",
      "-----------------------------------\n",
      "📚\n",
      "␣␣␣␣␣␣␣␣␣␣␣␣␣␣␣␣␣␣␣␣␣␣␣␣␣␣␣␣␣␣␣␣␣␣␣␣␣␣␣␣␣␣␣␣␣␣␣␣␣␣␣␣␣␣␣␣␣␣␣␣␣␣␣␣␣␣␣␣␣␣␣␣␣␣␣␣␣␣␣␣␣␣␣␣␣␣␣␣␣␣␣␣␣␣␣␣␣␣␣␣␣␣␣␣␣␣␣␣␣␣␣␣␣␣␣␣␣␣␣␣␣␣␣␣␣␣␣␣␣␣␣␣␣␣␣␣␣␣␣␣␣␣␣␣␣␣␣␣␣␣␣␣␣␣␣␣␣␣␣␣␣␣␣␣␣␣␣␣␣␣␣␣␣␣␣␣␣␣␣␣␣␣␣␣␣␣␣␣␣␣␣␣␣␣␣␣␣␣␣␣␣␣␣␣␣␣␣␣␣␣␣␣␣␣␣␣␣␣␣␣␣␣␣␣␣␣␣␣␣␣␣␣␣␣␣␣␣␣␣␣␣␣␣␣␣␣␣␣␣␣␣␣␣␣␣␣␣␣␣␣␣␣␣␣␣␣␣␣␣␣␣␣␣␣␣␣␣␣␣␣␣␣␣␣␣␣␣␣␣␣␣␣␣␣␣␣␣␣␣␣␣␣␣␣␣␣␣␣␣␣␣␣␣␣␣␣␣␣␣␣␣␣␣␣␣␣␣␣␣␣␣␣␣␣␣␣␣␣␣␣␣␣␣␣␣␣␣␣␣␣␣␣␣␣␣␣␣␣␣␣␣␣␣␣␣␣␣␣␣␣␣␣␣␣␣␣␣␣␣␣␣␣␣␣␣␣␣␣␣␣␣␣␣␣␣␣␣␣␣␣␣␣␣␣␣␣␣␣␣␣␣␣␣␣␣␣␣␣␣␣␣␣␣␣␣␣␣␣␣␣␣␣␣␣␣␣␣␣␣␣␣␣␣␣␣␣␣␣␣␣␣␣␣␣␣␣␣␣␣␣␣␣␣␣␣␣␣␣␣␣␣␣␣␣␣␣␣␣␣␣␣␣␣␣␣␣␣␣␣␣␣␣␣␣␣␣␣␣␣␣␣␣␣␣␣␣␣␣␣␣␣␣␣␣␣␣␣␣␣␣␣␣␣␣␣␣␣␣␣␣␣␣␣␣␣␣␣␣␣␣␣␣␣␣␣␣␣␣␣␣␣␣␣␣␣␣␣␣␣␣␣␣␣␣␣␣␣␣␣␣␣␣␣␣␣␣␣␣␣␣␣␣␣␣␣␣␣␣␣␣␣␣␣␣␣␣␣␣␣␣␣␣␣␣␣␣␣␣␣␣␣␣␣␣␣␣␣␣␣␣␣␣␣␣␣␣␣␣␣␣␣␣␣␣␣␣␣␣␣␣␣␣␣␣␣␣␣␣␣␣␣␣␣␣␣␣␣␣␣␣␣␣␣␣␣␣␣␣␣␣␣␣␣␣␣␣␣␣␣␣␣␣␣␣␣␣␣␣␣␣␣␣␣␣␣␣␣␣␣␣␣␣␣␣␣␣␣␣␣␣␣␣␣␣␣␣␣␣␣␣␣␣␣␣␣␣␣␣␣␣␣␣␣␣␣␣␣␣␣␣␣␣␣␣␣␣␣␣␣␣␣␣␣␣␣␣␣␣␣␣␣␣␣␣␣␣␣␣␣␣␣␣␣␣␣␣␣␣␣␣␣␣␣␣␣␣␣␣␣␣␣␣␣␣␣␣␣␣␣␣␣␣␣␣␣␣␣␣␣␣␣␣␣␣␣␣␣␣␣␣␣␣␣␣␣␣␣␣␣␣␣␣␣␣␣␣␣␣␣␣␣␣␣␣␣␣␣␣␣␣␣␣␣␣␣␣␣␣␣␣␣␣␣␣␣␣␣␣␣␣␣␣␣␣␣␣␣␣␣␣␣␣␣␣␣␣␣␣␣␣␣␣␣␣␣␣␣␣␣␣␣␣␣␣␣␣␣␣␣␣␣␣␣␣␣␣␣␣␣␣␣␣␣␣␣␣␣␣␣␣␣␣␣␣␣␣␣␣␣␣␣␣␣␣␣␣␣␣␣␣␣␣␣␣␣␣␣␣␣␣␣␣␣␣␣␣␣␣␣␣␣␣␣␣␣␣␣␣␣␣␣␣␣␣␣␣␣␣␣␣␣␣␣␣␣␣␣␣␣␣\n",
      "\n",
      "\n",
      "\n",
      "Attempt: \"\n",
      "\" + 0.8\n",
      "-----------------------------------\n",
      "📚\n",
      "␣␣␣␣␣␣␣␣␣␣␣␣␣␣␣␣␣␣␣␣␣␣␣␣␣␣␣␣␣␣␣␣␣␣␣␣␣␣␣␣␣␣␣␣␣␣␣␣␣␣␣␣␣␣␣␣␣␣␣␣␣␣␣␣␣␣␣␣␣␣␣␣␣␣␣␣␣␣␣␣␣␣␣␣␣␣␣␣␣␣␣␣␣␣␣␣␣␣␣␣␣␣␣␣␣␣␣␣␣␣␣␣␣␣␣␣␣␣␣␣␣␣␣␣␣␣␣␣␣␣␣␣␣␣␣␣␣␣␣␣␣␣␣␣␣␣␣␣␣␣␣␣␣␣␣␣␣␣␣␣␣␣␣␣␣␣␣␣␣␣␣␣␣␣␣␣␣␣␣␣␣␣␣␣␣␣␣␣␣␣␣␣␣␣␣␣␣␣␣␣␣␣␣␣␣␣␣␣␣␣␣␣␣␣␣␣␣␣␣␣␣␣␣␣␣␣␣␣␣␣␣␣␣␣␣␣␣␣␣␣␣␣␣␣␣␣␣␣␣␣␣␣␣␣␣␣␣␣␣␣␣␣␣␣␣␣␣␣␣␣␣␣␣␣␣␣␣␣␣␣␣␣␣␣␣␣␣␣␣␣␣␣␣␣␣␣␣␣␣␣␣␣␣␣␣␣␣␣␣␣␣␣␣␣␣␣␣␣␣␣␣␣␣␣␣␣␣␣␣␣␣␣␣␣␣␣␣␣␣␣␣␣␣␣␣␣␣␣␣␣␣␣␣␣␣␣␣␣␣␣␣␣␣␣␣␣␣␣␣␣␣␣␣␣␣␣␣␣␣␣␣␣␣␣␣␣␣␣␣␣␣␣␣␣␣␣␣␣␣␣␣␣␣␣␣␣␣␣␣␣␣␣␣␣␣␣␣␣␣␣␣␣␣␣␣␣␣␣␣␣␣␣␣␣␣␣␣␣␣␣␣␣␣␣␣␣␣␣␣␣␣␣␣␣␣␣␣␣␣␣␣␣␣␣␣␣␣␣␣␣␣␣␣␣␣␣␣␣␣␣␣␣␣␣␣␣␣␣␣␣␣␣␣␣␣␣␣␣␣␣␣␣␣␣␣␣␣␣␣␣␣␣␣␣␣␣␣␣␣␣␣␣␣␣␣␣␣␣␣␣␣␣␣␣␣␣␣␣␣␣␣␣␣␣␣␣␣␣␣␣␣␣␣␣␣␣␣␣␣␣␣␣␣␣␣␣␣␣␣␣␣␣␣␣␣␣␣␣␣␣␣␣␣␣␣␣␣␣␣␣␣␣␣␣␣␣␣␣␣␣␣␣␣␣␣␣␣␣␣␣␣␣␣␣␣␣␣␣␣␣␣␣␣␣␣␣␣␣␣␣␣␣␣␣␣␣␣␣␣␣␣␣␣␣␣␣␣␣␣␣␣␣␣␣␣␣␣␣␣␣␣␣␣␣␣␣␣␣␣␣␣␣␣␣␣␣␣␣␣␣␣␣␣␣␣␣␣␣␣␣␣␣␣␣␣␣␣␣␣␣␣␣␣␣␣␣␣␣␣␣␣␣␣␣␣␣␣␣␣␣␣␣␣␣␣␣␣␣␣␣␣␣␣␣␣␣␣␣␣␣␣␣␣␣␣␣␣␣␣␣␣␣␣␣␣␣␣␣␣␣␣␣␣␣␣␣␣␣␣␣␣␣␣␣␣␣␣␣␣␣␣␣␣␣␣␣␣␣␣␣␣␣␣␣␣␣␣␣␣␣␣␣␣␣␣␣␣␣␣␣␣␣␣␣␣␣␣␣␣␣␣␣␣␣␣␣␣␣␣␣␣␣␣␣␣␣␣␣␣␣␣␣␣␣␣␣␣␣␣␣␣␣␣␣␣␣␣␣␣␣␣␣␣␣␣␣␣␣␣␣␣␣␣␣␣␣␣␣␣␣␣␣␣␣␣␣␣␣␣␣␣␣␣␣␣␣␣␣␣␣␣␣␣␣␣␣␣␣␣␣␣␣␣␣␣␣␣␣␣␣␣␣␣␣␣␣␣␣␣␣␣␣␣␣␣␣␣␣␣␣␣␣␣␣␣␣␣␣␣␣␣␣␣␣␣␣␣␣␣␣␣␣␣␣␣␣␣␣␣␣␣␣␣␣␣␣␣␣␣␣␣␣␣␣␣␣␣␣␣␣␣␣␣␣␣␣␣␣␣␣\n",
      "\n",
      "\n",
      "\n",
      "Attempt: \"A\" + 1.0\n",
      "-----------------------------------\n",
      "📚AICRETAILEST POAR THE GARPIET Rathos\n",
      "␣␣␣␣␣␣␣␣␣␣␣␣␣␣␣␣␣␣␣␣␣␣␣␣␣␣␣␣␣␣␣␣␣␣␣␣␣␣␣␣␣␣␣␣␣␣␣␣␣␣␣␣␣␣␣␣␣␣␣␣␣␣␣␣␣␣␣␣␣␣␣␣␣␣␣␣␣␣␣␣␣␣␣␣␣␣␣␣␣␣␣␣␣␣␣␣␣␣␣␣␣␣␣␣␣␣␣␣␣␣␣␣␣␣␣␣␣␣␣␣␣␣␣␣␣␣␣␣␣␣␣␣␣␣␣␣␣␣␣␣␣␣␣␣␣␣␣␣␣␣␣␣␣␣␣␣␣␣␣␣␣␣␣␣␣␣␣␣␣␣␣␣␣␣␣␣␣␣␣␣␣␣␣␣␣␣␣␣␣␣␣␣␣␣␣␣␣␣␣␣␣␣␣␣␣␣␣␣␣␣␣␣␣␣␣␣␣␣␣␣␣␣␣␣␣␣␣␣␣␣␣␣␣␣␣␣␣␣␣␣␣␣␣␣␣␣␣␣␣␣␣␣␣␣␣␣␣␣␣␣␣␣␣␣␣␣␣␣␣␣␣␣␣␣␣␣␣␣␣␣␣␣␣␣␣␣␣␣␣␣␣␣␣␣␣␣␣␣␣␣␣␣␣␣␣␣␣␣␣␣␣␣␣␣␣␣␣␣␣␣␣␣␣␣␣␣␣␣␣␣␣␣␣␣␣␣␣␣␣␣␣␣␣␣␣␣␣␣␣␣␣␣␣␣␣␣␣␣␣␣␣␣␣␣␣␣␣␣␣␣␣␣␣␣␣␣␣␣␣␣␣␣␣␣␣␣␣␣␣␣␣␣␣␣␣␣␣␣␣␣␣␣␣␣␣␣␣␣␣␣␣␣␣␣␣␣␣␣␣␣␣␣␣␣␣␣␣␣␣␣␣␣␣␣␣␣␣␣␣␣␣␣␣␣␣␣␣␣␣␣␣␣␣␣␣␣␣␣␣␣␣␣␣␣␣␣␣␣␣␣␣␣␣␣␣␣␣␣␣␣␣␣␣␣␣␣␣␣␣␣␣␣␣␣␣␣␣␣␣␣␣␣␣␣␣␣␣␣␣␣␣␣␣␣␣␣␣␣␣␣␣␣␣␣␣␣␣␣␣␣␣␣␣␣␣␣␣␣␣␣␣␣␣␣␣␣␣␣␣␣␣␣␣␣␣␣␣␣␣␣␣␣␣␣␣␣␣␣␣␣␣␣␣␣␣␣␣␣␣␣␣␣␣␣␣␣␣␣␣␣␣␣␣␣␣␣␣␣␣␣␣␣␣␣␣␣␣␣␣␣␣␣␣␣␣␣␣␣␣␣␣␣␣␣␣␣␣␣␣␣␣␣␣␣␣␣␣␣␣␣␣␣␣␣␣␣␣␣␣␣␣␣␣␣␣␣␣␣␣␣␣␣␣␣␣␣␣␣␣␣␣␣␣␣␣␣␣␣␣␣␣␣␣␣␣␣␣␣␣␣␣␣␣␣␣␣␣␣␣␣␣␣␣␣␣␣␣␣␣␣␣␣␣␣␣␣␣␣␣␣␣␣␣␣␣␣␣␣␣␣␣␣␣␣␣␣␣␣␣␣␣␣␣␣␣␣␣␣␣␣␣␣␣␣␣␣␣␣␣␣␣␣␣␣␣␣␣␣␣␣␣␣␣␣␣␣␣␣␣␣␣␣␣␣␣␣␣␣␣␣␣␣␣␣␣␣␣␣␣␣␣␣␣␣␣␣␣␣␣␣␣␣␣␣␣␣␣␣␣␣␣␣␣␣␣␣␣␣␣␣␣␣␣␣␣␣␣␣␣␣␣␣␣␣␣␣␣␣␣␣␣␣␣␣␣␣␣␣␣␣␣␣␣␣␣␣␣␣␣␣␣␣␣␣␣␣␣␣␣␣␣␣␣␣␣␣␣␣␣␣␣␣␣␣␣␣␣␣␣␣␣␣␣␣␣␣␣␣␣␣␣␣␣␣␣␣␣␣␣␣␣␣␣␣␣␣␣␣␣␣␣␣␣␣␣␣␣␣␣␣␣␣␣␣␣␣␣␣␣␣␣␣␣␣␣␣␣␣␣␣␣␣␣␣\n",
      "\n",
      "\n",
      "\n",
      "Attempt: \"A\" + 0.8\n",
      "-----------------------------------\n",
      "📚AICDVEn SPICKER: Substitute 2/3 of a can (5.5 oz.) POON HOME THE AN Chipotle Kitchen\n",
      "▪︎ Throwiert: Mix and dried bread with cream cheese in a food processor (recommended: Anjound recipe.) Apple sauce mix is still warm while you make your own.\n",
      "▪︎ *Place fruit and Cheddar cheese in each cake pan in the microwave and may be food under bowl to bottom off the bottle with your hands or foil. It should be a little discolored. It will air as much as you like. Freeze for flavor is necessary by covered with plastic wrap to keep warm.\n",
      "▪︎ Make a sauce immediately.\n",
      "▪︎ Place in warm water and carefully ignite with lid. Smash potato wedges into a small round pink for squash and set aside. Place in an even layer and top with a cheese. Carefully place it on serving plates and lightly drizzle each with a spoonful of remaining sprinkle of marjoram. Remember the sauce gently so the inside of salmon is soft to the touch. Serve with buttered sour cream.\n",
      "␣␣␣␣␣␣␣␣␣␣␣␣␣␣␣␣␣␣␣␣␣␣␣␣␣␣␣␣␣␣␣␣␣␣␣␣␣␣␣␣␣␣␣␣␣␣␣␣␣␣␣␣␣␣␣\n",
      "\n",
      "\n",
      "\n",
      "Attempt: \"B\" + 1.0\n",
      "-----------------------------------\n",
      "📚BbLO\n",
      "• Cooking spray, split and lightly toasted\n",
      "\n",
      "🧑‍🍳\n",
      "\n",
      "▪︎ Preheat oven to 350 degrees F. Prepare sauce: In medium saute pan, heat tartar bottoms (2 tablespoons butter) for a minuscorona color in batches. Season potato and chocolate and season with salt. Place peanut butter cheese in a lighted salted bowl. Sprinkle tortillas with Mustard Pasta.\n",
      "▪︎ Bake 10 minutes. Cut into 12 it wedges. Cut pasta into twelve 12 bottoms and dice in 1/2.\n",
      "▪︎ Place pretzel crackers in paper bag fitted with pan juniter. Blend sour cream to make a creamy, it willogevers and moetardilates how this will keep in the sauce by but not to add any clumps of flavored for consistency. The muz going logs for serving and many abovebownen mounds. Refer between layers by preparing tortillas to make syrup with sour cream. Repice mill into may still depending grown as itsem.\n",
      "␣␣␣␣␣␣␣␣␣␣␣␣␣␣␣␣␣␣␣␣␣␣␣␣␣␣␣␣␣␣␣␣␣␣␣␣␣␣␣␣␣␣␣␣␣␣␣␣␣␣␣␣␣␣␣␣␣␣␣␣␣␣␣␣␣␣␣␣␣␣␣␣␣␣␣␣␣␣␣␣␣␣␣␣␣␣␣␣␣␣␣␣␣␣␣␣␣␣␣␣␣␣␣␣␣␣␣␣␣␣␣␣␣␣␣␣␣␣␣␣␣␣␣␣␣␣␣␣␣␣␣␣␣␣␣␣␣␣␣␣␣␣␣␣␣␣␣␣␣␣␣␣␣\n",
      "\n",
      "\n",
      "\n",
      "Attempt: \"B\" + 0.8\n",
      "-----------------------------------\n",
      "📚BBRERRIZ Sorbet Crust\n",
      "\n",
      "🌶️\n",
      "\n",
      "• 1/2 cup butter or margarine\n",
      "• 1 1/2 cups all-purpose flour\n",
      "• 1/4 cup honey\n",
      "• 1 teaspoon kosher salt\n",
      "• 3/4 teaspoon ground cinnamon\n",
      "• 1/2 teaspoon ground ginger\n",
      "• 1/2 teaspoon ground allspice\n",
      "• 1/4 teaspoon ground cloves\n",
      "• 1/4 teaspoon natural apple powder\n",
      "• 1/4 teaspoon ground cloves\n",
      "• 1/4 teaspoon ground cloves\n",
      "• 1 cup small-cubed buttercream\n",
      "• 1 cup granulated sugar\n",
      "• 2 tablespoons ground cinnamon\n",
      "• 1/4 cup molasses\n",
      "• 1 teaspoon baking powder\n",
      "• 1 teaspoon ground cinnamon\n",
      "\n",
      "🧑‍🍳\n",
      "\n",
      "▪︎ Watch how to make this recipe.\n",
      "▪︎ Batter:\n",
      "▪︎ In a mixing bowl, combine the flour, sugar, baking powder, and salt. Mix well.\n",
      "▪︎ In a saucepan, combine the butter, sugar and walnuts and melt over medium heat to combine, about 15 minutes. Remove from the heat. Add the sugar, corn syrup and 1 cup unsalted butter and stir to combine. Immediately transfer to a bowl and whisk in the egg yolks. Add the good quality mayonnaise and continue whipping until smooth and fluffy; mix well. Stir t\n",
      "\n",
      "\n",
      "\n",
      "Attempt: \"C\" + 1.0\n",
      "-----------------------------------\n",
      "📚CTAR Del Minestro\n",
      "\n",
      "🌶️\n",
      "\n",
      "• 1 (4.5-oz.) can Own-Can BUICO WAver Thicker chicken Back Hotel Jama\n",
      "• 2 Rodino, small diced\n",
      "• 10 radishes, peeled\n",
      "• 1 small white onion, finely chopped\n",
      "• 1 teaspoon salt\n",
      "• 1/2 teaspoon smoked paprika\n",
      "• 1/3 teaspoon salt\n",
      "\n",
      "🧑‍🍳\n",
      "\n",
      "▪︎ In medium bowl, combine mango, onion, apple and pretzels, pressing out any liquid in jelly. Leave space of grating covers its side of six 8-ounce pieces. Refrigerate and serve.\n",
      "▪︎ Allow ancho complete empty process as chilis'' super-milk chips for preferred amount for the sheet of soy, vanilla ice cream, 1 cup of escamerine, quail eggs.;\n",
      "▪︎ 6 mini Natios fillets (enjow onese cyling's the flavor whole looking short promptly), shave of ponzu, another papaya and skin of chilled canned tomatoes from Stot and brown. If you can't fit them in itses, begin cut off. Transfer orange bits and green onions to a small bowl; mix in mayonnaise and finely minced red onion.\n",
      "␣␣␣␣␣␣␣␣␣␣␣␣␣␣␣␣␣␣␣␣␣␣␣␣␣␣␣␣␣␣␣␣␣␣␣␣␣␣␣␣␣␣␣␣␣␣␣␣␣␣␣␣␣␣␣␣␣␣␣␣␣␣␣␣␣␣␣␣␣␣␣␣␣␣␣␣␣␣␣␣␣\n",
      "\n",
      "\n",
      "\n",
      "Attempt: \"C\" + 0.8\n",
      "-----------------------------------\n",
      "📚CTOSSANTIMATIONS:\n",
      "▪︎ Cored and chopped scallions for garnish\n",
      "▪︎ Preheat oven to 350 degrees F.\n",
      "▪︎ Add chicken pieces to chocolate sauce and stir to coat. Cover and refrigerate until ready to use.\n",
      "▪︎ 1. Put 3 noney pancakes in a shallow baking dish and drizzle with 1 tablespoon cold salt. Bake at 400 degrees for about 20 minutes. (Cooking time should come off the bottom of the pan over pancake is still harden and crisp and brown.)\n",
      "▪︎ To make a natural chocolate pan, cut the cream into 4 pieces; place in small bowl. Soak curry in warm water an additional two or thremover in small batches in small batches, transferring skins to bowl. Spray cooking grate with nonstick cooking spray. Add pecans to duck brown butter; lightly flour short stretching with water, folding over. Place on prepared baking dish. Cover and chill thoroughly. Chill at least 2 hours.\n",
      "▪︎ To serve: Unmold 2 blueberries into balls so be secured with a small piece of banana and top with second slice of bread. Sprinkle with ma\n",
      "\n",
      "\n",
      "\n",
      "Attempt: \"Mushroom\" + 1.0\n",
      "-----------------------------------\n",
      "📚Mushroom Vioraniolia and Ricotta Salad\n",
      "\n",
      "🌶️\n",
      "\n",
      "• About 3/4 cup fruity Jack cheese\n",
      "• 1 cup alfalfa sprouts\n",
      "• 4 eggs, beaten\n",
      "• 1/2 pineapple, cored and shredded\n",
      "• 1 cup finely grated carrot\n",
      "• 1/4 cup cherry tomatoes\n",
      "• 1/4 cup water\n",
      "• 1/4 cup roughly chopped torn meat\n",
      "• Strawberry franks, recipe follows\n",
      "• 1/2 cup white sesame seeds, toasted and sliced\n",
      "• 1/4 cup freshly grated Parmesan\n",
      "• 1 pint cocktail olive paste\n",
      "• 1 pound braised bunches\n",
      "• 1/2 cup softened butter [2 cups)\n",
      "• 1/2 cup mayonnoise salt\n",
      "• 1 teaspoon cayenne pepper\n",
      "\n",
      "🧑‍🍳\n",
      "\n",
      "▪︎ Preheat oven to 400 degrees F.\n",
      "▪︎ Spray an 8-by-8-inch baking dish lightly with no-stick cooking spray. Whisk together egg; pour over salmon, followed by the butter. Toss to mix well. Make 4 second shells with the pasta peas and season with salt and black pepper. Add 6 eggs and poach the shrimp until edges are coated with 2 tablespoons salt. In a medium bowl, combine eggs, salt, pepper, and preserves. Cover and microwave on high 4 to 5 minutes.\n",
      "▪︎ Decorate the cheese \n",
      "\n",
      "\n",
      "\n",
      "Attempt: \"Mushroom\" + 0.8\n",
      "-----------------------------------\n",
      "📚Mushroom and Vanilla Is More Raspberry Sangria\n",
      "\n",
      "🌶️\n",
      "\n",
      "• 1 1/2 cups frozen pineapple chunks (recommended: Pillsbury)\n",
      "• 2/3 cup sugar\n",
      "• 1 tablespoon soy sauce\n",
      "• 3 tablespoons distilled vinegar\n",
      "• 2 teaspoons pure vanilla extract\n",
      "• 2 handfuls baby carrots, cut into 1/4-inch pieces\n",
      "• 1/2 cup brown sugar\n",
      "• 2 shallots, peeled and sliced\n",
      "• 1 large ripe any baguette (preferably wild), peeled and cut into 1/4-inch slices\n",
      "• 1/4 cup prepared horseradish\n",
      "• Salt\n",
      "\n",
      "🧑‍🍳\n",
      "\n",
      "▪︎ Preheat the oven to 375 degrees F.\n",
      "▪︎ Grill the apples and onion until the skin is browned and just cooked through, about 4 minutes for minutes. Remove the triangles from the grill and place them on a baking sheet. Sprinkle with some extra-virgin olive oil and season with salt and pepper. Return the pan to the heat and add 2 tablespoons of the butter. Put the skillet over medium-high heat and add the scallions, green onions and peanuts. Cook until very thick, stirring occasionally, about 15 minutes. Set aside to cool.\n",
      "▪︎ Pit and drop a mint l\n",
      "\n",
      "\n",
      "\n",
      "Attempt: \"The\" + 1.0\n",
      "-----------------------------------\n",
      "📚The Food Cake\n",
      "\n",
      "🧑‍🍳\n",
      "\n",
      "▪︎ Lay stripeble diagonal slices of banana balls on the mots and circles to create your cooked meatbol. Place underside of the point on the bottom side of a game, piping bag cold.\n",
      "▪︎ Wrap the scrapters with a rolling pin to make a triangle and insert through a sharp paring knive to hold but formly in some of the top side of the center. Do not pound together separated shock, drinks, remove once back into the daikon pieces with burner. Strain the quartered strata, then put them through a sieve on the cied. Skewer some compote over the plate and place on cooling rack, above them. Crush remaining pears and anyona into rings through a mesh strainer to maintain logs. Serve hot with corn sauce.\n",
      "␣␣␣␣␣␣␣␣␣␣␣␣␣␣␣␣␣␣␣␣␣␣␣␣␣␣␣␣␣␣␣␣␣␣␣␣␣␣␣␣␣␣␣␣␣␣␣␣␣␣␣␣␣␣␣␣␣␣␣␣␣␣␣␣␣␣␣␣␣␣␣␣␣␣␣␣␣␣␣␣␣␣␣␣␣␣␣␣␣␣␣␣␣␣␣␣␣␣␣␣␣␣␣␣␣␣␣␣␣␣␣␣␣␣␣␣␣␣␣␣␣␣␣␣␣␣␣␣␣␣␣␣␣␣␣␣␣␣␣␣␣␣␣␣␣␣␣␣␣␣␣␣␣␣␣␣␣␣␣␣␣␣␣␣␣␣␣␣␣␣␣␣␣␣␣␣␣␣␣␣␣␣␣␣␣␣␣␣␣␣␣␣␣␣␣␣␣␣␣␣␣␣␣␣␣␣␣␣␣␣␣␣␣␣␣␣␣␣␣␣␣␣␣␣␣␣␣␣␣␣␣␣␣␣␣␣␣␣␣␣␣␣␣␣␣␣␣␣␣␣␣␣␣␣␣␣␣␣␣␣␣␣␣␣␣␣␣␣␣␣␣␣␣␣␣␣␣␣␣␣␣␣␣␣␣␣\n",
      "\n",
      "\n",
      "\n",
      "Attempt: \"The\" + 0.8\n",
      "-----------------------------------\n",
      "📚The Do Into Norwierly Pecans and Hot Marinara Sauce\n",
      "\n",
      "🌶️\n",
      "\n",
      "• 1 cup water\n",
      "• 1 tablespoon firmly packed light brown sugar\n",
      "• 1/4 teaspoon salt\n",
      "• 4 cups milk\n",
      "• 2 cookie sheets\n",
      "• Powdered sugar\n",
      "• Vanilla ice cream, for serving\n",
      "\n",
      "🧑‍🍳\n",
      "\n",
      "▪︎ Melt the cream in a heavy-bottomed saucepan with the sugar over medium heat. Stir in 2 cups of water, and set aside.\n",
      "▪︎ Slice the lemon slices into thin strips. Or let the sugar melt and stand mix the water for 10 minutes then transfer to a paper-towel-lined plate to drain. Transfer to a very large mixing bowl and season with sugar. Carefully keep the pears from sticking to the bottom of the bowl with a little water for approximately 8 to 10 minutes or so to disape off the halves of the syrup. As soon as the liquid is smooth and creamy, add 1/4 to 1/2 cup of the butter. Add the whipped cream and continue to stir until the chocolate has reached a thick sauce. Strain the syrup through a sieve. Refrigerate until it is desired. Allow to cool completely before serving.\n",
      "\n",
      "\n",
      "\n",
      "Attempt: \"Sauce\" + 1.0\n",
      "-----------------------------------\n",
      "📚Saucevarious Thinneron-Style Steak Sauce\n",
      "\n",
      "🌶️\n",
      "\n",
      "• 1 heaping tegiram pod\n",
      "• 4 cauliflower florets\n",
      "• 8 to 8 peaches (about 8 ounces)\n",
      "• 12 slices multigrain bread, 8 inches long\n",
      "• 3 anchovy fillets, cut into quarters\n",
      "• 12 ounces all-purpose potatoes, trimmed and halved\n",
      "• 1 lemon, thinly sliced\n",
      "\n",
      "🧑‍🍳\n",
      "\n",
      "▪︎ Simmer the broccoli rabe in a large pot of boiling salted water 10 minutes or until fish is easily pierced with a fork; while with the heat of the sage for the last 10 minutes in the sage on the seasoning mixture, remove the shellfish and strain. In the same dry stockpot, melt 2 tablespoons butter in it and stir in the sugar, 1 at a time, stirring to incorporate, and reduce the mixture is gently until thickened. Pour the bean mixture into the red seasonade and stir over white flame until it makes an even mixed level of the flour and goat cheese will become smooth. Do not allow the tomatoes to out, but not too soft. Simmer the sauce until it thickens and coarsely pushes through the flavor of the mea\n",
      "\n",
      "\n",
      "\n",
      "Attempt: \"Sauce\" + 0.8\n",
      "-----------------------------------\n",
      "📚Sauce Scooce\n",
      "▪︎ Add half of the batter for the top. When the butter melts, place the dough onto the surface of the pan and insert into the surface and any types of flour. Roll the dough in half. Tie into a ball. Re-chill before dough is the more layers.\n",
      "▪︎ In a large skillet, cook the smoked bacon on the stove until it's almost smoking. Sear the bacon on all sides down and set aside to cool.\n",
      "▪︎ Add the butter and the butter to hot pepper flakes. Season the egg whites with salt and pepper then gently fold the eggs. Fill each quartery cup with the pear mixture. Bake in the oven for 45 minutes to 1 hour and 15 minutes or until the custard is set. Run through part of the glaze to keep the remaining batter carefully or you only have a thick sauce to serve, and use a fork to keep pancakes whole from the top. When cool, press the cookie sheet with a forks to leave one half to rack.\n",
      "▪︎ Photograph by Andrew Mccaul\n",
      "␣␣␣␣␣␣␣␣␣␣␣␣␣␣␣␣␣␣␣␣␣␣␣␣␣␣␣␣␣␣␣␣␣␣␣␣␣␣␣␣␣␣␣␣␣␣␣␣␣␣␣␣␣␣␣␣␣␣␣␣␣␣␣␣␣␣␣␣␣␣␣␣␣␣␣␣␣␣␣␣␣␣␣␣␣␣\n",
      "\n",
      "\n",
      "\n",
      "Attempt: \"Spinach\" + 1.0\n",
      "-----------------------------------\n",
      "📚Spinach Whipped Cream\n",
      "\n",
      "🧑‍🍳\n",
      "\n",
      "▪︎ Watch how to make this recipe.\n",
      "▪︎ Prepare the hot brown rice: Heat a preserved lid over medium heat. Put the half-and-half mixture into a large mixing bowl.\n",
      "▪︎ Pulse a peanut but not lightly flavorful it before the turkey is sweetness. Serve warm with the chips.\n",
      "▪︎ To make the glaze, lay the dumplings in a shallow baking dish. Drizzle with the cuming mixture and rotate plates around, then place onto sheet pan and place in the oven until the cheese is melted and half empty eggs, about 15 minutes. Pour 3 tablespoons of the glaze on top of the baked arugula, pressing to adhere them off the grill. Place the pudding in the freezer until firm. Cut the white side by serving pieces on the cream thins of each sandwich in tip and place a light coated meat disc. I finder or fasne to total countertop when the day be warm while you make the sauce.\n",
      "▪︎ Toast the cinnamon sugar in the microwave until melted and smooth. Dip the berries into the sauce to coat, then flake with the\n",
      "\n",
      "\n",
      "\n",
      "Attempt: \"Spinach\" + 0.8\n",
      "-----------------------------------\n",
      "📚Spinach Honey Parsley Salad Dressing\n",
      "\n",
      "🧑‍🍳\n",
      "\n",
      "▪︎ In a large bowl, combine all ingredients except the cheese. Using a large mixing bowl, gently mix or puree with water. Season with salt, using the side of a large spoon to lightly combine well.\n",
      "▪︎ Place the gooseberries on a baking sheet. Place on a baking sheet and bake until the bottoms are cooked through, approximately 10 minutes. Brush the top with the glaze and garnish with a halved cherry to top of each container.\n",
      "␣␣␣␣␣␣␣␣␣␣␣␣␣␣␣␣␣␣␣␣␣␣␣␣␣␣␣␣␣␣␣␣␣␣␣␣␣␣␣␣␣␣␣␣␣␣␣␣␣␣␣␣␣␣␣␣␣␣␣␣␣␣␣␣␣␣␣␣␣␣␣␣␣␣␣␣␣␣␣␣␣␣␣␣␣␣␣␣␣␣␣␣␣␣␣␣␣␣␣␣␣␣␣␣␣␣␣␣␣␣␣␣␣␣␣␣␣␣␣␣␣␣␣␣␣␣␣␣␣␣␣␣␣␣␣␣␣␣␣␣␣␣␣␣␣␣␣␣␣␣␣␣␣␣␣␣␣␣␣␣␣␣␣␣␣␣␣␣␣␣␣␣␣␣␣␣␣␣␣␣␣␣␣␣␣␣␣␣␣␣␣␣␣␣␣␣␣␣␣␣␣␣␣␣␣␣␣␣␣␣␣␣␣␣␣␣␣␣␣␣␣␣␣␣␣␣␣␣␣␣␣␣␣␣␣␣␣␣␣␣␣␣␣␣␣␣␣␣␣␣␣␣␣␣␣␣␣␣␣␣␣␣␣␣␣␣␣␣␣␣␣␣␣␣␣␣␣␣␣␣␣␣␣␣␣␣␣␣␣␣␣␣␣␣␣␣␣␣␣␣␣␣␣␣␣␣␣␣␣␣␣␣␣␣␣␣␣␣␣␣␣␣␣␣␣␣␣␣␣␣␣␣␣␣␣␣␣␣␣␣␣␣␣␣␣␣␣␣␣␣␣␣␣␣␣␣␣␣␣␣␣␣␣␣␣␣␣␣␣␣␣␣␣␣␣␣␣␣␣␣␣␣␣␣␣␣␣␣␣␣␣␣␣␣␣␣␣␣␣␣␣␣␣␣␣␣␣␣␣␣␣␣␣␣␣␣␣␣␣␣␣␣␣␣␣␣␣␣␣␣␣␣␣␣␣␣␣␣␣␣␣␣␣␣␣␣␣␣␣␣␣␣␣␣␣␣␣␣␣␣␣␣␣␣␣␣␣␣␣␣␣␣␣␣␣␣␣␣␣␣␣␣␣␣␣␣␣␣␣␣␣␣␣␣␣␣␣␣␣␣␣␣␣␣␣␣␣␣␣␣␣␣␣␣␣␣␣␣␣␣␣␣␣␣␣␣␣␣␣␣␣␣␣␣␣␣␣\n",
      "\n",
      "\n",
      "\n"
     ]
    }
   ],
   "source": [
    "generate_combinations(model_1_simplified)"
   ]
  },
  {
   "attachments": {},
   "cell_type": "markdown",
   "metadata": {},
   "source": [
    "### Load model"
   ]
  },
  {
   "cell_type": "code",
   "execution_count": 100,
   "metadata": {},
   "outputs": [
    {
     "name": "stdout",
     "output_type": "stream",
     "text": [
      "WARNING:tensorflow:No training configuration found in the save file, so the model was *not* compiled. Compile it manually.\n"
     ]
    }
   ],
   "source": [
    "model = keras.models.load_model('recipe_generation_rnn.h5')"
   ]
  },
  {
   "cell_type": "code",
   "execution_count": 101,
   "metadata": {},
   "outputs": [],
   "source": [
    "model.compile()"
   ]
  },
  {
   "cell_type": "code",
   "execution_count": 102,
   "metadata": {},
   "outputs": [
    {
     "name": "stdout",
     "output_type": "stream",
     "text": [
      "Model: \"sequential\"\n",
      "_________________________________________________________________\n",
      " Layer (type)                Output Shape              Param #   \n",
      "=================================================================\n",
      " embedding (Embedding)       (1, None, 256)            45824     \n",
      "                                                                 \n",
      " lstm (LSTM)                 (1, None, 1024)           5246976   \n",
      "                                                                 \n",
      " dense (Dense)               (1, None, 179)            183475    \n",
      "                                                                 \n",
      "=================================================================\n",
      "Total params: 5,476,275\n",
      "Trainable params: 5,476,275\n",
      "Non-trainable params: 0\n",
      "_________________________________________________________________\n"
     ]
    }
   ],
   "source": [
    "model.summary()"
   ]
  },
  {
   "cell_type": "code",
   "execution_count": 103,
   "metadata": {},
   "outputs": [
    {
     "name": "stdout",
     "output_type": "stream",
     "text": [
      "Attempt: \"\" + 1.0\n",
      "-----------------------------------\n",
      "📚50d me long match.\n",
      "▪︎ Meanwhile, make the tart bought; reserve heavy cream. Top with remaining whites and whipped cream.\n",
      "▪︎ Arrange remaining ingredients in cups, cut or mound on each sheet pan. Spoon mixture back into the bag, preferably overhanging bowl. Sprinkle with minced chile sauce, cover with foil, and set pan while both stand to pan-idea. The better!\n",
      "␣␣␣␣␣␣␣␣␣␣␣␣␣␣␣␣␣␣␣␣␣␣␣␣␣␣␣␣␣␣␣␣␣␣␣␣␣␣␣␣␣␣␣␣␣␣␣␣␣␣␣␣␣␣␣␣␣␣␣␣␣␣␣␣␣␣␣␣␣␣␣␣␣␣␣␣␣␣␣␣␣␣␣␣␣␣␣␣␣␣␣␣␣␣␣␣␣␣␣␣␣␣␣␣␣␣␣␣␣␣␣␣␣␣␣␣␣␣␣␣␣␣␣␣␣␣␣␣␣␣␣␣␣␣␣␣␣␣␣␣␣␣␣␣␣␣␣␣␣␣␣␣␣␣␣␣␣␣␣␣␣␣␣␣␣␣␣␣␣␣␣␣␣␣␣␣␣␣␣␣␣␣␣␣␣␣␣␣␣␣␣␣␣␣␣␣␣␣␣␣␣␣␣␣␣␣␣␣␣␣␣␣␣␣␣␣␣␣␣␣␣␣␣␣␣␣␣␣␣␣␣␣␣␣␣␣␣␣␣␣␣␣␣␣␣␣␣␣␣␣␣␣␣␣␣␣␣␣␣␣␣␣␣␣␣␣␣␣␣␣␣␣␣␣␣␣␣␣␣␣␣␣␣␣␣␣␣␣␣␣␣␣␣␣␣␣␣␣␣␣␣␣␣␣␣␣␣␣␣␣␣␣␣␣␣␣␣␣␣␣␣␣␣␣␣␣␣␣␣␣␣␣␣␣␣␣␣␣␣␣␣␣␣␣␣␣␣␣␣␣␣␣␣␣␣␣␣␣␣␣␣␣␣␣␣␣␣␣␣␣␣␣␣␣␣␣␣␣␣␣␣␣␣␣␣␣␣␣␣␣␣␣␣␣␣␣␣␣␣␣␣␣␣␣␣␣␣␣␣␣␣␣␣␣␣␣␣␣␣␣␣␣␣␣␣␣␣␣␣␣␣␣␣␣␣␣␣␣␣␣␣␣␣␣␣␣␣␣␣␣␣␣␣␣␣␣␣␣␣␣␣␣␣␣␣␣␣␣␣␣␣␣␣␣␣␣␣␣␣␣␣␣␣␣␣␣␣␣␣␣␣␣␣␣␣␣␣␣␣␣␣␣␣␣␣␣␣␣␣␣␣␣␣␣␣␣␣␣␣␣␣␣␣␣␣␣␣␣␣␣␣␣␣␣␣␣␣␣␣␣␣␣␣␣␣␣␣␣␣␣␣␣␣␣␣␣␣␣␣␣␣␣␣␣␣␣␣␣␣␣␣␣␣␣␣␣␣␣␣␣␣␣␣␣␣␣␣␣␣␣␣␣␣␣␣␣␣␣␣␣␣␣␣␣␣␣␣␣␣␣␣␣␣␣␣␣␣␣␣␣␣␣␣␣␣␣␣␣␣␣␣␣␣␣␣␣␣␣\n",
      "\n",
      "\n",
      "\n",
      "Attempt: \"\" + 0.8\n",
      "-----------------------------------\n",
      "📚Z171 Assolt\n",
      "• 1 1/2 cups milk\n",
      "• 2 ripe bananas, peeled and mashed (about 2 cups)\n",
      "• 1 pound fresh asparagus, each cut into 4 long strips\n",
      "\n",
      "🧑‍🍳\n",
      "\n",
      "▪︎ Set up a large bowl of ice water for 5 minutes to allow mixture to burn to room temperature. Mix the sugar, almond extract, and butter in a separate bowl. Toss with the butter, spinach, and remaining 1/4 cup sugar and let sit for 10 minutes.\n",
      "▪︎ To prepare the dressing, combine the chilled watermelon rings, lemon zest, mint, and salt in a food processor. Using the dry muddler, have the processor and process until the smooth batter is well combined. Pour the mixture into a large pot, and whisk in the remaining 1/4 cup water 1 to 2 minutes until the mixture thickens. Beat the egg yolk mixture into the yolks while continuing to whisk 1 minute. Turn down the sides of the bowl and pour the mixture into a 9 by 13-inch baking dish. Pour the remaining 2 cups of sugar mixture over the apples. Return to the high level disting bath then stir the bowl occa\n",
      "\n",
      "\n",
      "\n",
      "Attempt: \"\n",
      "\" + 1.0\n",
      "-----------------------------------\n",
      "📚\n",
      "▪︎ Combine all mixed vegetables pretzels with the juice, Champagne or aged seeds, whole chives, lemon juice and black peppercorns.\n",
      "▪︎ Stuff pineapple mixture in the pockets.\n",
      "▪︎ To remove from the freezer, add egg salad slices and tie seam side down over them. Drizzle over sugar substitute.\n",
      "␣␣␣␣␣␣␣␣␣␣␣␣␣␣␣␣␣␣␣␣␣␣␣␣␣␣␣␣␣␣␣␣␣␣␣␣␣␣␣␣␣␣␣␣␣␣␣␣␣␣␣␣␣␣␣␣␣␣␣␣␣␣␣␣␣␣␣␣␣␣␣␣␣␣␣␣␣␣␣␣␣␣␣␣␣␣␣␣␣␣␣␣␣␣␣␣␣␣␣␣␣␣␣␣␣␣␣␣␣␣␣␣␣␣␣␣␣␣␣␣␣␣␣␣␣␣␣␣␣␣␣␣␣␣␣␣␣␣␣␣␣␣␣␣␣␣␣␣␣␣␣␣␣␣␣␣␣␣␣␣␣␣␣␣␣␣␣␣␣␣␣␣␣␣␣␣␣␣␣␣␣␣␣␣␣␣␣␣␣␣␣␣␣␣␣␣␣␣␣␣␣␣␣␣␣␣␣␣␣␣␣␣␣␣␣␣␣␣␣␣␣␣␣␣␣␣␣␣␣␣␣␣␣␣␣␣␣␣␣␣␣␣␣␣␣␣␣␣␣␣␣␣␣␣␣␣␣␣␣␣␣␣␣␣␣␣␣␣␣␣␣␣␣␣␣␣␣␣␣␣␣␣␣␣␣␣␣␣␣␣␣␣␣␣␣␣␣␣␣␣␣␣␣␣␣␣␣␣␣␣␣␣␣␣␣␣␣␣␣␣␣␣␣␣␣␣␣␣␣␣␣␣␣␣␣␣␣␣␣␣␣␣␣␣␣␣␣␣␣␣␣␣␣␣␣␣␣␣␣␣␣␣␣␣␣␣␣␣␣␣␣␣␣␣␣␣␣␣␣␣␣␣␣␣␣␣␣␣␣␣␣␣␣␣␣␣␣␣␣␣␣␣␣␣␣␣␣␣␣␣␣␣␣␣␣␣␣␣␣␣␣␣␣␣␣␣␣␣␣␣␣␣␣␣␣␣␣␣␣␣␣␣␣␣␣␣␣␣␣␣␣␣␣␣␣␣␣␣␣␣␣␣␣␣␣␣␣␣␣␣␣␣␣␣␣␣␣␣␣␣␣␣␣␣␣␣␣␣␣␣␣␣␣␣␣␣␣␣␣␣␣␣␣␣␣␣␣␣␣␣␣␣␣␣␣␣␣␣␣␣␣␣␣␣␣␣␣␣␣␣␣␣␣␣␣␣␣␣␣␣␣␣␣␣␣␣␣␣␣␣␣␣␣␣␣␣␣␣␣␣␣␣␣␣␣␣␣␣␣␣␣␣␣␣␣␣␣␣␣␣␣␣␣␣␣␣␣␣␣␣␣␣␣␣␣␣␣␣␣␣␣␣␣␣␣␣␣␣␣␣␣␣␣␣␣␣␣␣␣␣␣␣␣␣␣␣␣␣␣␣␣␣␣␣␣␣␣␣␣␣␣␣␣␣␣␣␣␣␣␣␣␣␣␣␣␣␣␣␣␣␣␣␣␣␣␣␣␣␣␣␣␣␣␣␣␣␣␣␣␣␣␣␣␣␣␣␣␣␣␣␣␣␣␣␣␣␣␣␣␣␣␣␣␣␣␣␣␣␣\n",
      "\n",
      "\n",
      "\n",
      "Attempt: \"\n",
      "\" + 0.8\n",
      "-----------------------------------\n",
      "📚\n",
      "␣␣␣␣␣␣␣␣␣␣␣␣␣␣␣␣␣␣␣␣␣␣␣␣␣␣␣␣␣␣␣␣␣␣␣␣␣␣␣␣␣␣␣␣␣␣␣␣␣␣␣␣␣␣␣␣␣␣␣␣␣␣␣␣␣␣␣␣␣␣␣␣␣␣␣␣␣␣␣␣␣␣␣␣␣␣␣␣␣␣␣␣␣␣␣␣␣␣␣␣␣␣␣␣␣␣␣␣␣␣␣␣␣␣␣␣␣␣␣␣␣␣␣␣␣␣␣␣␣␣␣␣␣␣␣␣␣␣␣␣␣␣␣␣␣␣␣␣␣␣␣␣␣␣␣␣␣␣␣␣␣␣␣␣␣␣␣␣␣␣␣␣␣␣␣␣␣␣␣␣␣␣␣␣␣␣␣␣␣␣␣␣␣␣␣␣␣␣␣␣␣␣␣␣␣␣␣␣␣␣␣␣␣␣␣␣␣␣␣␣␣␣␣␣␣␣␣␣␣␣␣␣␣␣␣␣␣␣␣␣␣␣␣␣␣␣␣␣␣␣␣␣␣␣␣␣␣␣␣␣␣␣␣␣␣␣␣␣␣␣␣␣␣␣␣␣␣␣␣␣␣␣␣␣␣␣␣␣␣␣␣␣␣␣␣␣␣␣␣␣␣␣␣␣␣␣␣␣␣␣␣␣␣␣␣␣␣␣␣␣␣␣␣␣␣␣␣␣␣␣␣␣␣␣␣␣␣␣␣␣␣␣␣␣␣␣␣␣␣␣␣␣␣␣␣␣␣␣␣␣␣␣␣␣␣␣␣␣␣␣␣␣␣␣␣␣␣␣␣␣␣␣␣␣␣␣␣␣␣␣␣␣␣␣␣␣␣␣␣␣␣␣␣␣␣␣␣␣␣␣␣␣␣␣␣␣␣␣␣␣␣␣␣␣␣␣␣␣␣␣␣␣␣␣␣␣␣␣␣␣␣␣␣␣␣␣␣␣␣␣␣␣␣␣␣␣␣␣␣␣␣␣␣␣␣␣␣␣␣␣␣␣␣␣␣␣␣␣␣␣␣␣␣␣␣␣␣␣␣␣␣␣␣␣␣␣␣␣␣␣␣␣␣␣␣␣␣␣␣␣␣␣␣␣␣␣␣␣␣␣␣␣␣␣␣␣␣␣␣␣␣␣␣␣␣␣␣␣␣␣␣␣␣␣␣␣␣␣␣␣␣␣␣␣␣␣␣␣␣␣␣␣␣␣␣␣␣␣␣␣␣␣␣␣␣␣␣␣␣␣␣␣␣␣␣␣␣␣␣␣␣␣␣␣␣␣␣␣␣␣␣␣␣␣␣␣␣␣␣␣␣␣␣␣␣␣␣␣␣␣␣␣␣␣␣␣␣␣␣␣␣␣␣␣␣␣␣␣␣␣␣␣␣␣␣␣␣␣␣␣␣␣␣␣␣␣␣␣␣␣␣␣␣␣␣␣␣␣␣␣␣␣␣␣␣␣␣␣␣␣␣␣␣␣␣␣␣␣␣␣␣␣␣␣␣␣␣␣␣␣␣␣␣␣␣␣␣␣␣␣␣␣␣␣␣␣␣␣␣␣␣␣␣␣␣␣␣␣␣␣␣␣␣␣␣␣␣␣␣␣␣␣␣␣␣␣␣␣␣␣␣␣␣␣␣␣␣␣␣␣␣␣␣␣␣␣␣␣␣␣␣␣␣␣␣␣␣␣␣␣␣␣␣␣␣␣␣␣␣␣␣␣␣␣␣␣␣␣␣␣␣␣␣␣␣␣␣␣␣␣␣␣␣␣␣␣␣␣␣␣␣␣␣␣␣␣␣␣␣␣␣␣␣␣␣␣␣␣␣␣␣␣␣␣␣␣␣␣␣␣␣␣␣␣␣␣␣␣␣␣␣␣␣␣␣␣␣␣␣␣␣␣␣␣␣␣␣␣␣␣␣␣␣␣␣␣␣␣␣␣␣␣␣␣␣␣␣␣␣␣␣␣␣␣␣␣␣␣␣␣␣␣␣␣␣␣␣␣␣␣␣␣␣␣␣␣␣␣␣␣␣␣␣␣␣␣␣␣␣␣␣␣␣␣␣␣␣␣␣␣␣␣␣␣␣␣␣␣␣␣␣␣␣␣␣␣␣␣␣␣␣␣␣␣␣␣␣␣␣␣␣␣␣␣␣␣␣␣␣␣␣␣␣␣␣␣␣␣␣␣\n",
      "\n",
      "\n",
      "\n",
      "Attempt: \"A\" + 1.0\n",
      "-----------------------------------\n",
      "📚AHIAMMINGRARTEd on Small shell escapeioli.\n",
      "▪︎ Bake for 10 minutes. Reduce temperature to 350 degrees F. conten the baked pastry and bake for thighs for another 1 to 2 minutes.\n",
      "␣␣␣␣␣␣␣␣␣␣␣␣␣␣␣␣␣␣␣␣␣␣␣␣␣␣␣␣␣␣␣␣␣␣␣␣␣␣␣␣␣␣␣␣␣␣␣␣␣␣␣␣␣␣␣␣␣␣␣␣␣␣␣␣␣␣␣␣␣␣␣␣␣␣␣␣␣␣␣␣␣␣␣␣␣␣␣␣␣␣␣␣␣␣␣␣␣␣␣␣␣␣␣␣␣␣␣␣␣␣␣␣␣␣␣␣␣␣␣␣␣␣␣␣␣␣␣␣␣␣␣␣␣␣␣␣␣␣␣␣␣␣␣␣␣␣␣␣␣␣␣␣␣␣␣␣␣␣␣␣␣␣␣␣␣␣␣␣␣␣␣␣␣␣␣␣␣␣␣␣␣␣␣␣␣␣␣␣␣␣␣␣␣␣␣␣␣␣␣␣␣␣␣␣␣␣␣␣␣␣␣␣␣␣␣␣␣␣␣␣␣␣␣␣␣␣␣␣␣␣␣␣␣␣␣␣␣␣␣␣␣␣␣␣␣␣␣␣␣␣␣␣␣␣␣␣␣␣␣␣␣␣␣␣␣␣␣␣␣␣␣␣␣␣␣␣␣␣␣␣␣␣␣␣␣␣␣␣␣␣␣␣␣␣␣␣␣␣␣␣␣␣␣␣␣␣␣␣␣␣␣␣␣␣␣␣␣␣␣␣␣␣␣␣␣␣␣␣␣␣␣␣␣␣␣␣␣␣␣␣␣␣␣␣␣␣␣␣␣␣␣␣␣␣␣␣␣␣␣␣␣␣␣␣␣␣␣␣␣␣␣␣␣␣␣␣␣␣␣␣␣␣␣␣␣␣␣␣␣␣␣␣␣␣␣␣␣␣␣␣␣␣␣␣␣␣␣␣␣␣␣␣␣␣␣␣␣␣␣␣␣␣␣␣␣␣␣␣␣␣␣␣␣␣␣␣␣␣␣␣␣␣␣␣␣␣␣␣␣␣␣␣␣␣␣␣␣␣␣␣␣␣␣␣␣␣␣␣␣␣␣␣␣␣␣␣␣␣␣␣␣␣␣␣␣␣␣␣␣␣␣␣␣␣␣␣␣␣␣␣␣␣␣␣␣␣␣␣␣␣␣␣␣␣␣␣␣␣␣␣␣␣␣␣␣␣␣␣␣␣␣␣␣␣␣␣␣␣␣␣␣␣␣␣␣␣␣␣␣␣␣␣␣␣␣␣␣␣␣␣␣␣␣␣␣␣␣␣␣␣␣␣␣␣␣␣␣␣␣␣␣␣␣␣␣␣␣␣␣␣␣␣␣␣␣␣␣␣␣␣␣␣␣␣␣␣␣␣␣␣␣␣␣␣␣␣␣␣␣␣␣␣␣␣␣␣␣␣␣␣␣␣␣␣␣␣␣␣␣␣␣␣␣␣␣␣␣␣␣␣␣␣␣␣␣␣␣␣␣␣␣␣␣␣␣␣␣␣␣␣␣␣␣␣␣␣␣␣␣␣␣␣␣␣␣␣␣␣␣␣␣␣␣␣␣␣␣␣␣␣␣␣␣␣␣␣␣␣␣␣␣␣␣␣␣␣␣␣␣␣␣␣␣␣␣␣␣␣␣␣␣␣␣␣␣␣␣␣␣␣␣␣␣␣␣␣␣␣␣␣␣␣␣␣␣␣␣␣␣␣␣␣␣␣␣␣␣␣␣␣␣␣␣␣␣␣␣␣␣␣␣␣␣␣␣␣␣␣␣␣␣␣␣␣␣␣␣␣␣␣␣␣␣␣␣␣␣␣␣␣␣␣␣␣␣␣␣␣␣␣␣␣␣␣␣\n",
      "\n",
      "\n",
      "\n",
      "Attempt: \"A\" + 0.8\n",
      "-----------------------------------\n",
      "📚AFBROOD BOOK Summer Crudite.\n",
      "▪︎ BAKE 22 to 25 minutes or until golden brown. Cool about 15 minutes then serve with BBQ sauce for making chilled oranges.\n",
      "▪︎ When ready to serve, stir well briefly into cream\n",
      "▪︎ Place sour cream in a mortar and pestle to coat. Shake cornstarch mixture until chopped. Serve alongside or cut into chunks.\n",
      "▪︎ Combine cooked onion and cranberries in large bowl. Sprinkle a little sugar mixture over meat and serve.\n",
      "␣␣␣␣␣␣␣␣␣␣␣␣␣␣␣␣␣␣␣␣␣␣␣␣␣␣␣␣␣␣␣␣␣␣␣␣␣␣␣␣␣␣␣␣␣␣␣␣␣␣␣␣␣␣␣␣␣␣␣␣␣␣␣␣␣␣␣␣␣␣␣␣␣␣␣␣␣␣␣␣␣␣␣␣␣␣␣␣␣␣␣␣␣␣␣␣␣␣␣␣␣␣␣␣␣␣␣␣␣␣␣␣␣␣␣␣␣␣␣␣␣␣␣␣␣␣␣␣␣␣␣␣␣␣␣␣␣␣␣␣␣␣␣␣␣␣␣␣␣␣␣␣␣␣␣␣␣␣␣␣␣␣␣␣␣␣␣␣␣␣␣␣␣␣␣␣␣␣␣␣␣␣␣␣␣␣␣␣␣␣␣␣␣␣␣␣␣␣␣␣␣␣␣␣␣␣␣␣␣␣␣␣␣␣␣␣␣␣␣␣␣␣␣␣␣␣␣␣␣␣␣␣␣␣␣␣␣␣␣␣␣␣␣␣␣␣␣␣␣␣␣␣␣␣␣␣␣␣␣␣␣␣␣␣␣␣␣␣␣␣␣␣␣␣␣␣␣␣␣␣␣␣␣␣␣␣␣␣␣␣␣␣␣␣␣␣␣␣␣␣␣␣␣␣␣␣␣␣␣␣␣␣␣␣␣␣␣␣␣␣␣␣␣␣␣␣␣␣␣␣␣␣␣␣␣␣␣␣␣␣␣␣␣␣␣␣␣␣␣␣␣␣␣␣␣␣␣␣␣␣␣␣␣␣␣␣␣␣␣␣␣␣␣␣␣␣␣␣␣␣␣␣␣␣␣␣␣␣␣␣␣␣␣␣␣␣␣␣␣␣␣␣␣␣␣␣␣␣␣␣␣␣␣␣␣␣␣␣␣␣␣␣␣␣␣␣␣␣␣␣␣␣␣␣␣␣␣␣␣␣␣␣␣␣␣␣␣␣␣␣␣␣␣␣␣␣␣␣␣␣␣␣␣␣␣␣␣␣␣␣␣␣␣␣␣␣␣␣␣␣␣␣␣␣␣␣␣␣␣␣␣␣␣␣␣␣␣␣␣␣␣␣␣␣␣␣␣␣␣␣␣␣␣␣␣␣␣␣␣␣␣␣␣␣␣␣␣␣␣␣␣␣␣␣␣␣␣␣␣␣␣␣␣␣␣␣␣␣␣␣␣␣␣␣␣␣␣␣␣\n",
      "\n",
      "\n",
      "\n",
      "Attempt: \"B\" + 1.0\n",
      "-----------------------------------\n",
      "📚BER RELLONG \n",
      "\n",
      "🌶️\n",
      "\n",
      "▪︎ Equal amounts\n",
      "• Oven mitts\n",
      "• 2 -.6 oz. washed and chipped nuts\n",
      "\n",
      "🧑‍🍳\n",
      "\n",
      "▪︎ Fill tamale deep-frying heated foil above medium heat. Make hang 4-inches in with some clear instructions. Next, Make ice Creation: in a hot saute pan coated lobster with canola oil. Add pineapple and shallots. Cook over medium heat until golden brown, about 5 minutes, then place in stick fork on a heated bowl.\n",
      "▪︎ Transfer by cooking each indentation to a pattern with an ice crack set to steam the directions on the center.\n",
      "▪︎ Serve with the whipped cream.\n",
      "␣␣␣␣␣␣␣␣␣␣␣␣␣␣␣␣␣␣␣␣␣␣␣␣␣␣␣␣␣␣␣␣␣␣␣␣␣␣␣␣␣␣␣␣␣␣␣␣␣␣␣␣␣␣␣␣␣␣␣␣␣␣␣␣␣␣␣␣␣␣␣␣␣␣␣␣␣␣␣␣␣␣␣␣␣␣␣␣␣␣␣␣␣␣␣␣␣␣␣␣␣␣␣␣␣␣␣␣␣␣␣␣␣␣␣␣␣␣␣␣␣␣␣␣␣␣␣␣␣␣␣␣␣␣␣␣␣␣␣␣␣␣␣␣␣␣␣␣␣␣␣␣␣␣␣␣␣␣␣␣␣␣␣␣␣␣␣␣␣␣␣␣␣␣␣␣␣␣␣␣␣␣␣␣␣␣␣␣␣␣␣␣␣␣␣␣␣␣␣␣␣␣␣␣␣␣␣␣␣␣␣␣␣␣␣␣␣␣␣␣␣␣␣␣␣␣␣␣␣␣␣␣␣␣␣␣␣␣␣␣␣␣␣␣␣␣␣␣␣␣␣␣␣␣␣␣␣␣␣␣␣␣␣␣␣␣␣␣␣␣␣␣␣␣␣␣␣␣␣␣␣␣␣␣␣␣␣␣␣␣␣␣␣␣␣␣␣␣␣␣␣␣␣␣␣␣␣␣␣␣␣␣␣␣␣␣␣␣␣␣␣␣␣␣␣␣␣␣␣␣␣␣␣␣␣␣␣␣␣␣␣␣␣␣␣␣␣␣␣␣␣␣␣␣␣␣␣␣␣␣␣␣␣␣␣␣␣␣␣␣␣␣␣␣␣␣␣␣␣␣␣␣␣␣␣␣␣␣␣␣␣␣␣␣␣␣␣␣␣␣␣␣␣␣␣␣␣␣␣␣␣␣␣␣␣␣␣␣␣␣␣␣␣␣␣␣␣␣␣␣␣␣␣␣␣␣␣␣␣␣␣␣␣␣␣␣␣␣\n",
      "\n",
      "\n",
      "\n",
      "Attempt: \"B\" + 0.8\n",
      "-----------------------------------\n",
      "📚BURISOSTEAD TOLL HUSHATONTE SHERNED: In a large bowl\n",
      "▪︎ Toss chicken with 1 tablespoon melted butter in a bowl.\n",
      "▪︎ Press egg-curl coffee granite dough into bottom of tray for rare to drain.\n",
      "▪︎ Fold chicken into rectangle in half. In batches, heat 1 tablespoon butter and 1 tablespoon coconut oil. Set on remaining oil in skillets. Cook chicken and shrimp until golden brown and crisp, about 2 minutes on each side. Remove chicken from pan and drain off chicken from pan. Place shrimp on skewers or ceramic crepe pancakes and repeat with remaining one. Serve with mayo.\n",
      "␣␣␣␣␣␣␣␣␣␣␣␣␣␣␣␣␣␣␣␣␣␣␣␣␣␣␣␣␣␣␣␣␣␣␣␣␣␣␣␣␣␣␣␣␣␣␣␣␣␣␣␣␣␣␣␣␣␣␣␣␣␣␣␣␣␣␣␣␣␣␣␣␣␣␣␣␣␣␣␣␣␣␣␣␣␣␣␣␣␣␣␣␣␣␣␣␣␣␣␣␣␣␣␣␣␣␣␣␣␣␣␣␣␣␣␣␣␣␣␣␣␣␣␣␣␣␣␣␣␣␣␣␣␣␣␣␣␣␣␣␣␣␣␣␣␣␣␣␣␣␣␣␣␣␣␣␣␣␣␣␣␣␣␣␣␣␣␣␣␣␣␣␣␣␣␣␣␣␣␣␣␣␣␣␣␣␣␣␣␣␣␣␣␣␣␣␣␣␣␣␣␣␣␣␣␣␣␣␣␣␣␣␣␣␣␣␣␣␣␣␣␣␣␣␣␣␣␣␣␣␣␣␣␣␣␣␣␣␣␣␣␣␣␣␣␣␣␣␣␣␣␣␣␣␣␣␣␣␣␣␣␣␣␣␣␣␣␣␣␣␣␣␣␣␣␣␣␣␣␣␣␣␣␣␣␣␣␣␣␣␣␣␣␣␣␣␣␣␣␣␣␣␣␣␣␣␣␣␣␣␣␣␣␣␣␣␣␣␣␣␣␣␣␣␣␣␣␣␣␣␣␣␣␣␣␣␣␣␣␣␣␣␣␣␣␣␣␣␣␣␣␣␣␣␣␣␣␣␣␣␣␣␣␣␣␣␣␣␣␣␣␣␣␣␣␣␣␣␣␣␣␣␣␣␣␣␣␣␣␣␣␣␣␣␣␣␣␣␣␣␣␣␣␣␣␣␣␣␣␣␣␣␣␣␣␣␣␣␣␣␣␣␣␣␣␣␣␣␣␣␣␣\n",
      "\n",
      "\n",
      "\n",
      "Attempt: \"C\" + 1.0\n",
      "-----------------------------------\n",
      "📚CRVERBER COUPHIR THEGES . In a large mixing bowl, whisk the peanuts, coconut oil, butter and honey together until well combined.\n",
      "▪︎ Sprinkle batter with flour or candied ginger and toss until coated. Fold in jam. Raise corn to the dish and spread in microwave process and bake for 50 to 60 minutes until done.\n",
      "␣␣␣␣␣␣␣␣␣␣␣␣␣␣␣␣␣␣␣␣␣␣␣␣␣␣␣␣␣␣␣␣␣␣␣␣␣␣␣␣␣␣␣␣␣␣␣␣␣␣␣␣␣␣␣␣␣␣␣␣␣␣␣␣␣␣␣␣␣␣␣␣␣␣␣␣␣␣␣␣␣␣␣␣␣␣␣␣␣␣␣␣␣␣␣␣␣␣␣␣␣␣␣␣␣␣␣␣␣␣␣␣␣␣␣␣␣␣␣␣␣␣␣␣␣␣␣␣␣␣␣␣␣␣␣␣␣␣␣␣␣␣␣␣␣␣␣␣␣␣␣␣␣␣␣␣␣␣␣␣␣␣␣␣␣␣␣␣␣␣␣␣␣␣␣␣␣␣␣␣␣␣␣␣␣␣␣␣␣␣␣␣␣␣␣␣␣␣␣␣␣␣␣␣␣␣␣␣␣␣␣␣␣␣␣␣␣␣␣␣␣␣␣␣␣␣␣␣␣␣␣␣␣␣␣␣␣␣␣␣␣␣␣␣␣␣␣␣␣␣␣␣␣␣␣␣␣␣␣␣␣␣␣␣␣␣␣␣␣␣␣␣␣␣␣␣␣␣␣␣␣␣␣␣␣␣␣␣␣␣␣␣␣␣␣␣␣␣␣␣␣␣␣␣␣␣␣␣␣␣␣␣␣␣␣␣␣␣␣␣␣␣␣␣␣␣␣␣␣␣␣␣␣␣␣␣␣␣␣␣␣␣␣␣␣␣␣␣␣␣␣␣␣␣␣␣␣␣␣␣␣␣␣␣␣␣␣␣␣␣␣␣␣␣␣␣␣␣␣␣␣␣␣␣␣␣␣␣␣␣␣␣␣␣␣␣␣␣␣␣␣␣␣␣␣␣␣␣␣␣␣␣␣␣␣␣␣␣␣␣␣␣␣␣␣␣␣␣␣␣␣␣␣␣␣␣␣␣␣␣␣␣␣␣␣␣␣␣␣␣␣␣␣␣␣␣␣␣␣␣␣␣␣␣␣␣␣␣␣␣␣␣␣␣␣␣␣␣␣␣␣␣␣␣␣␣␣␣␣␣␣␣␣␣␣␣␣␣␣␣␣␣␣␣␣␣␣␣␣␣␣␣␣␣␣␣␣␣␣␣␣␣␣␣␣␣␣␣␣␣␣␣␣␣␣␣␣␣␣␣␣␣␣␣␣␣␣␣␣␣␣␣␣␣␣␣␣␣␣␣␣␣␣␣␣␣␣␣␣␣␣␣␣␣␣␣␣␣␣␣␣␣␣␣␣␣␣␣␣␣␣␣␣␣␣␣␣␣␣␣␣␣␣␣␣␣␣␣␣␣␣␣␣␣␣␣␣␣␣␣␣␣␣␣␣␣␣␣␣␣␣␣␣␣␣␣␣␣␣␣␣␣␣␣␣␣␣␣␣␣␣␣␣␣␣␣␣␣␣␣␣␣␣␣␣␣␣␣␣␣␣␣␣␣␣␣␣␣␣␣␣␣␣␣␣␣␣␣␣␣␣\n",
      "\n",
      "\n",
      "\n",
      "Attempt: \"C\" + 0.8\n",
      "-----------------------------------\n",
      "📚CHOOO\n",
      "▪︎ Remove chicken from the mixture with a small knife into the body and melt into four 4-ounce candy cheesecloth. Chop into pieces. Place mashed potatoes in a bowl, and dredge lightly, and then coat both sides. Wrap each piece in a layer of plastic wrap over the cheese mixture, then put into the middle of the pan. Roll up as many around the edge of the dough into the bottom crust. Repeat with remaining portions of flounder, flat side up, on a work surface. Repeat the process with a rolling pin. Carefully remove the foil and slice lengthwise down the sides of the bread. Brush the edge of the pastry with the egg wash.\n",
      "▪︎ Spray a cake pan with cooking spray and season with salt and pepper. Brush with some of the egg mixture and bake until the crust bacon has browned and cooked through, 20 to 25 minutes.\n",
      "▪︎ Turn legs out onto a serving platter and transfer to a large platter.\n",
      "␣␣␣␣␣␣␣␣␣␣␣␣␣␣␣␣␣␣␣␣␣␣␣␣␣␣␣␣␣␣␣␣␣␣␣␣␣␣␣␣␣␣␣␣␣␣␣␣␣␣␣␣␣␣␣␣␣␣␣␣␣␣␣␣␣␣␣␣␣␣␣␣␣␣␣␣␣␣␣␣␣␣␣␣␣␣␣␣␣␣␣␣␣␣␣␣␣␣␣␣␣␣␣␣␣␣␣␣␣␣\n",
      "\n",
      "\n",
      "\n",
      "Attempt: \"Mushroom\" + 1.0\n",
      "-----------------------------------\n",
      "📚Mushroom, Strawberries, and Sundae with Maple Syrup\n",
      "\n",
      "🌶️\n",
      "\n",
      "• 3 cups soft lettuce strips\n",
      "• 1 1/2 cups cream\n",
      "• 3/4 cup honey\n",
      "• 2 tablespoons apple cider vinegar\n",
      "• 1 tablespoon honey\n",
      "• 1/4 teaspoon freshly grated nutmeg\n",
      "• 2 tablespoons unsalted butter\n",
      "• 1/4 pound sorrel leaves\n",
      "\n",
      "🧑‍🍳\n",
      "\n",
      "▪︎ Stir wine, cinnamon, and nutmeg in a small saucepan, and bring to a low simmer. Cook until the sugar dissolves completely, 5 to 6 minutes. Remove from heat. Drop all of the avocado in a small bowl. The next day, whisk in the spiced ginger and the honey and whisk to blend, then add the orange-zest and adjust the seasoning with salt and pepper, to taste. Toss and ladle the sauce over.\n",
      "␣␣␣␣␣␣␣␣␣␣␣␣␣␣␣␣␣␣␣␣␣␣␣␣␣␣␣␣␣␣␣␣␣␣␣␣␣␣␣␣␣␣␣␣␣␣␣␣␣␣␣␣␣␣␣␣␣␣␣␣␣␣␣␣␣␣␣␣␣␣␣␣␣␣␣␣␣␣␣␣␣␣␣␣␣␣␣␣␣␣␣␣␣␣␣␣␣␣␣␣␣␣␣␣␣␣␣␣␣␣␣␣␣␣␣␣␣␣␣␣␣␣␣␣␣␣␣␣␣␣␣␣␣␣␣␣␣␣␣␣␣␣␣␣␣␣␣␣␣␣␣␣␣␣␣␣␣␣␣␣␣␣␣␣␣␣␣␣␣␣␣␣␣␣␣␣␣␣␣␣␣␣␣␣␣␣␣␣␣␣␣␣␣␣␣␣␣␣␣␣␣␣␣␣␣␣␣␣␣␣␣␣␣␣␣␣␣␣␣␣␣␣␣␣␣␣␣␣␣␣␣␣␣␣␣␣␣␣␣␣␣␣␣␣␣␣␣␣␣␣␣␣␣␣␣␣␣␣␣␣␣␣␣␣␣␣␣␣␣␣␣␣␣␣␣␣␣␣␣␣␣␣␣␣␣␣␣␣␣␣␣␣␣␣␣␣␣␣␣␣␣␣␣␣␣␣␣␣␣␣␣␣␣␣␣␣␣␣␣␣␣␣␣␣␣␣␣␣␣␣␣␣␣␣␣␣␣␣␣␣\n",
      "\n",
      "\n",
      "\n",
      "Attempt: \"Mushroom\" + 0.8\n",
      "-----------------------------------\n",
      "📚Mushroom Cups\n",
      "\n",
      "🌶️\n",
      "\n",
      "• 1 (12-ounce) package farmer's cheese (preferred spicy marmalade)\n",
      "• 4 thin slices rosemary sausage, sliced into thirds\n",
      "• 4 slices bacon, cooked and chopped\n",
      "• 2 cups buttermilk\n",
      "• 8 fresh chives, sliced (optional)\n",
      "\n",
      "🧑‍🍳\n",
      "\n",
      "▪︎ Split the butter into smaller chunks and set aside.\n",
      "▪︎ Toss the cabbage with 2 tablespoons of the ranch dressing to coat and season with salt and pepper. Roast the bacon over medium heat, covered, for 15 minutes.\n",
      "▪︎ Meanwhile, drop a little of reserved cooking liquid over the beans and crush the top halves together. Strain the juices and season with salt and pepper. Drizzle them with the dressing, if needed. Season with salt and pepper, and serve immediately.\n",
      "␣␣␣␣␣␣␣␣␣␣␣␣␣␣␣␣␣␣␣␣␣␣␣␣␣␣␣␣␣␣␣␣␣␣␣␣␣␣␣␣␣␣␣␣␣␣␣␣␣␣␣␣␣␣␣␣␣␣␣␣␣␣␣␣␣␣␣␣␣␣␣␣␣␣␣␣␣␣␣␣␣␣␣␣␣␣␣␣␣␣␣␣␣␣␣␣␣␣␣␣␣␣␣␣␣␣␣␣␣␣␣␣␣␣␣␣␣␣␣␣␣␣␣␣␣␣␣␣␣␣␣␣␣␣␣␣␣␣␣␣␣␣␣␣␣␣␣␣␣␣␣␣␣␣␣␣␣␣␣␣␣␣␣␣␣␣␣␣␣␣␣␣␣␣␣␣␣␣␣␣␣␣␣␣␣␣␣␣␣␣␣␣␣␣␣␣␣␣␣␣␣␣␣␣␣␣␣␣␣␣␣␣␣␣␣␣␣␣␣␣␣␣␣␣␣␣␣␣␣␣␣␣␣␣␣␣␣␣␣␣␣␣␣␣␣␣␣␣␣␣␣␣␣␣␣␣␣␣␣␣␣␣␣␣␣␣␣␣␣␣␣␣␣␣␣␣␣␣␣␣␣␣␣␣␣␣␣␣␣␣␣␣␣␣␣␣␣␣␣␣␣␣␣\n",
      "\n",
      "\n",
      "\n",
      "Attempt: \"The\" + 1.0\n",
      "-----------------------------------\n",
      "📚The Whipped Cream\n",
      "\n",
      "🌶️\n",
      "\n",
      "• 1/2 cup Dunke-fandoous rolls, recipe follows\n",
      "• 20 eggs, beaten\n",
      "• 1 tablespoon vanilla extract\n",
      "• 1 cup whole milk\n",
      "• 2 teaspoons maple syrup (or coarse salt\n",
      "• 1 cup brown sugar\n",
      "• 2/3 cup self-rising flour\n",
      "• 2 teaspoons baking soda\n",
      "• 1 teaspoon pumpkin pie spice\n",
      "• 1/2 cup olive oil\n",
      "\n",
      "🧑‍🍳\n",
      "\n",
      "▪︎ Watch how to make this recipe.\n",
      "▪︎ Preheat oven to 350 degrees F.\n",
      "▪︎ Dump and bring a large pot of water to the simmer. When the rice is hot but not soft add about 15/2 milk caramelized asparagus and 1/4 cup of chicken stock. Take should spequit lose its flow can easily. Remove the pan from the heat and let cool.\n",
      "▪︎ When the craisies have cooled and the dried be really dry color, peel the apples. With a floured rolling pin, measure 1 tablespoon zest of the plums and squeeze the coconut side up and discard the seeds. Squeeze the zest from the peanuts in the bowl and set aside to warm-risotto but do not dry. Remove the pumpkin from the grinder coffee grinder, discard the skins, close\n",
      "\n",
      "\n",
      "\n",
      "Attempt: \"The\" + 0.8\n",
      "-----------------------------------\n",
      "📚The Vinho!\n",
      "\n",
      "🧑‍🍳\n",
      "\n",
      "▪︎ Combine all ingredients in a large saucepan and warm over medium heat until mixture thickens. Serve over green tomato and pears and garnished with mint sprigs.\n",
      "␣␣␣␣␣␣␣␣␣␣␣␣␣␣␣␣␣␣␣␣␣␣␣␣␣␣␣␣␣␣␣␣␣␣␣␣␣␣␣␣␣␣␣␣␣␣␣␣␣␣␣␣␣␣␣␣␣␣␣␣␣␣␣␣␣␣␣␣␣␣␣␣␣␣␣␣␣␣␣␣␣␣␣␣␣␣␣␣␣␣␣␣␣␣␣␣␣␣␣␣␣␣␣␣␣␣␣␣␣␣␣␣␣␣␣␣␣␣␣␣␣␣␣␣␣␣␣␣␣␣␣␣␣␣␣␣␣␣␣␣␣␣␣␣␣␣␣␣␣␣␣␣␣␣␣␣␣␣␣␣␣␣␣␣␣␣␣␣␣␣␣␣␣␣␣␣␣␣␣␣␣␣␣␣␣␣␣␣␣␣␣␣␣␣␣␣␣␣␣␣␣␣␣␣␣␣␣␣␣␣␣␣␣␣␣␣␣␣␣␣␣␣␣␣␣␣␣␣␣␣␣␣␣␣␣␣␣␣␣␣␣␣␣␣␣␣␣␣␣␣␣␣␣␣␣␣␣␣␣␣␣␣␣␣␣␣␣␣␣␣␣␣␣␣␣␣␣␣␣␣␣␣␣␣␣␣␣␣␣␣␣␣␣␣␣␣␣␣␣␣␣␣␣␣␣␣␣␣␣␣␣␣␣␣␣␣␣␣␣␣␣␣␣␣␣␣␣␣␣␣␣␣␣␣␣␣␣␣␣␣␣␣␣␣␣␣␣␣␣␣␣␣␣␣␣␣␣␣␣␣␣␣␣␣␣␣␣␣␣␣␣␣␣␣␣␣␣␣␣␣␣␣␣␣␣␣␣␣␣␣␣␣␣␣␣␣␣␣␣␣␣␣␣␣␣␣␣␣␣␣␣␣␣␣␣␣␣␣␣␣␣␣␣␣␣␣␣␣␣␣␣␣␣␣␣␣␣␣␣␣␣␣␣␣␣␣␣␣␣␣␣␣␣␣␣␣␣␣␣␣␣␣␣␣␣␣␣␣␣␣␣␣␣␣␣␣␣␣␣␣␣␣␣␣␣␣␣␣␣␣␣␣␣␣␣␣␣␣␣␣␣␣␣␣␣␣␣␣␣␣␣␣␣␣␣␣␣␣␣␣␣␣␣␣␣␣␣␣␣␣␣␣␣␣␣␣␣␣␣␣␣␣␣␣␣␣␣␣␣␣␣␣␣␣␣␣␣␣␣␣␣␣␣␣␣␣␣␣␣␣␣␣␣␣␣␣␣␣␣␣␣␣␣␣␣␣␣␣␣␣␣␣␣␣␣␣␣␣␣␣␣␣␣␣␣␣␣␣␣␣␣␣␣␣␣␣␣␣␣␣␣␣␣␣␣␣␣␣␣␣␣␣␣␣␣␣␣␣␣␣␣␣␣␣␣␣␣␣␣␣␣␣␣␣␣␣␣␣␣␣␣␣␣␣␣␣␣␣␣␣␣␣␣␣␣␣␣␣␣␣␣␣␣␣␣␣␣␣␣␣␣␣␣␣␣␣␣␣␣␣␣␣␣␣␣␣␣␣␣␣␣␣␣␣␣␣␣␣␣␣␣␣␣␣␣␣␣␣␣␣␣␣␣␣␣␣␣␣␣␣␣␣␣␣␣␣␣␣␣␣␣␣␣␣␣␣␣␣␣␣␣␣␣␣␣␣␣␣␣␣␣␣␣␣␣␣␣␣␣␣␣␣␣␣␣␣␣␣␣␣␣␣␣␣␣␣␣␣␣␣␣␣␣␣␣␣␣␣␣␣␣␣␣␣␣␣␣␣␣␣␣␣␣\n",
      "\n",
      "\n",
      "\n",
      "Attempt: \"Sauce\" + 1.0\n",
      "-----------------------------------\n",
      "📚Sauce; Grapefruit Cheese and Green Olive Pepper Dressing\n",
      "\n",
      "🌶️\n",
      "\n",
      "• 1 cup mayonnaise\n",
      "• 1 clove garlic\n",
      "• pinch salt\n",
      "• Pinch salt\n",
      "• Pinch freshly ground black pepper\n",
      "• 6 pounds snow peas\n",
      "• 2 teaspoons salt\n",
      "• Freshly ground black pepper\n",
      "\n",
      "🧑‍🍳\n",
      "\n",
      "▪︎ Preheat oven to 375 degrees F.\n",
      "▪︎ Clean a sheet pan with paper towels. Lay the salmon onto a platter and place on fluted with a 1/2-inch heavy skillet make of your hands. Pour lime juice and sugar into the salmon filled with the herb-style up and peel the shape of the fish and debeard membrane with littleneck like sherry, shell such as penne right. Repeat. As soons are cooked, put back in the grill to cook al dente. Bake immediately or up to 4 hours.\n",
      "▪︎ Preheat oven to 350 degrees F.\n",
      "▪︎ Mash garlic. Pour milk into a rectangular safe plate. Boil 2 gallons of water in another saucepan over medium high heat. Keep not 6 patties. Drain eggs on a plate, fill with rosemary, pears, and cilantro. Serve with crema mixture garnishes.\n",
      "␣␣␣␣␣␣␣␣␣␣␣␣␣␣␣␣␣␣␣␣␣␣␣␣␣␣␣␣␣␣␣␣␣\n",
      "\n",
      "\n",
      "\n",
      "Attempt: \"Sauce\" + 0.8\n",
      "-----------------------------------\n",
      "📚Sauce\n",
      "\n",
      "🌶️\n",
      "\n",
      "• 1 package mini marshmallows\n",
      "• 2 tablespoons melted butter\n",
      "• 1 cup all-purpose flour\n",
      "• 1 teaspoon ground cinnamon\n",
      "• 1 teaspoon salt\n",
      "• 1/2 teaspoon baking soda\n",
      "• 1/2 teaspoon baking powder\n",
      "• 1/4 teaspoon salt\n",
      "• 1/3 cup milk\n",
      "• 1 egg\n",
      "• 1/2 cup minced candied macaroons\n",
      "• 1 tablespoon vanilla extract\n",
      "• 1 cup pecan halves\n",
      "\n",
      "🧑‍🍳\n",
      "\n",
      "▪︎ For the crust: Preheat the oven to 400 degrees F.\n",
      "▪︎ In a medium bowl, mix the flour, sugar and baking powder, about 1 to 2 tablespoons water until well blended. Add the buttermilk, milk, and buttermilk. Mix with a wooden spoon to combine.\n",
      "▪︎ In a separate bowl, combine 3 tablespoons butter, 1/4 cup of sugar, and the eggs. Add the remaining 1/2 cup powdered sugar, vanilla, and salt to the flour mixture; add the bread cubes and mix well, then lightly add the wet ingredients in a thin, steady stream until the mixture is completely smooth. This will make the liquid is lumpy. Form the dough into 1-inch balls. Wrap each piece into a large rectangle or pastry shel\n",
      "\n",
      "\n",
      "\n",
      "Attempt: \"Spinach\" + 1.0\n",
      "-----------------------------------\n",
      "📚Spinach Bran Chunky Crab\n",
      "\n",
      "🧑‍🍳\n",
      "\n",
      "▪︎ In a medium size glass bowl, whisk the eggs buttermilk, butter, and salt and sweet butter until the hisks creamy. Form the rice mixture into 20 balls.\n",
      "▪︎ Form the dough into a ball and drop a bamboo or cookie dough onto a bamboo steamer, smoothing the end during roasting time. Drizzle the melted butter, lightly pour in the water and swirl to coat the bottom. Once all hot get hot traditional aroma sand because it doesn't bulsk omelet prevent this force that has a tubilly stuck the way you prepare the streusel dipping for the long side to Lay The trei meet of any any not before edge easily.) Wait until brewhed in color, about 3 to 4 minutes. Meanwhile, place the corned beef over the prepared baking dish. Put the gooseberries and green peppers on top of the mixture and bake 30 minutes. Remove to a cutting board and let stand 1 hour or overnight.\n",
      "␣␣␣␣␣␣␣␣␣␣␣␣␣␣␣␣␣␣␣␣␣␣␣␣␣␣␣␣␣␣␣␣␣␣␣␣␣␣␣␣␣␣␣␣␣␣␣␣␣␣␣␣␣␣␣␣␣␣␣␣␣␣␣␣␣␣␣␣␣␣␣␣␣␣␣␣␣␣␣␣␣␣␣␣␣␣␣␣␣␣␣␣␣␣␣␣␣␣␣␣␣␣␣␣␣␣␣␣␣␣␣␣␣␣␣␣␣␣\n",
      "\n",
      "\n",
      "\n",
      "Attempt: \"Spinach\" + 0.8\n",
      "-----------------------------------\n",
      "📚Spinach Salted Caramel Sauce\n",
      "\n",
      "🧑‍🍳\n",
      "\n",
      "▪︎ Fill a large pot with water and bring to a boil. Add the butter, covered the dish with foil and boil for 1 minute. Remove from the pot with a cloth in the slow cooker, and add the pear jelly and the salt. Cut the corn into small cubes and serve warm.\n",
      "␣␣␣␣␣␣␣␣␣␣␣␣␣␣␣␣␣␣␣␣␣␣␣␣␣␣␣␣␣␣␣␣␣␣␣␣␣␣␣␣␣␣␣␣␣␣␣␣␣␣␣␣␣␣␣␣␣␣␣␣␣␣␣␣␣␣␣␣␣␣␣␣␣␣␣␣␣␣␣␣␣␣␣␣␣␣␣␣␣␣␣␣␣␣␣␣␣␣␣␣␣␣␣␣␣␣␣␣␣␣␣␣␣␣␣␣␣␣␣␣␣␣␣␣␣␣␣␣␣␣␣␣␣␣␣␣␣␣␣␣␣␣␣␣␣␣␣␣␣␣␣␣␣␣␣␣␣␣␣␣␣␣␣␣␣␣␣␣␣␣␣␣␣␣␣␣␣␣␣␣␣␣␣␣␣␣␣␣␣␣␣␣␣␣␣␣␣␣␣␣␣␣␣␣␣␣␣␣␣␣␣␣␣␣␣␣␣␣␣␣␣␣␣␣␣␣␣␣␣␣␣␣␣␣␣␣␣␣␣␣␣␣␣␣␣␣␣␣␣␣␣␣␣␣␣␣␣␣␣␣␣␣␣␣␣␣␣␣␣␣␣␣␣␣␣␣␣␣␣␣␣␣␣␣␣␣␣␣␣␣␣␣␣␣␣␣␣␣␣␣␣␣␣␣␣␣␣␣␣␣␣␣␣␣␣␣␣␣␣␣␣␣␣␣␣␣␣␣␣␣␣␣␣␣␣␣␣␣␣␣␣␣␣␣␣␣␣␣␣␣␣␣␣␣␣␣␣␣␣␣␣␣␣␣␣␣␣␣␣␣␣␣␣␣␣␣␣␣␣␣␣␣␣␣␣␣␣␣␣␣␣␣␣␣␣␣␣␣␣␣␣␣␣␣␣␣␣␣␣␣␣␣␣␣␣␣␣␣␣␣␣␣␣␣␣␣␣␣␣␣␣␣␣␣␣␣␣␣␣␣␣␣␣␣␣␣␣␣␣␣␣␣␣␣␣␣␣␣␣␣␣␣␣␣␣␣␣␣␣␣␣␣␣␣␣␣␣␣␣␣␣␣␣␣␣␣␣␣␣␣␣␣␣␣␣␣␣␣␣␣␣␣␣␣␣␣␣␣␣␣␣␣␣␣␣␣␣␣␣␣␣␣␣␣␣␣␣␣␣␣␣␣␣␣␣␣␣␣␣␣␣␣␣␣␣␣␣␣␣␣␣␣␣␣␣␣␣␣␣␣␣␣␣␣␣␣␣␣␣␣␣␣␣␣␣␣␣␣␣␣␣␣␣␣␣␣␣␣␣␣␣␣␣␣␣␣␣␣␣␣␣␣␣␣␣␣␣␣␣␣␣␣␣␣␣␣␣␣␣␣␣␣␣␣␣␣␣␣␣␣␣␣␣␣␣␣␣␣␣␣␣␣␣␣␣␣␣␣␣␣␣␣␣␣␣␣␣␣␣␣␣␣␣␣␣␣␣␣␣␣␣␣␣␣␣␣␣␣␣␣␣␣␣␣␣␣␣␣␣␣␣␣␣␣␣␣␣␣␣␣␣␣␣␣␣␣␣␣␣␣␣␣␣␣␣␣␣␣\n",
      "\n",
      "\n",
      "\n"
     ]
    }
   ],
   "source": [
    "generate_combinations(model)"
   ]
  },
  {
   "cell_type": "code",
   "execution_count": null,
   "metadata": {},
   "outputs": [],
   "source": []
  }
 ],
 "metadata": {
  "kernelspec": {
   "display_name": "deep_learning",
   "language": "python",
   "name": "python3"
  },
  "language_info": {
   "codemirror_mode": {
    "name": "ipython",
    "version": 3
   },
   "file_extension": ".py",
   "mimetype": "text/x-python",
   "name": "python",
   "nbconvert_exporter": "python",
   "pygments_lexer": "ipython3",
   "version": "3.10.9"
  },
  "orig_nbformat": 4,
  "vscode": {
   "interpreter": {
    "hash": "3cf227bf53f41e06d2b77a480148413aa9f895a9ebd4138270d7ab9cca65221e"
   }
  }
 },
 "nbformat": 4,
 "nbformat_minor": 2
}
